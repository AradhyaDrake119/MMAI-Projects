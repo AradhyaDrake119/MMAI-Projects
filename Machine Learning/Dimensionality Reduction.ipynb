{
 "cells": [
  {
   "cell_type": "code",
   "execution_count": 1,
   "id": "a3b8f1d5",
   "metadata": {},
   "outputs": [],
   "source": [
    "#Dataframe Operations\n",
    "\n",
    "import pandas as pd\n",
    "\n",
    "#Mathematical Operations\n",
    "\n",
    "import numpy as np\n",
    "\n",
    "#Data Visualization\n",
    "\n",
    "import matplotlib.pyplot as plt\n",
    "import seaborn as sns"
   ]
  },
  {
   "cell_type": "code",
   "execution_count": 2,
   "id": "b3f7d43c",
   "metadata": {},
   "outputs": [
    {
     "data": {
      "text/plain": [
       "(1470, 35)"
      ]
     },
     "execution_count": 2,
     "metadata": {},
     "output_type": "execute_result"
    }
   ],
   "source": [
    "#Read CSV\n",
    "\n",
    "data = pd.read_csv('employee.csv')\n",
    "\n",
    "#Check Shape \n",
    "\n",
    "data.shape"
   ]
  },
  {
   "cell_type": "code",
   "execution_count": 3,
   "id": "e1e672b7",
   "metadata": {},
   "outputs": [
    {
     "data": {
      "text/html": [
       "<div>\n",
       "<style scoped>\n",
       "    .dataframe tbody tr th:only-of-type {\n",
       "        vertical-align: middle;\n",
       "    }\n",
       "\n",
       "    .dataframe tbody tr th {\n",
       "        vertical-align: top;\n",
       "    }\n",
       "\n",
       "    .dataframe thead th {\n",
       "        text-align: right;\n",
       "    }\n",
       "</style>\n",
       "<table border=\"1\" class=\"dataframe\">\n",
       "  <thead>\n",
       "    <tr style=\"text-align: right;\">\n",
       "      <th></th>\n",
       "      <th>Age</th>\n",
       "      <th>Attrition</th>\n",
       "      <th>BusinessTravel</th>\n",
       "      <th>DailyRate</th>\n",
       "      <th>Department</th>\n",
       "      <th>DistanceFromHome</th>\n",
       "      <th>Education</th>\n",
       "      <th>EducationField</th>\n",
       "      <th>EmployeeCount</th>\n",
       "      <th>EmployeeNumber</th>\n",
       "      <th>...</th>\n",
       "      <th>RelationshipSatisfaction</th>\n",
       "      <th>StandardHours</th>\n",
       "      <th>StockOptionLevel</th>\n",
       "      <th>TotalWorkingYears</th>\n",
       "      <th>TrainingTimesLastYear</th>\n",
       "      <th>WorkLifeBalance</th>\n",
       "      <th>YearsAtCompany</th>\n",
       "      <th>YearsInCurrentRole</th>\n",
       "      <th>YearsSinceLastPromotion</th>\n",
       "      <th>YearsWithCurrManager</th>\n",
       "    </tr>\n",
       "  </thead>\n",
       "  <tbody>\n",
       "    <tr>\n",
       "      <th>0</th>\n",
       "      <td>41</td>\n",
       "      <td>Yes</td>\n",
       "      <td>Travel_Rarely</td>\n",
       "      <td>1102</td>\n",
       "      <td>Sales</td>\n",
       "      <td>1</td>\n",
       "      <td>2</td>\n",
       "      <td>Life Sciences</td>\n",
       "      <td>1</td>\n",
       "      <td>1</td>\n",
       "      <td>...</td>\n",
       "      <td>1</td>\n",
       "      <td>80</td>\n",
       "      <td>0</td>\n",
       "      <td>8</td>\n",
       "      <td>0</td>\n",
       "      <td>1</td>\n",
       "      <td>6</td>\n",
       "      <td>4</td>\n",
       "      <td>0</td>\n",
       "      <td>5</td>\n",
       "    </tr>\n",
       "    <tr>\n",
       "      <th>1</th>\n",
       "      <td>49</td>\n",
       "      <td>No</td>\n",
       "      <td>Travel_Frequently</td>\n",
       "      <td>279</td>\n",
       "      <td>Research &amp; Development</td>\n",
       "      <td>8</td>\n",
       "      <td>1</td>\n",
       "      <td>Life Sciences</td>\n",
       "      <td>1</td>\n",
       "      <td>2</td>\n",
       "      <td>...</td>\n",
       "      <td>4</td>\n",
       "      <td>80</td>\n",
       "      <td>1</td>\n",
       "      <td>10</td>\n",
       "      <td>3</td>\n",
       "      <td>3</td>\n",
       "      <td>10</td>\n",
       "      <td>7</td>\n",
       "      <td>1</td>\n",
       "      <td>7</td>\n",
       "    </tr>\n",
       "    <tr>\n",
       "      <th>2</th>\n",
       "      <td>37</td>\n",
       "      <td>Yes</td>\n",
       "      <td>Travel_Rarely</td>\n",
       "      <td>1373</td>\n",
       "      <td>Research &amp; Development</td>\n",
       "      <td>2</td>\n",
       "      <td>2</td>\n",
       "      <td>Other</td>\n",
       "      <td>1</td>\n",
       "      <td>4</td>\n",
       "      <td>...</td>\n",
       "      <td>2</td>\n",
       "      <td>80</td>\n",
       "      <td>0</td>\n",
       "      <td>7</td>\n",
       "      <td>3</td>\n",
       "      <td>3</td>\n",
       "      <td>0</td>\n",
       "      <td>0</td>\n",
       "      <td>0</td>\n",
       "      <td>0</td>\n",
       "    </tr>\n",
       "    <tr>\n",
       "      <th>3</th>\n",
       "      <td>33</td>\n",
       "      <td>No</td>\n",
       "      <td>Travel_Frequently</td>\n",
       "      <td>1392</td>\n",
       "      <td>Research &amp; Development</td>\n",
       "      <td>3</td>\n",
       "      <td>4</td>\n",
       "      <td>Life Sciences</td>\n",
       "      <td>1</td>\n",
       "      <td>5</td>\n",
       "      <td>...</td>\n",
       "      <td>3</td>\n",
       "      <td>80</td>\n",
       "      <td>0</td>\n",
       "      <td>8</td>\n",
       "      <td>3</td>\n",
       "      <td>3</td>\n",
       "      <td>8</td>\n",
       "      <td>7</td>\n",
       "      <td>3</td>\n",
       "      <td>0</td>\n",
       "    </tr>\n",
       "    <tr>\n",
       "      <th>4</th>\n",
       "      <td>27</td>\n",
       "      <td>No</td>\n",
       "      <td>Travel_Rarely</td>\n",
       "      <td>591</td>\n",
       "      <td>Research &amp; Development</td>\n",
       "      <td>2</td>\n",
       "      <td>1</td>\n",
       "      <td>Medical</td>\n",
       "      <td>1</td>\n",
       "      <td>7</td>\n",
       "      <td>...</td>\n",
       "      <td>4</td>\n",
       "      <td>80</td>\n",
       "      <td>1</td>\n",
       "      <td>6</td>\n",
       "      <td>3</td>\n",
       "      <td>3</td>\n",
       "      <td>2</td>\n",
       "      <td>2</td>\n",
       "      <td>2</td>\n",
       "      <td>2</td>\n",
       "    </tr>\n",
       "  </tbody>\n",
       "</table>\n",
       "<p>5 rows × 35 columns</p>\n",
       "</div>"
      ],
      "text/plain": [
       "   Age Attrition     BusinessTravel  DailyRate              Department  \\\n",
       "0   41       Yes      Travel_Rarely       1102                   Sales   \n",
       "1   49        No  Travel_Frequently        279  Research & Development   \n",
       "2   37       Yes      Travel_Rarely       1373  Research & Development   \n",
       "3   33        No  Travel_Frequently       1392  Research & Development   \n",
       "4   27        No      Travel_Rarely        591  Research & Development   \n",
       "\n",
       "   DistanceFromHome  Education EducationField  EmployeeCount  EmployeeNumber  \\\n",
       "0                 1          2  Life Sciences              1               1   \n",
       "1                 8          1  Life Sciences              1               2   \n",
       "2                 2          2          Other              1               4   \n",
       "3                 3          4  Life Sciences              1               5   \n",
       "4                 2          1        Medical              1               7   \n",
       "\n",
       "   ...  RelationshipSatisfaction StandardHours  StockOptionLevel  \\\n",
       "0  ...                         1            80                 0   \n",
       "1  ...                         4            80                 1   \n",
       "2  ...                         2            80                 0   \n",
       "3  ...                         3            80                 0   \n",
       "4  ...                         4            80                 1   \n",
       "\n",
       "   TotalWorkingYears  TrainingTimesLastYear WorkLifeBalance  YearsAtCompany  \\\n",
       "0                  8                      0               1               6   \n",
       "1                 10                      3               3              10   \n",
       "2                  7                      3               3               0   \n",
       "3                  8                      3               3               8   \n",
       "4                  6                      3               3               2   \n",
       "\n",
       "  YearsInCurrentRole  YearsSinceLastPromotion  YearsWithCurrManager  \n",
       "0                  4                        0                     5  \n",
       "1                  7                        1                     7  \n",
       "2                  0                        0                     0  \n",
       "3                  7                        3                     0  \n",
       "4                  2                        2                     2  \n",
       "\n",
       "[5 rows x 35 columns]"
      ]
     },
     "execution_count": 3,
     "metadata": {},
     "output_type": "execute_result"
    }
   ],
   "source": [
    "#Check Top 5 Rows\n",
    "\n",
    "data.head()"
   ]
  },
  {
   "cell_type": "code",
   "execution_count": 4,
   "id": "5103c440",
   "metadata": {},
   "outputs": [
    {
     "name": "stdout",
     "output_type": "stream",
     "text": [
      "Number of Records in the Dataset:  1470\n",
      "Number of Unique Values in the Employee Count Column:  1\n",
      "Number of Unique Values in the Employee Number Column:  1470\n",
      "Number of Unique Values in the Over 18 Column:  1\n",
      "Number of Unique Values in the Standard Hours Column:  1\n"
     ]
    }
   ],
   "source": [
    "#Find Useless Columns\n",
    "\n",
    "print('Number of Records in the Dataset: ',data.shape[0])\n",
    "print('Number of Unique Values in the Employee Count Column: ',data['EmployeeCount'].nunique())\n",
    "print('Number of Unique Values in the Employee Number Column: ',data['EmployeeNumber'].nunique())\n",
    "print('Number of Unique Values in the Over 18 Column: ',data['Over18'].nunique())\n",
    "print('Number of Unique Values in the Standard Hours Column: ',data['StandardHours'].nunique())"
   ]
  },
  {
   "cell_type": "code",
   "execution_count": 5,
   "id": "05aca68e",
   "metadata": {},
   "outputs": [
    {
     "name": "stdout",
     "output_type": "stream",
     "text": [
      "Number of Columns left in the dataset after removal:  31\n"
     ]
    }
   ],
   "source": [
    "#Remove these columns from dataset\n",
    "\n",
    "data = data.drop(['EmployeeCount','EmployeeNumber','Over18','StandardHours'], axis=1)\n",
    "print('Number of Columns left in the dataset after removal: ',data.shape[1])"
   ]
  },
  {
   "cell_type": "code",
   "execution_count": 6,
   "id": "672a381d",
   "metadata": {},
   "outputs": [
    {
     "data": {
      "text/plain": [
       "Age                         0\n",
       "Attrition                   0\n",
       "BusinessTravel              0\n",
       "DailyRate                   0\n",
       "Department                  0\n",
       "DistanceFromHome            0\n",
       "Education                   0\n",
       "EducationField              0\n",
       "EnvironmentSatisfaction     0\n",
       "Gender                      0\n",
       "HourlyRate                  0\n",
       "JobInvolvement              0\n",
       "JobLevel                    0\n",
       "JobRole                     0\n",
       "JobSatisfaction             0\n",
       "MaritalStatus               0\n",
       "MonthlyIncome               0\n",
       "MonthlyRate                 0\n",
       "NumCompaniesWorked          0\n",
       "OverTime                    0\n",
       "PercentSalaryHike           0\n",
       "PerformanceRating           0\n",
       "RelationshipSatisfaction    0\n",
       "StockOptionLevel            0\n",
       "TotalWorkingYears           0\n",
       "TrainingTimesLastYear       0\n",
       "WorkLifeBalance             0\n",
       "YearsAtCompany              0\n",
       "YearsInCurrentRole          0\n",
       "YearsSinceLastPromotion     0\n",
       "YearsWithCurrManager        0\n",
       "dtype: int64"
      ]
     },
     "execution_count": 6,
     "metadata": {},
     "output_type": "execute_result"
    }
   ],
   "source": [
    "#Missing Values\n",
    "\n",
    "data.isnull().sum()"
   ]
  },
  {
   "cell_type": "code",
   "execution_count": 7,
   "id": "beb885ed",
   "metadata": {},
   "outputs": [
    {
     "data": {
      "text/html": [
       "<div>\n",
       "<style scoped>\n",
       "    .dataframe tbody tr th:only-of-type {\n",
       "        vertical-align: middle;\n",
       "    }\n",
       "\n",
       "    .dataframe tbody tr th {\n",
       "        vertical-align: top;\n",
       "    }\n",
       "\n",
       "    .dataframe thead th {\n",
       "        text-align: right;\n",
       "    }\n",
       "</style>\n",
       "<table border=\"1\" class=\"dataframe\">\n",
       "  <thead>\n",
       "    <tr style=\"text-align: right;\">\n",
       "      <th></th>\n",
       "      <th>Attrition</th>\n",
       "      <th>BusinessTravel</th>\n",
       "      <th>Department</th>\n",
       "      <th>EducationField</th>\n",
       "      <th>Gender</th>\n",
       "      <th>JobRole</th>\n",
       "      <th>MaritalStatus</th>\n",
       "      <th>OverTime</th>\n",
       "    </tr>\n",
       "  </thead>\n",
       "  <tbody>\n",
       "    <tr>\n",
       "      <th>0</th>\n",
       "      <td>Yes</td>\n",
       "      <td>Travel_Rarely</td>\n",
       "      <td>Sales</td>\n",
       "      <td>Life Sciences</td>\n",
       "      <td>Female</td>\n",
       "      <td>Sales Executive</td>\n",
       "      <td>Single</td>\n",
       "      <td>Yes</td>\n",
       "    </tr>\n",
       "    <tr>\n",
       "      <th>1</th>\n",
       "      <td>No</td>\n",
       "      <td>Travel_Frequently</td>\n",
       "      <td>Research &amp; Development</td>\n",
       "      <td>Life Sciences</td>\n",
       "      <td>Male</td>\n",
       "      <td>Research Scientist</td>\n",
       "      <td>Married</td>\n",
       "      <td>No</td>\n",
       "    </tr>\n",
       "    <tr>\n",
       "      <th>2</th>\n",
       "      <td>Yes</td>\n",
       "      <td>Travel_Rarely</td>\n",
       "      <td>Research &amp; Development</td>\n",
       "      <td>Other</td>\n",
       "      <td>Male</td>\n",
       "      <td>Laboratory Technician</td>\n",
       "      <td>Single</td>\n",
       "      <td>Yes</td>\n",
       "    </tr>\n",
       "  </tbody>\n",
       "</table>\n",
       "</div>"
      ],
      "text/plain": [
       "  Attrition     BusinessTravel              Department EducationField  Gender  \\\n",
       "0       Yes      Travel_Rarely                   Sales  Life Sciences  Female   \n",
       "1        No  Travel_Frequently  Research & Development  Life Sciences    Male   \n",
       "2       Yes      Travel_Rarely  Research & Development          Other    Male   \n",
       "\n",
       "                 JobRole MaritalStatus OverTime  \n",
       "0        Sales Executive        Single      Yes  \n",
       "1     Research Scientist       Married       No  \n",
       "2  Laboratory Technician        Single      Yes  "
      ]
     },
     "execution_count": 7,
     "metadata": {},
     "output_type": "execute_result"
    }
   ],
   "source": [
    "#Check for Object Data Type Columns\n",
    "\n",
    "data.select_dtypes('object').head(3)"
   ]
  },
  {
   "cell_type": "code",
   "execution_count": 8,
   "id": "e4f23028",
   "metadata": {},
   "outputs": [],
   "source": [
    "#Encode Object Data types to Numerical Data Types except for Attrition Column\n",
    "\n",
    "from sklearn.preprocessing import LabelEncoder"
   ]
  },
  {
   "cell_type": "code",
   "execution_count": 9,
   "id": "1beefb6d",
   "metadata": {},
   "outputs": [
    {
     "data": {
      "text/plain": [
       "Index(['Attrition'], dtype='object')"
      ]
     },
     "execution_count": 9,
     "metadata": {},
     "output_type": "execute_result"
    }
   ],
   "source": [
    "le = LabelEncoder()\n",
    "data['BusinessTravel']=le.fit_transform(data['BusinessTravel'])\n",
    "data['Department']=le.fit_transform(data['Department'])\n",
    "data['EducationField']=le.fit_transform(data['EducationField'])\n",
    "data['Gender']=le.fit_transform(data['Gender'])\n",
    "data['JobRole']=le.fit_transform(data['JobRole'])\n",
    "data['MaritalStatus']=le.fit_transform(data['MaritalStatus'])\n",
    "data['OverTime']=le.fit_transform(data['OverTime'])\n",
    "\n",
    "#Check if any object data type columns are left\n",
    "\n",
    "data.select_dtypes('object').columns"
   ]
  },
  {
   "cell_type": "code",
   "execution_count": 10,
   "id": "2fb49af1",
   "metadata": {},
   "outputs": [
    {
     "name": "stdout",
     "output_type": "stream",
     "text": [
      "Shape of x:  (1470, 30)\n",
      "Shape of y:  (1470,)\n"
     ]
    }
   ],
   "source": [
    "#Split Target Attrition from dataset\n",
    "\n",
    "y = data['Attrition']\n",
    "x = data.drop(['Attrition'], axis=1)\n",
    "\n",
    "#Check Shape of Dataset\n",
    "\n",
    "print('Shape of x: ',x.shape)\n",
    "print('Shape of y: ',y.shape)"
   ]
  },
  {
   "cell_type": "code",
   "execution_count": 11,
   "id": "00a611e2",
   "metadata": {},
   "outputs": [
    {
     "data": {
      "text/plain": [
       "No     1233\n",
       "Yes     237\n",
       "Name: Attrition, dtype: int64"
      ]
     },
     "execution_count": 11,
     "metadata": {},
     "output_type": "execute_result"
    }
   ],
   "source": [
    "#Check data is balance or not\n",
    "\n",
    "data['Attrition'].value_counts()"
   ]
  },
  {
   "cell_type": "markdown",
   "id": "5b533e5f",
   "metadata": {},
   "source": [
    "# SMOTEENN"
   ]
  },
  {
   "cell_type": "code",
   "execution_count": 12,
   "id": "62520864",
   "metadata": {},
   "outputs": [],
   "source": [
    "#Fix imbalance\n",
    "\n",
    "from imblearn.combine import SMOTEENN"
   ]
  },
  {
   "cell_type": "code",
   "execution_count": 13,
   "id": "46e5839c",
   "metadata": {},
   "outputs": [
    {
     "data": {
      "text/plain": [
       "Yes    838\n",
       "No     640\n",
       "Name: Attrition, dtype: int64"
      ]
     },
     "execution_count": 13,
     "metadata": {},
     "output_type": "execute_result"
    }
   ],
   "source": [
    "#Define Model\n",
    "\n",
    "sn = SMOTEENN(random_state=0)\n",
    "\n",
    "#Making Sample\n",
    "\n",
    "x,y = sn.fit_resample(x,y)\n",
    "\n",
    "#Class Distribution\n",
    "\n",
    "y.value_counts()"
   ]
  },
  {
   "cell_type": "code",
   "execution_count": 14,
   "id": "92177834",
   "metadata": {},
   "outputs": [],
   "source": [
    "from sklearn.model_selection import train_test_split"
   ]
  },
  {
   "cell_type": "code",
   "execution_count": 15,
   "id": "a1751442",
   "metadata": {},
   "outputs": [
    {
     "name": "stdout",
     "output_type": "stream",
     "text": [
      "Shape of x_train:  (1182, 30)\n",
      "Shape of x_test:  (296, 30)\n",
      "Shape of y_train:  (1182,)\n",
      "Shape of y_test:  (296,)\n"
     ]
    }
   ],
   "source": [
    "x_train, x_test, y_train, y_test = train_test_split(x,y,test_size=0.2,random_state=0)\n",
    "\n",
    "print('Shape of x_train: ', x_train.shape)\n",
    "print('Shape of x_test: ', x_test.shape)\n",
    "print('Shape of y_train: ', y_train.shape)\n",
    "print('Shape of y_test: ', y_test.shape)"
   ]
  },
  {
   "cell_type": "code",
   "execution_count": 16,
   "id": "2c7c63a0",
   "metadata": {},
   "outputs": [
    {
     "name": "stdout",
     "output_type": "stream",
     "text": [
      "              precision    recall  f1-score   support\n",
      "\n",
      "          No       0.79      0.87      0.83       125\n",
      "         Yes       0.90      0.83      0.86       171\n",
      "\n",
      "    accuracy                           0.85       296\n",
      "   macro avg       0.84      0.85      0.85       296\n",
      "weighted avg       0.85      0.85      0.85       296\n",
      "\n"
     ]
    }
   ],
   "source": [
    "#Predictive Model\n",
    "\n",
    "from sklearn.tree import DecisionTreeClassifier\n",
    "from sklearn.metrics import classification_report\n",
    "\n",
    "model = DecisionTreeClassifier()\n",
    "model.fit(x_train,y_train)\n",
    "y_pred = model.predict(x_test)\n",
    "\n",
    "cr = classification_report(y_pred,y_test)\n",
    "print(cr)"
   ]
  },
  {
   "cell_type": "markdown",
   "id": "89bdd19c",
   "metadata": {},
   "source": [
    "# Correlation"
   ]
  },
  {
   "cell_type": "code",
   "execution_count": 17,
   "id": "1df49b29",
   "metadata": {},
   "outputs": [
    {
     "data": {
      "image/png": "[encoded data removed]",
      "text/plain": [
       "<Figure size 1500x1000 with 2 Axes>"
      ]
     },
     "metadata": {},
     "output_type": "display_data"
    }
   ],
   "source": [
    "#HeatMap to check Correlation\n",
    "\n",
    "plt.rcParams['figure.figsize'] = (15,10)\n",
    "plt.style.use('fivethirtyeight')\n",
    "\n",
    "corr = data.corr()\n",
    "mask = np.triu(np.ones_like(corr, dtype=bool))\n",
    "sns.heatmap(corr, mask=mask, cmap='Wistia',linewidth=0.2)\n",
    "plt.xticks(fontsize=10)\n",
    "plt.yticks(fontsize=10)\n",
    "plt.show()"
   ]
  },
  {
   "cell_type": "code",
   "execution_count": 18,
   "id": "d7112425",
   "metadata": {},
   "outputs": [
    {
     "data": {
      "text/plain": [
       "(1470, 25)"
      ]
     },
     "execution_count": 18,
     "metadata": {},
     "output_type": "execute_result"
    }
   ],
   "source": [
    "#Removing Highly Correlated Columns\n",
    "\n",
    "data_cf = data.drop(['JobRole','JobLevel','PercentSalaryHike',\n",
    "                    'TotalWorkingYears','YearsInCurrentRole','YearsWithCurrManager'],axis=1)\n",
    "\n",
    "#Lets Check the Shape\n",
    "\n",
    "data_cf.shape"
   ]
  },
  {
   "cell_type": "code",
   "execution_count": 19,
   "id": "ad3f804a",
   "metadata": {},
   "outputs": [
    {
     "data": {
      "text/plain": [
       "Index(['Attrition'], dtype='object')"
      ]
     },
     "execution_count": 19,
     "metadata": {},
     "output_type": "execute_result"
    }
   ],
   "source": [
    "data_cf['BusinessTravel']=le.fit_transform(data['BusinessTravel'])\n",
    "data_cf['Department']=le.fit_transform(data['Department'])\n",
    "data_cf['EducationField']=le.fit_transform(data['EducationField'])\n",
    "data_cf['Gender']=le.fit_transform(data['Gender'])\n",
    "data_cf['JobRole']=le.fit_transform(data['JobRole'])\n",
    "data_cf['MaritalStatus']=le.fit_transform(data['MaritalStatus'])\n",
    "data_cf['OverTime']=le.fit_transform(data['OverTime'])\n",
    "\n",
    "#Check if any object data type columns are left\n",
    "\n",
    "data_cf.select_dtypes('object').columns"
   ]
  },
  {
   "cell_type": "code",
   "execution_count": 20,
   "id": "39edb9a0",
   "metadata": {},
   "outputs": [
    {
     "name": "stdout",
     "output_type": "stream",
     "text": [
      "Shape of x:  (1470, 25)\n",
      "Shape of y:  (1470,)\n"
     ]
    }
   ],
   "source": [
    "#Split Target Attrition from dataset\n",
    "\n",
    "y_cf = data_cf['Attrition']\n",
    "x_cf = data_cf.drop(['Attrition'], axis=1)\n",
    "\n",
    "#Check Shape of Dataset\n",
    "\n",
    "print('Shape of x: ',x_cf.shape)\n",
    "print('Shape of y: ',y_cf.shape)"
   ]
  },
  {
   "cell_type": "code",
   "execution_count": 21,
   "id": "69f14ce7",
   "metadata": {},
   "outputs": [
    {
     "data": {
      "text/plain": [
       "Yes    838\n",
       "No     641\n",
       "Name: Attrition, dtype: int64"
      ]
     },
     "execution_count": 21,
     "metadata": {},
     "output_type": "execute_result"
    }
   ],
   "source": [
    "#Define Model\n",
    "\n",
    "sn = SMOTEENN(random_state=0)\n",
    "\n",
    "#Making Sample\n",
    "\n",
    "x_cf,y_cf = sn.fit_resample(x_cf,y_cf)\n",
    "\n",
    "#Class Distribution\n",
    "\n",
    "y_cf.value_counts()"
   ]
  },
  {
   "cell_type": "code",
   "execution_count": 22,
   "id": "c1e94ab1",
   "metadata": {},
   "outputs": [
    {
     "name": "stdout",
     "output_type": "stream",
     "text": [
      "Shape of x_train_cf:  (1183, 25)\n",
      "Shape of x_test_cf:  (296, 25)\n",
      "Shape of y_train_cf:  (1183,)\n",
      "Shape of y_test_cf:  (296,)\n"
     ]
    }
   ],
   "source": [
    "#Splitting the Data\n",
    "\n",
    "x_train_cf, x_test_cf, y_train_cf, y_test_cf = train_test_split(x_cf, y_cf, test_size=0.2, random_state=0)\n",
    "\n",
    "print('Shape of x_train_cf: ', x_train_cf.shape)\n",
    "print('Shape of x_test_cf: ', x_test_cf.shape)\n",
    "print('Shape of y_train_cf: ', y_train_cf.shape)\n",
    "print('Shape of y_test_cf: ', y_test_cf.shape)"
   ]
  },
  {
   "cell_type": "code",
   "execution_count": 23,
   "id": "425d5beb",
   "metadata": {},
   "outputs": [
    {
     "name": "stdout",
     "output_type": "stream",
     "text": [
      "              precision    recall  f1-score   support\n",
      "\n",
      "          No       0.76      0.88      0.82       118\n",
      "         Yes       0.91      0.82      0.86       178\n",
      "\n",
      "    accuracy                           0.84       296\n",
      "   macro avg       0.84      0.85      0.84       296\n",
      "weighted avg       0.85      0.84      0.85       296\n",
      "\n"
     ]
    }
   ],
   "source": [
    "#Predictive Model\n",
    "\n",
    "model = DecisionTreeClassifier()\n",
    "model.fit(x_train_cf,y_train_cf)\n",
    "y_pred_cf = model.predict(x_test_cf)\n",
    "\n",
    "cr = classification_report(y_pred_cf,y_test_cf)\n",
    "print(cr)"
   ]
  },
  {
   "cell_type": "markdown",
   "id": "420bdc0e",
   "metadata": {},
   "source": [
    "# Variance Inflation Factor"
   ]
  },
  {
   "cell_type": "code",
   "execution_count": 24,
   "id": "8c534bee",
   "metadata": {},
   "outputs": [],
   "source": [
    "from statsmodels.stats.outliers_influence import variance_inflation_factor"
   ]
  },
  {
   "cell_type": "code",
   "execution_count": 25,
   "id": "55825c92",
   "metadata": {},
   "outputs": [
    {
     "data": {
      "text/html": [
       "<style type=\"text/css\">\n",
       "#T_84b9b_row0_col1 {\n",
       "  background-color: #ffdc13;\n",
       "  color: #000000;\n",
       "}\n",
       "#T_84b9b_row1_col1, #T_84b9b_row7_col1 {\n",
       "  background-color: #eafa66;\n",
       "  color: #000000;\n",
       "}\n",
       "#T_84b9b_row2_col1, #T_84b9b_row14_col1, #T_84b9b_row16_col1 {\n",
       "  background-color: #e8fc6c;\n",
       "  color: #000000;\n",
       "}\n",
       "#T_84b9b_row3_col1 {\n",
       "  background-color: #eef757;\n",
       "  color: #000000;\n",
       "}\n",
       "#T_84b9b_row4_col1, #T_84b9b_row28_col1 {\n",
       "  background-color: #e5fe77;\n",
       "  color: #000000;\n",
       "}\n",
       "#T_84b9b_row5_col1 {\n",
       "  background-color: #ecf85c;\n",
       "  color: #000000;\n",
       "}\n",
       "#T_84b9b_row6_col1 {\n",
       "  background-color: #e6fd72;\n",
       "  color: #000000;\n",
       "}\n",
       "#T_84b9b_row8_col1, #T_84b9b_row22_col1 {\n",
       "  background-color: #e4ff78;\n",
       "  color: #000000;\n",
       "}\n",
       "#T_84b9b_row9_col1 {\n",
       "  background-color: #f0f54e;\n",
       "  color: #000000;\n",
       "}\n",
       "#T_84b9b_row10_col1, #T_84b9b_row25_col1 {\n",
       "  background-color: #f1f44b;\n",
       "  color: #000000;\n",
       "}\n",
       "#T_84b9b_row11_col1 {\n",
       "  background-color: #ffc303;\n",
       "  color: #000000;\n",
       "}\n",
       "#T_84b9b_row12_col1, #T_84b9b_row21_col1 {\n",
       "  background-color: #eafa65;\n",
       "  color: #000000;\n",
       "}\n",
       "#T_84b9b_row13_col1, #T_84b9b_row27_col1, #T_84b9b_row29_col1 {\n",
       "  background-color: #e9fb68;\n",
       "  color: #000000;\n",
       "}\n",
       "#T_84b9b_row15_col1 {\n",
       "  background-color: #ffe216;\n",
       "  color: #000000;\n",
       "}\n",
       "#T_84b9b_row17_col1 {\n",
       "  background-color: #e5fe75;\n",
       "  color: #000000;\n",
       "}\n",
       "#T_84b9b_row18_col1 {\n",
       "  background-color: #e4ff7a;\n",
       "  color: #000000;\n",
       "}\n",
       "#T_84b9b_row19_col1 {\n",
       "  background-color: #ffde14;\n",
       "  color: #000000;\n",
       "}\n",
       "#T_84b9b_row20_col1 {\n",
       "  background-color: #fc7f00;\n",
       "  color: #f1f1f1;\n",
       "}\n",
       "#T_84b9b_row23_col1 {\n",
       "  background-color: #f1f44d;\n",
       "  color: #000000;\n",
       "}\n",
       "#T_84b9b_row24_col1 {\n",
       "  background-color: #e8fb6b;\n",
       "  color: #000000;\n",
       "}\n",
       "#T_84b9b_row26_col1 {\n",
       "  background-color: #edf75a;\n",
       "  color: #000000;\n",
       "}\n",
       "</style>\n",
       "<table id=\"T_84b9b\">\n",
       "  <thead>\n",
       "    <tr>\n",
       "      <th class=\"blank level0\" >&nbsp;</th>\n",
       "      <th id=\"T_84b9b_level0_col0\" class=\"col_heading level0 col0\" >feature</th>\n",
       "      <th id=\"T_84b9b_level0_col1\" class=\"col_heading level0 col1\" >VIF</th>\n",
       "    </tr>\n",
       "  </thead>\n",
       "  <tbody>\n",
       "    <tr>\n",
       "      <th id=\"T_84b9b_level0_row0\" class=\"row_heading level0 row0\" >0</th>\n",
       "      <td id=\"T_84b9b_row0_col0\" class=\"data row0 col0\" >Age</td>\n",
       "      <td id=\"T_84b9b_row0_col1\" class=\"data row0 col1\" >35.471068</td>\n",
       "    </tr>\n",
       "    <tr>\n",
       "      <th id=\"T_84b9b_level0_row1\" class=\"row_heading level0 row1\" >1</th>\n",
       "      <td id=\"T_84b9b_row1_col0\" class=\"data row1 col0\" >BusinessTravel</td>\n",
       "      <td id=\"T_84b9b_row1_col1\" class=\"data row1 col1\" >6.936126</td>\n",
       "    </tr>\n",
       "    <tr>\n",
       "      <th id=\"T_84b9b_level0_row2\" class=\"row_heading level0 row2\" >2</th>\n",
       "      <td id=\"T_84b9b_row2_col0\" class=\"data row2 col0\" >DailyRate</td>\n",
       "      <td id=\"T_84b9b_row2_col1\" class=\"data row2 col1\" >5.499722</td>\n",
       "    </tr>\n",
       "    <tr>\n",
       "      <th id=\"T_84b9b_level0_row3\" class=\"row_heading level0 row3\" >3</th>\n",
       "      <td id=\"T_84b9b_row3_col0\" class=\"data row3 col0\" >Department</td>\n",
       "      <td id=\"T_84b9b_row3_col1\" class=\"data row3 col1\" >11.165526</td>\n",
       "    </tr>\n",
       "    <tr>\n",
       "      <th id=\"T_84b9b_level0_row4\" class=\"row_heading level0 row4\" >4</th>\n",
       "      <td id=\"T_84b9b_row4_col0\" class=\"data row4 col0\" >DistanceFromHome</td>\n",
       "      <td id=\"T_84b9b_row4_col1\" class=\"data row4 col1\" >2.711344</td>\n",
       "    </tr>\n",
       "    <tr>\n",
       "      <th id=\"T_84b9b_level0_row5\" class=\"row_heading level0 row5\" >5</th>\n",
       "      <td id=\"T_84b9b_row5_col0\" class=\"data row5 col0\" >Education</td>\n",
       "      <td id=\"T_84b9b_row5_col1\" class=\"data row5 col1\" >9.876365</td>\n",
       "    </tr>\n",
       "    <tr>\n",
       "      <th id=\"T_84b9b_level0_row6\" class=\"row_heading level0 row6\" >6</th>\n",
       "      <td id=\"T_84b9b_row6_col0\" class=\"data row6 col0\" >EducationField</td>\n",
       "      <td id=\"T_84b9b_row6_col1\" class=\"data row6 col1\" >3.981095</td>\n",
       "    </tr>\n",
       "    <tr>\n",
       "      <th id=\"T_84b9b_level0_row7\" class=\"row_heading level0 row7\" >7</th>\n",
       "      <td id=\"T_84b9b_row7_col0\" class=\"data row7 col0\" >EnvironmentSatisfaction</td>\n",
       "      <td id=\"T_84b9b_row7_col1\" class=\"data row7 col1\" >7.125041</td>\n",
       "    </tr>\n",
       "    <tr>\n",
       "      <th id=\"T_84b9b_level0_row8\" class=\"row_heading level0 row8\" >8</th>\n",
       "      <td id=\"T_84b9b_row8_col0\" class=\"data row8 col0\" >Gender</td>\n",
       "      <td id=\"T_84b9b_row8_col1\" class=\"data row8 col1\" >2.173840</td>\n",
       "    </tr>\n",
       "    <tr>\n",
       "      <th id=\"T_84b9b_level0_row9\" class=\"row_heading level0 row9\" >9</th>\n",
       "      <td id=\"T_84b9b_row9_col0\" class=\"data row9 col0\" >HourlyRate</td>\n",
       "      <td id=\"T_84b9b_row9_col1\" class=\"data row9 col1\" >13.550311</td>\n",
       "    </tr>\n",
       "    <tr>\n",
       "      <th id=\"T_84b9b_level0_row10\" class=\"row_heading level0 row10\" >10</th>\n",
       "      <td id=\"T_84b9b_row10_col0\" class=\"data row10 col0\" >JobInvolvement</td>\n",
       "      <td id=\"T_84b9b_row10_col1\" class=\"data row10 col1\" >14.368878</td>\n",
       "    </tr>\n",
       "    <tr>\n",
       "      <th id=\"T_84b9b_level0_row11\" class=\"row_heading level0 row11\" >11</th>\n",
       "      <td id=\"T_84b9b_row11_col0\" class=\"data row11 col0\" >JobLevel</td>\n",
       "      <td id=\"T_84b9b_row11_col1\" class=\"data row11 col1\" >50.962093</td>\n",
       "    </tr>\n",
       "    <tr>\n",
       "      <th id=\"T_84b9b_level0_row12\" class=\"row_heading level0 row12\" >12</th>\n",
       "      <td id=\"T_84b9b_row12_col0\" class=\"data row12 col0\" >JobRole</td>\n",
       "      <td id=\"T_84b9b_row12_col1\" class=\"data row12 col1\" >7.728222</td>\n",
       "    </tr>\n",
       "    <tr>\n",
       "      <th id=\"T_84b9b_level0_row13\" class=\"row_heading level0 row13\" >13</th>\n",
       "      <td id=\"T_84b9b_row13_col0\" class=\"data row13 col0\" >JobSatisfaction</td>\n",
       "      <td id=\"T_84b9b_row13_col1\" class=\"data row13 col1\" >6.641658</td>\n",
       "    </tr>\n",
       "    <tr>\n",
       "      <th id=\"T_84b9b_level0_row14\" class=\"row_heading level0 row14\" >14</th>\n",
       "      <td id=\"T_84b9b_row14_col0\" class=\"data row14 col0\" >MaritalStatus</td>\n",
       "      <td id=\"T_84b9b_row14_col1\" class=\"data row14 col1\" >5.636039</td>\n",
       "    </tr>\n",
       "    <tr>\n",
       "      <th id=\"T_84b9b_level0_row15\" class=\"row_heading level0 row15\" >15</th>\n",
       "      <td id=\"T_84b9b_row15_col0\" class=\"data row15 col0\" >MonthlyIncome</td>\n",
       "      <td id=\"T_84b9b_row15_col1\" class=\"data row15 col1\" >31.802467</td>\n",
       "    </tr>\n",
       "    <tr>\n",
       "      <th id=\"T_84b9b_level0_row16\" class=\"row_heading level0 row16\" >16</th>\n",
       "      <td id=\"T_84b9b_row16_col0\" class=\"data row16 col0\" >MonthlyRate</td>\n",
       "      <td id=\"T_84b9b_row16_col1\" class=\"data row16 col1\" >5.626539</td>\n",
       "    </tr>\n",
       "    <tr>\n",
       "      <th id=\"T_84b9b_level0_row17\" class=\"row_heading level0 row17\" >17</th>\n",
       "      <td id=\"T_84b9b_row17_col0\" class=\"data row17 col0\" >NumCompaniesWorked</td>\n",
       "      <td id=\"T_84b9b_row17_col1\" class=\"data row17 col1\" >3.043946</td>\n",
       "    </tr>\n",
       "    <tr>\n",
       "      <th id=\"T_84b9b_level0_row18\" class=\"row_heading level0 row18\" >18</th>\n",
       "      <td id=\"T_84b9b_row18_col0\" class=\"data row18 col0\" >OverTime</td>\n",
       "      <td id=\"T_84b9b_row18_col1\" class=\"data row18 col1\" >1.538416</td>\n",
       "    </tr>\n",
       "    <tr>\n",
       "      <th id=\"T_84b9b_level0_row19\" class=\"row_heading level0 row19\" >19</th>\n",
       "      <td id=\"T_84b9b_row19_col0\" class=\"data row19 col0\" >PercentSalaryHike</td>\n",
       "      <td id=\"T_84b9b_row19_col1\" class=\"data row19 col1\" >33.846284</td>\n",
       "    </tr>\n",
       "    <tr>\n",
       "      <th id=\"T_84b9b_level0_row20\" class=\"row_heading level0 row20\" >20</th>\n",
       "      <td id=\"T_84b9b_row20_col0\" class=\"data row20 col0\" >PerformanceRating</td>\n",
       "      <td id=\"T_84b9b_row20_col1\" class=\"data row20 col1\" >107.306920</td>\n",
       "    </tr>\n",
       "    <tr>\n",
       "      <th id=\"T_84b9b_level0_row21\" class=\"row_heading level0 row21\" >21</th>\n",
       "      <td id=\"T_84b9b_row21_col0\" class=\"data row21 col0\" >RelationshipSatisfaction</td>\n",
       "      <td id=\"T_84b9b_row21_col1\" class=\"data row21 col1\" >7.378057</td>\n",
       "    </tr>\n",
       "    <tr>\n",
       "      <th id=\"T_84b9b_level0_row22\" class=\"row_heading level0 row22\" >22</th>\n",
       "      <td id=\"T_84b9b_row22_col0\" class=\"data row22 col0\" >StockOptionLevel</td>\n",
       "      <td id=\"T_84b9b_row22_col1\" class=\"data row22 col1\" >2.335274</td>\n",
       "    </tr>\n",
       "    <tr>\n",
       "      <th id=\"T_84b9b_level0_row23\" class=\"row_heading level0 row23\" >23</th>\n",
       "      <td id=\"T_84b9b_row23_col0\" class=\"data row23 col0\" >TotalWorkingYears</td>\n",
       "      <td id=\"T_84b9b_row23_col1\" class=\"data row23 col1\" >13.948849</td>\n",
       "    </tr>\n",
       "    <tr>\n",
       "      <th id=\"T_84b9b_level0_row24\" class=\"row_heading level0 row24\" >24</th>\n",
       "      <td id=\"T_84b9b_row24_col0\" class=\"data row24 col0\" >TrainingTimesLastYear</td>\n",
       "      <td id=\"T_84b9b_row24_col1\" class=\"data row24 col1\" >6.054863</td>\n",
       "    </tr>\n",
       "    <tr>\n",
       "      <th id=\"T_84b9b_level0_row25\" class=\"row_heading level0 row25\" >25</th>\n",
       "      <td id=\"T_84b9b_row25_col0\" class=\"data row25 col0\" >WorkLifeBalance</td>\n",
       "      <td id=\"T_84b9b_row25_col1\" class=\"data row25 col1\" >14.349174</td>\n",
       "    </tr>\n",
       "    <tr>\n",
       "      <th id=\"T_84b9b_level0_row26\" class=\"row_heading level0 row26\" >26</th>\n",
       "      <td id=\"T_84b9b_row26_col0\" class=\"data row26 col0\" >YearsAtCompany</td>\n",
       "      <td id=\"T_84b9b_row26_col1\" class=\"data row26 col1\" >10.226762</td>\n",
       "    </tr>\n",
       "    <tr>\n",
       "      <th id=\"T_84b9b_level0_row27\" class=\"row_heading level0 row27\" >27</th>\n",
       "      <td id=\"T_84b9b_row27_col0\" class=\"data row27 col0\" >YearsInCurrentRole</td>\n",
       "      <td id=\"T_84b9b_row27_col1\" class=\"data row27 col1\" >6.797882</td>\n",
       "    </tr>\n",
       "    <tr>\n",
       "      <th id=\"T_84b9b_level0_row28\" class=\"row_heading level0 row28\" >28</th>\n",
       "      <td id=\"T_84b9b_row28_col0\" class=\"data row28 col0\" >YearsSinceLastPromotion</td>\n",
       "      <td id=\"T_84b9b_row28_col1\" class=\"data row28 col1\" >2.578519</td>\n",
       "    </tr>\n",
       "    <tr>\n",
       "      <th id=\"T_84b9b_level0_row29\" class=\"row_heading level0 row29\" >29</th>\n",
       "      <td id=\"T_84b9b_row29_col0\" class=\"data row29 col0\" >YearsWithCurrManager</td>\n",
       "      <td id=\"T_84b9b_row29_col1\" class=\"data row29 col1\" >6.769876</td>\n",
       "    </tr>\n",
       "  </tbody>\n",
       "</table>\n"
      ],
      "text/plain": [
       "<pandas.io.formats.style.Styler at 0x181b1317130>"
      ]
     },
     "execution_count": 25,
     "metadata": {},
     "output_type": "execute_result"
    }
   ],
   "source": [
    "#VIF dataframe\n",
    "vif_data = pd.DataFrame()\n",
    "vif_data['feature'] = x.columns\n",
    "\n",
    "#Calculating VIF for each feature \n",
    "vif_data['VIF'] = [variance_inflation_factor(x.values,i)\n",
    "                  for i in range (len(x.columns))]\n",
    "\n",
    "vif_data.style.background_gradient(cmap='Wistia')"
   ]
  },
  {
   "cell_type": "code",
   "execution_count": 26,
   "id": "db89a50e",
   "metadata": {},
   "outputs": [],
   "source": [
    "#Creating Dependent and Non Dependent Sets\n",
    "\n",
    "x_vif = data[['DistanceFromHome','EducationField','Gender',\n",
    "                    'NumCompaniesWorked','OverTime','StockOptionLevel','YearsSinceLastPromotion']]\n",
    "\n",
    "y_vif = data['Attrition']"
   ]
  },
  {
   "cell_type": "code",
   "execution_count": 27,
   "id": "0009478d",
   "metadata": {},
   "outputs": [
    {
     "data": {
      "text/plain": [
       "Yes    813\n",
       "No     579\n",
       "Name: Attrition, dtype: int64"
      ]
     },
     "execution_count": 27,
     "metadata": {},
     "output_type": "execute_result"
    }
   ],
   "source": [
    "#Define Model\n",
    "\n",
    "sn = SMOTEENN(random_state=0)\n",
    "\n",
    "#Making Sample\n",
    "\n",
    "x_vif,y_vif = sn.fit_resample(x_vif,y_vif)\n",
    "\n",
    "#Class Distribution\n",
    "\n",
    "y_vif.value_counts()"
   ]
  },
  {
   "cell_type": "code",
   "execution_count": 28,
   "id": "ac022eeb",
   "metadata": {},
   "outputs": [
    {
     "name": "stdout",
     "output_type": "stream",
     "text": [
      "Shape of x_train_vif:  (1113, 7)\n",
      "Shape of x_test_vif:  (279, 7)\n",
      "Shape of y_train_vif:  (1113,)\n",
      "Shape of y_test_vif:  (279,)\n"
     ]
    }
   ],
   "source": [
    "x_train_vif, x_test_vif, y_train_vif, y_test_vif = train_test_split(x_vif, y_vif, \n",
    "                                                                    test_size=0.2, random_state=0)\n",
    "\n",
    "print('Shape of x_train_vif: ', x_train_vif.shape)\n",
    "print('Shape of x_test_vif: ', x_test_vif.shape)\n",
    "print('Shape of y_train_vif: ', y_train_vif.shape)\n",
    "print('Shape of y_test_vif: ', y_test_vif.shape)"
   ]
  },
  {
   "cell_type": "code",
   "execution_count": 29,
   "id": "556759cf",
   "metadata": {},
   "outputs": [
    {
     "name": "stdout",
     "output_type": "stream",
     "text": [
      "              precision    recall  f1-score   support\n",
      "\n",
      "          No       0.84      0.96      0.90       111\n",
      "         Yes       0.97      0.88      0.93       168\n",
      "\n",
      "    accuracy                           0.91       279\n",
      "   macro avg       0.91      0.92      0.91       279\n",
      "weighted avg       0.92      0.91      0.91       279\n",
      "\n"
     ]
    }
   ],
   "source": [
    "#Predictive Model\n",
    "\n",
    "model = DecisionTreeClassifier()\n",
    "model.fit(x_train_vif,y_train_vif)\n",
    "y_pred_vif = model.predict(x_test_vif)\n",
    "\n",
    "cr = classification_report(y_pred_vif,y_test_vif)\n",
    "print(cr)"
   ]
  },
  {
   "cell_type": "markdown",
   "id": "bb487423",
   "metadata": {},
   "source": [
    "# Feature Selection with RFECV"
   ]
  },
  {
   "cell_type": "code",
   "execution_count": 30,
   "id": "a24d3e17",
   "metadata": {},
   "outputs": [],
   "source": [
    "from sklearn.feature_selection import RFECV"
   ]
  },
  {
   "cell_type": "code",
   "execution_count": 40,
   "id": "26f96d36",
   "metadata": {},
   "outputs": [
    {
     "name": "stdout",
     "output_type": "stream",
     "text": [
      "Optimal number of feature:  3\n",
      "Best Features:  Index(['DailyRate', 'JobLevel', 'MonthlyIncome'], dtype='object')\n"
     ]
    }
   ],
   "source": [
    "model = DecisionTreeClassifier()\n",
    "rfecv = RFECV(estimator=model, step=1, cv=5,scoring='accuracy')\n",
    "rfecv = rfecv.fit(x_train, y_train)\n",
    "\n",
    "print('Optimal number of feature: ',rfecv.n_features_)\n",
    "print('Best Features: ', x_train.columns[rfecv.support_])"
   ]
  },
  {
   "cell_type": "code",
   "execution_count": 41,
   "id": "dd2fe68e",
   "metadata": {},
   "outputs": [],
   "source": [
    "x_rfecv = data[['DailyRate', 'JobLevel', 'MonthlyIncome']]\n",
    "y_rfecv = data['Attrition']"
   ]
  },
  {
   "cell_type": "code",
   "execution_count": 42,
   "id": "c594cf70",
   "metadata": {},
   "outputs": [
    {
     "data": {
      "text/plain": [
       "Yes    659\n",
       "No     543\n",
       "Name: Attrition, dtype: int64"
      ]
     },
     "execution_count": 42,
     "metadata": {},
     "output_type": "execute_result"
    }
   ],
   "source": [
    "#Define Model\n",
    "\n",
    "sn = SMOTEENN(random_state=0)\n",
    "\n",
    "#Making Sample\n",
    "\n",
    "x_rfecv,y_rfecv = sn.fit_resample(x_rfecv,y_rfecv)\n",
    "\n",
    "#Class Distribution\n",
    "\n",
    "y_rfecv.value_counts()"
   ]
  },
  {
   "cell_type": "code",
   "execution_count": 43,
   "id": "00521ac2",
   "metadata": {},
   "outputs": [
    {
     "name": "stdout",
     "output_type": "stream",
     "text": [
      "Shape of x_train_rfecv:  (961, 3)\n",
      "Shape of x_test_rfecv:  (241, 3)\n",
      "Shape of y_train_rfecv:  (961,)\n",
      "Shape of y_test_rfecv:  (241,)\n"
     ]
    }
   ],
   "source": [
    "x_train_rfecv, x_test_rfecv, y_train_rfecv, y_test_rfecv = train_test_split(x_rfecv, y_rfecv, \n",
    "                                                                    test_size=0.2, random_state=0)\n",
    "\n",
    "print('Shape of x_train_rfecv: ', x_train_rfecv.shape)\n",
    "print('Shape of x_test_rfecv: ', x_test_rfecv.shape)\n",
    "print('Shape of y_train_rfecv: ', y_train_rfecv.shape)\n",
    "print('Shape of y_test_rfecv: ', y_test_rfecv.shape)"
   ]
  },
  {
   "cell_type": "code",
   "execution_count": 44,
   "id": "beb89c5e",
   "metadata": {},
   "outputs": [
    {
     "name": "stdout",
     "output_type": "stream",
     "text": [
      "              precision    recall  f1-score   support\n",
      "\n",
      "          No       0.91      0.93      0.92       103\n",
      "         Yes       0.95      0.93      0.94       138\n",
      "\n",
      "    accuracy                           0.93       241\n",
      "   macro avg       0.93      0.93      0.93       241\n",
      "weighted avg       0.93      0.93      0.93       241\n",
      "\n"
     ]
    }
   ],
   "source": [
    "#Predictive Model\n",
    "\n",
    "model = DecisionTreeClassifier()\n",
    "model.fit(x_train_rfecv,y_train_rfecv)\n",
    "y_pred_rfecv = model.predict(x_test_rfecv)\n",
    "\n",
    "cr = classification_report(y_pred_rfecv,y_test_rfecv)\n",
    "print(cr)"
   ]
  },
  {
   "cell_type": "markdown",
   "id": "7d9cb31f",
   "metadata": {},
   "source": [
    "# Boruta Algorithm"
   ]
  },
  {
   "cell_type": "code",
   "execution_count": 46,
   "id": "4b11a87b",
   "metadata": {},
   "outputs": [],
   "source": [
    "from sklearn.ensemble import RandomForestClassifier\n",
    "from boruta import BorutaPy"
   ]
  },
  {
   "cell_type": "code",
   "execution_count": 48,
   "id": "b96a177a",
   "metadata": {},
   "outputs": [
    {
     "name": "stdout",
     "output_type": "stream",
     "text": [
      "Features to Keep:  ['Age', 'BusinessTravel', 'DailyRate', 'DistanceFromHome', 'Education', 'EnvironmentSatisfaction', 'HourlyRate', 'JobInvolvement', 'JobLevel', 'JobRole', 'JobSatisfaction', 'MaritalStatus', 'MonthlyIncome', 'MonthlyRate', 'NumCompaniesWorked', 'RelationshipSatisfaction', 'StockOptionLevel', 'TotalWorkingYears', 'TrainingTimesLastYear', 'WorkLifeBalance', 'YearsAtCompany', 'YearsInCurrentRole', 'YearsSinceLastPromotion', 'YearsWithCurrManager']\n"
     ]
    }
   ],
   "source": [
    "#Define the Model\n",
    "model = RandomForestClassifier(max_depth=5)\n",
    "\n",
    "#Define Boruta Feature Selection Method\n",
    "boruta = BorutaPy(estimator=model,n_estimators='auto',\n",
    "                  max_iter=100,random_state=100)\n",
    "boruta.fit(np.array(x),np.array(y))\n",
    "\n",
    "#Print features\n",
    "best_features = x.columns[boruta.support_].to_list()\n",
    "print('Features to Keep: ',best_features)"
   ]
  },
  {
   "cell_type": "code",
   "execution_count": 49,
   "id": "c7888742",
   "metadata": {},
   "outputs": [],
   "source": [
    "#Create Dependent and Independent sets for RFECV\n",
    "x_bor = data[['Age', 'BusinessTravel', 'DailyRate', 'DistanceFromHome', 'Education', 'EnvironmentSatisfaction',\n",
    "              'HourlyRate', 'JobInvolvement', 'JobLevel', 'JobRole', 'JobSatisfaction', 'MaritalStatus',\n",
    "              'MonthlyIncome', 'MonthlyRate', 'NumCompaniesWorked', 'RelationshipSatisfaction', 'StockOptionLevel', \n",
    "              'TotalWorkingYears', 'TrainingTimesLastYear', \n",
    "              'WorkLifeBalance', 'YearsAtCompany', 'YearsInCurrentRole', 'YearsSinceLastPromotion', 'YearsWithCurrManager']]\n",
    "y_bor = data['Attrition']"
   ]
  },
  {
   "cell_type": "code",
   "execution_count": 50,
   "id": "466c22df",
   "metadata": {},
   "outputs": [
    {
     "data": {
      "text/plain": [
       "Yes    838\n",
       "No     640\n",
       "Name: Attrition, dtype: int64"
      ]
     },
     "execution_count": 50,
     "metadata": {},
     "output_type": "execute_result"
    }
   ],
   "source": [
    "#Define Model\n",
    "\n",
    "sn = SMOTEENN(random_state=0)\n",
    "\n",
    "#Making Sample\n",
    "\n",
    "x_bor,y_bor = sn.fit_resample(x_bor,y_bor)\n",
    "\n",
    "#Class Distribution\n",
    "\n",
    "y_bor.value_counts()"
   ]
  },
  {
   "cell_type": "code",
   "execution_count": 51,
   "id": "101c08ee",
   "metadata": {},
   "outputs": [
    {
     "name": "stdout",
     "output_type": "stream",
     "text": [
      "Shape of x_train_bor:  (1182, 24)\n",
      "Shape of x_test_bor:  (296, 24)\n",
      "Shape of y_train_bor:  (1182,)\n",
      "Shape of y_test_bor:  (296,)\n"
     ]
    }
   ],
   "source": [
    "x_train_bor, x_test_bor, y_train_bor, y_test_bor = train_test_split(x_bor, y_bor, \n",
    "                                                                    test_size=0.2, random_state=0)\n",
    "\n",
    "print('Shape of x_train_bor: ', x_train_bor.shape)\n",
    "print('Shape of x_test_bor: ', x_test_bor.shape)\n",
    "print('Shape of y_train_bor: ', y_train_bor.shape)\n",
    "print('Shape of y_test_bor: ', y_test_bor.shape)"
   ]
  },
  {
   "cell_type": "code",
   "execution_count": 52,
   "id": "3fe547e3",
   "metadata": {},
   "outputs": [
    {
     "name": "stdout",
     "output_type": "stream",
     "text": [
      "              precision    recall  f1-score   support\n",
      "\n",
      "          No       0.78      0.81      0.80       133\n",
      "         Yes       0.84      0.82      0.83       163\n",
      "\n",
      "    accuracy                           0.81       296\n",
      "   macro avg       0.81      0.81      0.81       296\n",
      "weighted avg       0.82      0.81      0.81       296\n",
      "\n"
     ]
    }
   ],
   "source": [
    "#Predictive Model\n",
    "\n",
    "model = DecisionTreeClassifier()\n",
    "model.fit(x_train_bor,y_train_bor)\n",
    "y_pred_bor = model.predict(x_test_bor)\n",
    "\n",
    "cr = classification_report(y_pred_bor,y_test_bor)\n",
    "print(cr)"
   ]
  }
 ],
 "metadata": {
  "kernelspec": {
   "display_name": "Python 3 (ipykernel)",
   "language": "python",
   "name": "python3"
  },
  "language_info": {
   "codemirror_mode": {
    "name": "ipython",
    "version": 3
   },
   "file_extension": ".py",
   "mimetype": "text/x-python",
   "name": "python",
   "nbconvert_exporter": "python",
   "pygments_lexer": "ipython3",
   "version": "3.9.13"
  }
 },
 "nbformat": 4,
 "nbformat_minor": 5
}
