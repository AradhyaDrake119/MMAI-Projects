{
  "nbformat": 4,
  "nbformat_minor": 0,
  "metadata": {
    "kernelspec": {
      "name": "python3",
      "display_name": "Python 3"
    },
    "colab": {
      "provenance": []
    }
  },
  "cells": [
    {
      "cell_type": "markdown",
      "metadata": {
        "id": "HKmorPdno_n_"
      },
      "source": [
        "# MMA/MMAB/MMAI 869 2023: Individual Assignment\n",
        "\n",
        "Version 1: Updated September 13, 2022\n",
        "\n",
        "<font color='red'>\\# TODO: fill in the below</font>\n",
        "\n",
        "- [Aradhya, Gaur]\n",
        "- [20320417]\n",
        "- [Section Number- 1]\n",
        "- [The Alchemist by Paulo Coelho]\n",
        "- [08th Jan 2023]"
      ]
    },
    {
      "cell_type": "markdown",
      "metadata": {
        "id": "emfFtv4aHBI1"
      },
      "source": [
        "# Assignment Instructions\n",
        "\n",
        "This assignment contains four questions. The questions are fully contained in this Google Colab Notebook.\n",
        "\n",
        "You are to make a copy of this Notebook and edit the copy to provide your answers. You are to complete the assignment entirely within Google Colab. Why?\n",
        "\n",
        "- It gives you practice using cloud-based interactive notebook environments (which is a popular workflow)\n",
        "- It is easier for you to manage the environment (e.g., installing packages, etc.)\n",
        "- Google Colab has nice, beefy machines, so you don't have to worry about running out of memory on your local computer.\n",
        "- It will be easier for the TA to help you debug your code if you need help\n",
        "- It will be easier for the TA to mark/run your code\n",
        "\n",
        "Some parts of this assigment require you to write code. Use Python or R. For Python, you may use standard Python libraries, including `scikit-learn`, `pandas`, `numpy`, and `scipy`. For R, you may use `dplyr`, `caret`, `ggplot2`, `rpart` and other standard libraries.\n",
        "\n",
        "Some parts of this assignment require text responses. In these cases, type your response in the Notebook cell indicated. Use English. Use proper grammar, spelling, and punctuation. Be professional and clear. Be complete, but not overly-verbose. Feel free to use [Markdown syntax](https://www.markdownguide.org/basic-syntax/) to format your answer (i.e., add bold, italics, lists, tables).\n",
        "\n",
        "## What to Submit to the Course Portal\n",
        "\n",
        "- Export your completed Notebook as a PDF file by clicking File->Print->Save as PDF.\n",
        "- Please do not submit the Notebook file (`.ipynb`) to the course portal.\n",
        "- Please submit the PDF export of the Notebook.\n",
        "   - Please name the PDF file `2022_869_FirstnameLastName.pdf`\n",
        "      - E.g., `2022_869_StephenThomas.pdf`\n",
        "   - Please make sure you have run all the cells so we can see the output!\n",
        "   - Best practice: Before exporting to PDF click Runtime->Restart and run all.\n",
        "\n"
      ]
    },
    {
      "cell_type": "markdown",
      "metadata": {
        "id": "oZFTCX4DqmRO"
      },
      "source": [
        "# Preliminaries: Inspect and Set up environment\n",
        "\n",
        "No action is required on your part in this section. These cells print out helpful information about the environment, just in case."
      ]
    },
    {
      "cell_type": "code",
      "metadata": {
        "id": "xj34Jz-Do_oK"
      },
      "source": [
        "import datetime\n",
        "import pandas as pd\n",
        "import numpy as np"
      ],
      "execution_count": null,
      "outputs": []
    },
    {
      "cell_type": "code",
      "metadata": {
        "id": "mqQ_XOKyXTS6",
        "colab": {
          "base_uri": "https://localhost:8080/"
        },
        "outputId": "ef53b8ff-9fe4-4051-c9c7-3af036fe9097"
      },
      "source": [
        "print(datetime.datetime.now())"
      ],
      "execution_count": null,
      "outputs": [
        {
          "output_type": "stream",
          "name": "stdout",
          "text": [
            "2023-01-09 03:22:28.839708\n"
          ]
        }
      ]
    },
    {
      "cell_type": "code",
      "metadata": {
        "colab": {
          "base_uri": "https://localhost:8080/"
        },
        "id": "LfOMt1lErLhZ",
        "outputId": "2f9f301e-8396-41b5-df75-08d8e707c504"
      },
      "source": [
        "!which python"
      ],
      "execution_count": null,
      "outputs": [
        {
          "output_type": "stream",
          "name": "stdout",
          "text": [
            "/usr/local/bin/python\n"
          ]
        }
      ]
    },
    {
      "cell_type": "code",
      "metadata": {
        "colab": {
          "base_uri": "https://localhost:8080/"
        },
        "id": "aub2w1-arM5K",
        "outputId": "8f3bffb7-1a88-4e51-e5d8-8451ce900973"
      },
      "source": [
        "!python --version"
      ],
      "execution_count": null,
      "outputs": [
        {
          "output_type": "stream",
          "name": "stdout",
          "text": [
            "Python 3.8.16\n"
          ]
        }
      ]
    },
    {
      "cell_type": "code",
      "metadata": {
        "colab": {
          "base_uri": "https://localhost:8080/"
        },
        "id": "E9Y_n_8UrO9i",
        "outputId": "d5282842-0bd1-45f4-e6aa-2c13f6364ea4"
      },
      "source": [
        "!echo $PYTHONPATH"
      ],
      "execution_count": null,
      "outputs": [
        {
          "output_type": "stream",
          "name": "stdout",
          "text": [
            "/env/python\n"
          ]
        }
      ]
    },
    {
      "cell_type": "code",
      "metadata": {
        "id": "-qyD7Jl0Gw1E"
      },
      "source": [
        "import numpy as np\n",
        "import pandas as pd\n",
        "import statsmodels.api as sm\n",
        "import matplotlib.pyplot as plt\n",
        "import seaborn as sns\n",
        "from mpl_toolkits.mplot3d import Axes3D\n",
        "from sklearn.cluster import KMeans\n",
        "from sklearn.cluster import DBSCAN\n",
        "from sklearn.svm import SVC\n",
        "from sklearn.neighbors import NearestNeighbors\n",
        "from sklearn.preprocessing import StandardScaler\n",
        "from sklearn.metrics import silhouette_score\n",
        "from sklearn.metrics import confusion_matrix,classification_report,plot_confusion_matrix,accuracy_score\n",
        "from sklearn.model_selection import GridSearchCV\n",
        "\n",
        "# TODO: install any packages you need to here. For example:\n",
        "#pip install unidecode"
      ],
      "execution_count": null,
      "outputs": []
    },
    {
      "cell_type": "markdown",
      "metadata": {
        "id": "RLlBjIyS2o54"
      },
      "source": [
        "# Question 1: Uncle Steve's Diamonds"
      ]
    },
    {
      "cell_type": "markdown",
      "metadata": {
        "id": "qj1NSQelo_oN"
      },
      "source": [
        "## Instructions\n",
        "\n",
        "You work at a local jewelry store named *Uncle Steve's Diamonds*. You started as a janitor, but you’ve recently been promoted to senior data analyst. Congratulations!\n",
        "\n",
        "Uncle Steve, the store's owner, needs to better understand the store's customers. In particular, he wants to know what kind of customers shop at the store. He wants to know the main types of *customer personas*. Once he knows these, he will contemplate ways to better market to each persona, better satisfy each persona, better cater to each persona, increase the loyalty of each persona, etc. But first, he must know the personas.\n",
        "\n",
        "You want to help Uncle Steve. Using sneaky magic (and the help of Environics), you've collected four useful features for a subset of the customers: age, income, spending score (i.e., a score based on how much they’ve spent at the store in total), and savings (i.e., how much money they have in their personal bank account).\n",
        "\n",
        "**Your tasks**\n",
        "\n",
        "1. Pick a clustering algorithm (the [`sklearn.cluster`](https://scikit-learn.org/stable/modules/classes.html#module-sklearn.cluster) module has many good choices, including [`KMeans`](https://scikit-learn.org/stable/modules/generated/sklearn.cluster.KMeans.html#sklearn.cluster.KMeans), [`DBSCAN`](https://scikit-learn.org/stable/modules/generated/sklearn.cluster.DBSCAN.html#sklearn.cluster.DBSCAN), and [`AgglomerativeClustering`](https://scikit-learn.org/stable/modules/generated/sklearn.cluster.AgglomerativeClustering.html#sklearn.cluster.AgglomerativeClustering) (aka Hierarchical)). (Note that another popular implementation of the hierarchical algorithm can be found in SciPy's [`scipy.cluster.hierarchy.linkage`](https://docs.scipy.org/doc/scipy/reference/generated/scipy.cluster.hierarchy.linkage.html).) Don't spend a lot of time thinking about which algorithm to choose - just pick one. Cluster the customers as best as you can, within reason. That is, try different feature preprocessing steps, hyperparameter values, and/or distance metrics. You don't need to try every posssible combination, but try a few at least. Measure how good each  model configuration is by calculating an internal validation metric (e.g., [`calinski_harabasz_score`](https://scikit-learn.org/stable/modules/generated/sklearn.metrics.calinski_harabasz_score.html) or [`silhouette_score`](https://scikit-learn.org/stable/modules/generated/sklearn.metrics.silhouette_score.html#sklearn.metrics.silhouette_score)).\n",
        "2. You have some doubts - you're not sure if the algorithm you chose in part 1 is the best algorithm for this dataset/problem. Neither is Uncle Steve. So, choose a different algorithm (any!) and do it all again.\n",
        "3. Which clustering algorithm is \"better\" in this case? Think about charateristics of the algorithm like quality of results, ease of use, speed, interpretability, etc. Choose a \"winner\" and justify to Uncle Steve.\n",
        "4. Interpret the clusters of the winning model. That is, describe, in words, a *persona* that accurately depicts each cluster. Use statistics (e.g., cluster means/distributions), examples (e.g., exemplar instances from each cluster), and/or visualizations (e.g., relative importance plots, snakeplots) to get started. Human judgement and creativity will be necessary. This is where it all comes together. Be descriptive and *help Uncle Steve understand his customers better*. Please!\n",
        "\n",
        "**Marking**\n",
        "\n",
        "The coding parts (i.e., 1 and 2) will be marked based on:\n",
        "\n",
        "- *Correctness*. Code clearly and fully performs the task specified.\n",
        "- *Reproducibility*. Code is fully reproducible. I.e., you (and I) are able to run this Notebook again and again, from top to bottom, and get the same results each time.\n",
        "- *Style*. Code is organized. All parts commented with clear reasoning and rationale. No old code laying around. Code easy to follow.\n",
        "\n",
        "\n",
        "Parts 3 and 4 will be marked on:\n",
        "\n",
        "- *Quality*. Response is well-justified and convincing. Responses uses facts and data where possible.\n",
        "- *Style*. Response uses proper grammar, spelling, and punctuation. Response is clear and professional. Response is complete, but not overly-verbose. Response follows length guidelines.\n",
        "\n",
        "\n",
        "**Tips**\n",
        "\n",
        "- Since clustering is an unsupervised ML technique, you don't need to split the data into training/validation/test or anything like that. Phew!\n",
        "- On the flip side, since clustering is unsupervised, you will never know the \"true\" clusters, and so you will never know if a given algorithm is \"correct.\" There really is no notion of \"correctness\" - only \"usefullness.\"\n",
        "- Many online clustering tutorials (including some from Uncle Steve) create flashy visualizations of the clusters by plotting the instances on a 2-D graph and coloring each point by the cluster ID. This is really nice and all, but it can only work if your dataset only has exactly two features - no more, no less. This dataset has more than two features, so you cannot use this technique. (But that's OK - you don't need to use this technique.)\n",
        "- Must you use all four features in the clustering? Not necessarily, no. But \"throwing away\" quality data, for no reason, is unlikely to improve a model.\n",
        "- Some people have success applying a dimensionality reduction technique (like [`sklearn.decomposition.PCA`](https://scikit-learn.org/stable/modules/generated/sklearn.decomposition.PCA.html)) to the features before clustering. You may do this if you wish, although it may not be as helpful in this case because there are only four features to begin with.\n",
        "- If you apply a transformation (e.g., [`MinMaxScaler`](https://scikit-learn.org/stable/modules/generated/sklearn.preprocessing.MinMaxScaler.html) or [`StandardScaler`](https://scikit-learn.org/stable/modules/generated/sklearn.preprocessing.StandardScaler.html#sklearn.preprocessing.StandardScaler)) to the features before clustering, you may have difficulty interpretting the means of the clusters (e.g., what is a mean Age of 0.2234??). There are two options to fix this: first, you can always reverse a transformation with the `inverse_transform` method. Second, you can just use the original dataset (i.e., before any preprocessing) during the interpreation step.\n",
        "- You cannot change the distance metric for K-Means. (This is for theoretical reasons: K-Means only works/makes sense with Euclidean distance.)\n"
      ]
    },
    {
      "cell_type": "markdown",
      "metadata": {
        "id": "Yww0-vtpOw7z"
      },
      "source": [
        "## 1.0: Load data"
      ]
    },
    {
      "cell_type": "code",
      "metadata": {
        "colab": {
          "base_uri": "https://localhost:8080/"
        },
        "id": "qVWx2c-DhQYo",
        "outputId": "0c032f79-0437-47e1-b2d9-5050e953c7e0"
      },
      "source": [
        "# DO NOT MODIFY THIS CELL\n",
        "df1 = pd.read_csv(\"https://drive.google.com/uc?export=download&id=1thHDCwQK3GijytoSSZNekAsItN_FGHtm\")\n",
        "df1.info()"
      ],
      "execution_count": null,
      "outputs": [
        {
          "output_type": "stream",
          "name": "stdout",
          "text": [
            "<class 'pandas.core.frame.DataFrame'>\n",
            "RangeIndex: 505 entries, 0 to 504\n",
            "Data columns (total 4 columns):\n",
            " #   Column         Non-Null Count  Dtype  \n",
            "---  ------         --------------  -----  \n",
            " 0   Age            505 non-null    int64  \n",
            " 1   Income         505 non-null    int64  \n",
            " 2   SpendingScore  505 non-null    float64\n",
            " 3   Savings        505 non-null    float64\n",
            "dtypes: float64(2), int64(2)\n",
            "memory usage: 15.9 KB\n"
          ]
        }
      ]
    },
    {
      "cell_type": "markdown",
      "metadata": {
        "id": "R04NzckZKbG2"
      },
      "source": [
        "## 1.1: Clustering Algorithm #1"
      ]
    },
    {
      "cell_type": "code",
      "source": [
        "df1.head()"
      ],
      "metadata": {
        "colab": {
          "base_uri": "https://localhost:8080/",
          "height": 206
        },
        "id": "q-cSAd4YE7IX",
        "outputId": "fd1d96e3-b1ae-4a25-cceb-f2b15ec16d67"
      },
      "execution_count": null,
      "outputs": [
        {
          "output_type": "execute_result",
          "data": {
            "text/plain": [
              "   Age  Income  SpendingScore       Savings\n",
              "0   58   77769       0.791329   6559.829923\n",
              "1   59   81799       0.791082   5417.661426\n",
              "2   62   74751       0.702657   9258.992965\n",
              "3   59   74373       0.765680   7346.334504\n",
              "4   87   17760       0.348778  16869.507130"
            ],
            "text/html": [
              "\n",
              "  <div id=\"df-0fc77e90-9328-4289-accf-5b35604742c3\">\n",
              "    <div class=\"colab-df-container\">\n",
              "      <div>\n",
              "<style scoped>\n",
              "    .dataframe tbody tr th:only-of-type {\n",
              "        vertical-align: middle;\n",
              "    }\n",
              "\n",
              "    .dataframe tbody tr th {\n",
              "        vertical-align: top;\n",
              "    }\n",
              "\n",
              "    .dataframe thead th {\n",
              "        text-align: right;\n",
              "    }\n",
              "</style>\n",
              "<table border=\"1\" class=\"dataframe\">\n",
              "  <thead>\n",
              "    <tr style=\"text-align: right;\">\n",
              "      <th></th>\n",
              "      <th>Age</th>\n",
              "      <th>Income</th>\n",
              "      <th>SpendingScore</th>\n",
              "      <th>Savings</th>\n",
              "    </tr>\n",
              "  </thead>\n",
              "  <tbody>\n",
              "    <tr>\n",
              "      <th>0</th>\n",
              "      <td>58</td>\n",
              "      <td>77769</td>\n",
              "      <td>0.791329</td>\n",
              "      <td>6559.829923</td>\n",
              "    </tr>\n",
              "    <tr>\n",
              "      <th>1</th>\n",
              "      <td>59</td>\n",
              "      <td>81799</td>\n",
              "      <td>0.791082</td>\n",
              "      <td>5417.661426</td>\n",
              "    </tr>\n",
              "    <tr>\n",
              "      <th>2</th>\n",
              "      <td>62</td>\n",
              "      <td>74751</td>\n",
              "      <td>0.702657</td>\n",
              "      <td>9258.992965</td>\n",
              "    </tr>\n",
              "    <tr>\n",
              "      <th>3</th>\n",
              "      <td>59</td>\n",
              "      <td>74373</td>\n",
              "      <td>0.765680</td>\n",
              "      <td>7346.334504</td>\n",
              "    </tr>\n",
              "    <tr>\n",
              "      <th>4</th>\n",
              "      <td>87</td>\n",
              "      <td>17760</td>\n",
              "      <td>0.348778</td>\n",
              "      <td>16869.507130</td>\n",
              "    </tr>\n",
              "  </tbody>\n",
              "</table>\n",
              "</div>\n",
              "      <button class=\"colab-df-convert\" onclick=\"convertToInteractive('df-0fc77e90-9328-4289-accf-5b35604742c3')\"\n",
              "              title=\"Convert this dataframe to an interactive table.\"\n",
              "              style=\"display:none;\">\n",
              "        \n",
              "  <svg xmlns=\"http://www.w3.org/2000/svg\" height=\"24px\"viewBox=\"0 0 24 24\"\n",
              "       width=\"24px\">\n",
              "    <path d=\"M0 0h24v24H0V0z\" fill=\"none\"/>\n",
              "    <path d=\"M18.56 5.44l.94 2.06.94-2.06 2.06-.94-2.06-.94-.94-2.06-.94 2.06-2.06.94zm-11 1L8.5 8.5l.94-2.06 2.06-.94-2.06-.94L8.5 2.5l-.94 2.06-2.06.94zm10 10l.94 2.06.94-2.06 2.06-.94-2.06-.94-.94-2.06-.94 2.06-2.06.94z\"/><path d=\"M17.41 7.96l-1.37-1.37c-.4-.4-.92-.59-1.43-.59-.52 0-1.04.2-1.43.59L10.3 9.45l-7.72 7.72c-.78.78-.78 2.05 0 2.83L4 21.41c.39.39.9.59 1.41.59.51 0 1.02-.2 1.41-.59l7.78-7.78 2.81-2.81c.8-.78.8-2.07 0-2.86zM5.41 20L4 18.59l7.72-7.72 1.47 1.35L5.41 20z\"/>\n",
              "  </svg>\n",
              "      </button>\n",
              "      \n",
              "  <style>\n",
              "    .colab-df-container {\n",
              "      display:flex;\n",
              "      flex-wrap:wrap;\n",
              "      gap: 12px;\n",
              "    }\n",
              "\n",
              "    .colab-df-convert {\n",
              "      background-color: #E8F0FE;\n",
              "      border: none;\n",
              "      border-radius: 50%;\n",
              "      cursor: pointer;\n",
              "      display: none;\n",
              "      fill: #1967D2;\n",
              "      height: 32px;\n",
              "      padding: 0 0 0 0;\n",
              "      width: 32px;\n",
              "    }\n",
              "\n",
              "    .colab-df-convert:hover {\n",
              "      background-color: #E2EBFA;\n",
              "      box-shadow: 0px 1px 2px rgba(60, 64, 67, 0.3), 0px 1px 3px 1px rgba(60, 64, 67, 0.15);\n",
              "      fill: #174EA6;\n",
              "    }\n",
              "\n",
              "    [theme=dark] .colab-df-convert {\n",
              "      background-color: #3B4455;\n",
              "      fill: #D2E3FC;\n",
              "    }\n",
              "\n",
              "    [theme=dark] .colab-df-convert:hover {\n",
              "      background-color: #434B5C;\n",
              "      box-shadow: 0px 1px 3px 1px rgba(0, 0, 0, 0.15);\n",
              "      filter: drop-shadow(0px 1px 2px rgba(0, 0, 0, 0.3));\n",
              "      fill: #FFFFFF;\n",
              "    }\n",
              "  </style>\n",
              "\n",
              "      <script>\n",
              "        const buttonEl =\n",
              "          document.querySelector('#df-0fc77e90-9328-4289-accf-5b35604742c3 button.colab-df-convert');\n",
              "        buttonEl.style.display =\n",
              "          google.colab.kernel.accessAllowed ? 'block' : 'none';\n",
              "\n",
              "        async function convertToInteractive(key) {\n",
              "          const element = document.querySelector('#df-0fc77e90-9328-4289-accf-5b35604742c3');\n",
              "          const dataTable =\n",
              "            await google.colab.kernel.invokeFunction('convertToInteractive',\n",
              "                                                     [key], {});\n",
              "          if (!dataTable) return;\n",
              "\n",
              "          const docLinkHtml = 'Like what you see? Visit the ' +\n",
              "            '<a target=\"_blank\" href=https://colab.research.google.com/notebooks/data_table.ipynb>data table notebook</a>'\n",
              "            + ' to learn more about interactive tables.';\n",
              "          element.innerHTML = '';\n",
              "          dataTable['output_type'] = 'display_data';\n",
              "          await google.colab.output.renderOutput(dataTable, element);\n",
              "          const docLink = document.createElement('div');\n",
              "          docLink.innerHTML = docLinkHtml;\n",
              "          element.appendChild(docLink);\n",
              "        }\n",
              "      </script>\n",
              "    </div>\n",
              "  </div>\n",
              "  "
            ]
          },
          "metadata": {},
          "execution_count": 405
        }
      ]
    },
    {
      "cell_type": "code",
      "source": [
        "# Distribution of Income Chart\n",
        "plt.figure(figsize=(10,6))\n",
        "sns.set(style = 'whitegrid')\n",
        "sns.distplot(df1['Income'])\n",
        "plt.title('Distribution of Income', fontsize = 20)\n",
        "plt.xlabel('Range of Income')\n",
        "plt.ylabel('Count')\n",
        "# Most of the Income falls between 75000 - 100000"
      ],
      "metadata": {
        "id": "ayl_X7TTG4NP",
        "colab": {
          "base_uri": "https://localhost:8080/",
          "height": 487
        },
        "outputId": "dc162051-34ed-4bf5-bd7c-a54e6cf9bb42"
      },
      "execution_count": null,
      "outputs": [
        {
          "output_type": "stream",
          "name": "stderr",
          "text": [
            "/usr/local/lib/python3.8/dist-packages/seaborn/distributions.py:2619: FutureWarning: `distplot` is a deprecated function and will be removed in a future version. Please adapt your code to use either `displot` (a figure-level function with similar flexibility) or `histplot` (an axes-level function for histograms).\n",
            "  warnings.warn(msg, FutureWarning)\n"
          ]
        },
        {
          "output_type": "execute_result",
          "data": {
            "text/plain": [
              "Text(0, 0.5, 'Count')"
            ]
          },
          "metadata": {},
          "execution_count": 406
        },
        {
          "output_type": "display_data",
          "data": {
            "text/plain": [
              "<Figure size 720x432 with 1 Axes>"
            ],
            "image/png": "[encoded data removed]"
          },
          "metadata": {}
        }
      ]
    },
    {
      "cell_type": "code",
      "source": [
        "# Distribution of Age Chart\n",
        "plt.figure(figsize=(10, 6))\n",
        "sns.set(style = 'whitegrid')\n",
        "sns.distplot(df1['Age'])\n",
        "plt.title('Distribution of Age', fontsize = 20)\n",
        "plt.xlabel('Range of Age')\n",
        "plt.ylabel('Count')\n",
        "# Most customers are adults or older people (Well settled)"
      ],
      "metadata": {
        "colab": {
          "base_uri": "https://localhost:8080/",
          "height": 487
        },
        "id": "Ef59CiuKpop7",
        "outputId": "bcf231dd-9a9b-41e9-deaa-2fce581b9993"
      },
      "execution_count": null,
      "outputs": [
        {
          "output_type": "stream",
          "name": "stderr",
          "text": [
            "/usr/local/lib/python3.8/dist-packages/seaborn/distributions.py:2619: FutureWarning: `distplot` is a deprecated function and will be removed in a future version. Please adapt your code to use either `displot` (a figure-level function with similar flexibility) or `histplot` (an axes-level function for histograms).\n",
            "  warnings.warn(msg, FutureWarning)\n"
          ]
        },
        {
          "output_type": "execute_result",
          "data": {
            "text/plain": [
              "Text(0, 0.5, 'Count')"
            ]
          },
          "metadata": {},
          "execution_count": 407
        },
        {
          "output_type": "display_data",
          "data": {
            "text/plain": [
              "<Figure size 720x432 with 1 Axes>"
            ],
            "image/png": "[encoded data removed]"
          },
          "metadata": {}
        }
      ]
    },
    {
      "cell_type": "code",
      "source": [
        "# Distribution of Spending Score Chart\n",
        "plt.figure(figsize=(10, 6))\n",
        "sns.set(style = 'whitegrid')\n",
        "sns.distplot(df1['SpendingScore'])\n",
        "plt.title('Distribution of Spending Score', fontsize = 20)\n",
        "plt.xlabel('Range of Spending Score')\n",
        "plt.ylabel('Count')\n",
        "# Maximum Spending score lies between 0.2 - 0.4"
      ],
      "metadata": {
        "colab": {
          "base_uri": "https://localhost:8080/",
          "height": 487
        },
        "id": "AIdaYfxTpqjE",
        "outputId": "0c4bae64-78c2-4b62-a01e-83342b3ad2a4"
      },
      "execution_count": null,
      "outputs": [
        {
          "output_type": "stream",
          "name": "stderr",
          "text": [
            "/usr/local/lib/python3.8/dist-packages/seaborn/distributions.py:2619: FutureWarning: `distplot` is a deprecated function and will be removed in a future version. Please adapt your code to use either `displot` (a figure-level function with similar flexibility) or `histplot` (an axes-level function for histograms).\n",
            "  warnings.warn(msg, FutureWarning)\n"
          ]
        },
        {
          "output_type": "execute_result",
          "data": {
            "text/plain": [
              "Text(0, 0.5, 'Count')"
            ]
          },
          "metadata": {},
          "execution_count": 408
        },
        {
          "output_type": "display_data",
          "data": {
            "text/plain": [
              "<Figure size 720x432 with 1 Axes>"
            ],
            "image/png": "[encoded data removed]"
          },
          "metadata": {}
        }
      ]
    },
    {
      "cell_type": "code",
      "source": [
        "# Distribution of Savings Chart\n",
        "plt.figure(figsize=(10, 6))\n",
        "sns.set(style = 'whitegrid')\n",
        "sns.distplot(df1['Savings'])\n",
        "plt.title('Distribution of Savings', fontsize = 20)\n",
        "plt.xlabel('Range of Savings')\n",
        "plt.ylabel('Count')\n",
        "# Most people that are buying have higher Savings (15000 - 18000)"
      ],
      "metadata": {
        "colab": {
          "base_uri": "https://localhost:8080/",
          "height": 487
        },
        "id": "qrhBe340pqws",
        "outputId": "3ef5f03f-7029-4346-c465-190e49c9ed26"
      },
      "execution_count": null,
      "outputs": [
        {
          "output_type": "stream",
          "name": "stderr",
          "text": [
            "/usr/local/lib/python3.8/dist-packages/seaborn/distributions.py:2619: FutureWarning: `distplot` is a deprecated function and will be removed in a future version. Please adapt your code to use either `displot` (a figure-level function with similar flexibility) or `histplot` (an axes-level function for histograms).\n",
            "  warnings.warn(msg, FutureWarning)\n"
          ]
        },
        {
          "output_type": "execute_result",
          "data": {
            "text/plain": [
              "Text(0, 0.5, 'Count')"
            ]
          },
          "metadata": {},
          "execution_count": 409
        },
        {
          "output_type": "display_data",
          "data": {
            "text/plain": [
              "<Figure size 720x432 with 1 Axes>"
            ],
            "image/png": "[encoded data removed]"
          },
          "metadata": {}
        }
      ]
    },
    {
      "cell_type": "code",
      "source": [
        "plt.figure(figsize=(12,6),dpi=200)\n",
        "sns.heatmap(df1.corr())"
      ],
      "metadata": {
        "colab": {
          "base_uri": "https://localhost:8080/",
          "height": 671
        },
        "id": "0Lhzb5EKRrEs",
        "outputId": "8f05d609-ddad-4265-aac9-eb3918985dd8"
      },
      "execution_count": null,
      "outputs": [
        {
          "output_type": "execute_result",
          "data": {
            "text/plain": [
              "<matplotlib.axes._subplots.AxesSubplot at 0x7fbcd14e8550>"
            ]
          },
          "metadata": {},
          "execution_count": 410
        },
        {
          "output_type": "display_data",
          "data": {
            "text/plain": [
              "<Figure size 2400x1200 with 2 Axes>"
            ],
            "image/png": "[encoded data removed]"
          },
          "metadata": {}
        }
      ]
    },
    {
      "cell_type": "code",
      "source": [
        "# Clustering based on 2 features of Income and Spending Scores\n",
        "X=df1[['Income','SpendingScore']]"
      ],
      "metadata": {
        "id": "Ha_93Wt4prDz"
      },
      "execution_count": null,
      "outputs": []
    },
    {
      "cell_type": "code",
      "source": [
        "X.head()"
      ],
      "metadata": {
        "colab": {
          "base_uri": "https://localhost:8080/",
          "height": 206
        },
        "id": "bhIu5NXmsFYc",
        "outputId": "223d9f5f-957d-4204-9ecb-ab7b60ca54e0"
      },
      "execution_count": null,
      "outputs": [
        {
          "output_type": "execute_result",
          "data": {
            "text/plain": [
              "   Income  SpendingScore\n",
              "0   77769       0.791329\n",
              "1   81799       0.791082\n",
              "2   74751       0.702657\n",
              "3   74373       0.765680\n",
              "4   17760       0.348778"
            ],
            "text/html": [
              "\n",
              "  <div id=\"df-4704f32c-0cfc-44f7-8db1-cd025c2ad5f6\">\n",
              "    <div class=\"colab-df-container\">\n",
              "      <div>\n",
              "<style scoped>\n",
              "    .dataframe tbody tr th:only-of-type {\n",
              "        vertical-align: middle;\n",
              "    }\n",
              "\n",
              "    .dataframe tbody tr th {\n",
              "        vertical-align: top;\n",
              "    }\n",
              "\n",
              "    .dataframe thead th {\n",
              "        text-align: right;\n",
              "    }\n",
              "</style>\n",
              "<table border=\"1\" class=\"dataframe\">\n",
              "  <thead>\n",
              "    <tr style=\"text-align: right;\">\n",
              "      <th></th>\n",
              "      <th>Income</th>\n",
              "      <th>SpendingScore</th>\n",
              "    </tr>\n",
              "  </thead>\n",
              "  <tbody>\n",
              "    <tr>\n",
              "      <th>0</th>\n",
              "      <td>77769</td>\n",
              "      <td>0.791329</td>\n",
              "    </tr>\n",
              "    <tr>\n",
              "      <th>1</th>\n",
              "      <td>81799</td>\n",
              "      <td>0.791082</td>\n",
              "    </tr>\n",
              "    <tr>\n",
              "      <th>2</th>\n",
              "      <td>74751</td>\n",
              "      <td>0.702657</td>\n",
              "    </tr>\n",
              "    <tr>\n",
              "      <th>3</th>\n",
              "      <td>74373</td>\n",
              "      <td>0.765680</td>\n",
              "    </tr>\n",
              "    <tr>\n",
              "      <th>4</th>\n",
              "      <td>17760</td>\n",
              "      <td>0.348778</td>\n",
              "    </tr>\n",
              "  </tbody>\n",
              "</table>\n",
              "</div>\n",
              "      <button class=\"colab-df-convert\" onclick=\"convertToInteractive('df-4704f32c-0cfc-44f7-8db1-cd025c2ad5f6')\"\n",
              "              title=\"Convert this dataframe to an interactive table.\"\n",
              "              style=\"display:none;\">\n",
              "        \n",
              "  <svg xmlns=\"http://www.w3.org/2000/svg\" height=\"24px\"viewBox=\"0 0 24 24\"\n",
              "       width=\"24px\">\n",
              "    <path d=\"M0 0h24v24H0V0z\" fill=\"none\"/>\n",
              "    <path d=\"M18.56 5.44l.94 2.06.94-2.06 2.06-.94-2.06-.94-.94-2.06-.94 2.06-2.06.94zm-11 1L8.5 8.5l.94-2.06 2.06-.94-2.06-.94L8.5 2.5l-.94 2.06-2.06.94zm10 10l.94 2.06.94-2.06 2.06-.94-2.06-.94-.94-2.06-.94 2.06-2.06.94z\"/><path d=\"M17.41 7.96l-1.37-1.37c-.4-.4-.92-.59-1.43-.59-.52 0-1.04.2-1.43.59L10.3 9.45l-7.72 7.72c-.78.78-.78 2.05 0 2.83L4 21.41c.39.39.9.59 1.41.59.51 0 1.02-.2 1.41-.59l7.78-7.78 2.81-2.81c.8-.78.8-2.07 0-2.86zM5.41 20L4 18.59l7.72-7.72 1.47 1.35L5.41 20z\"/>\n",
              "  </svg>\n",
              "      </button>\n",
              "      \n",
              "  <style>\n",
              "    .colab-df-container {\n",
              "      display:flex;\n",
              "      flex-wrap:wrap;\n",
              "      gap: 12px;\n",
              "    }\n",
              "\n",
              "    .colab-df-convert {\n",
              "      background-color: #E8F0FE;\n",
              "      border: none;\n",
              "      border-radius: 50%;\n",
              "      cursor: pointer;\n",
              "      display: none;\n",
              "      fill: #1967D2;\n",
              "      height: 32px;\n",
              "      padding: 0 0 0 0;\n",
              "      width: 32px;\n",
              "    }\n",
              "\n",
              "    .colab-df-convert:hover {\n",
              "      background-color: #E2EBFA;\n",
              "      box-shadow: 0px 1px 2px rgba(60, 64, 67, 0.3), 0px 1px 3px 1px rgba(60, 64, 67, 0.15);\n",
              "      fill: #174EA6;\n",
              "    }\n",
              "\n",
              "    [theme=dark] .colab-df-convert {\n",
              "      background-color: #3B4455;\n",
              "      fill: #D2E3FC;\n",
              "    }\n",
              "\n",
              "    [theme=dark] .colab-df-convert:hover {\n",
              "      background-color: #434B5C;\n",
              "      box-shadow: 0px 1px 3px 1px rgba(0, 0, 0, 0.15);\n",
              "      filter: drop-shadow(0px 1px 2px rgba(0, 0, 0, 0.3));\n",
              "      fill: #FFFFFF;\n",
              "    }\n",
              "  </style>\n",
              "\n",
              "      <script>\n",
              "        const buttonEl =\n",
              "          document.querySelector('#df-4704f32c-0cfc-44f7-8db1-cd025c2ad5f6 button.colab-df-convert');\n",
              "        buttonEl.style.display =\n",
              "          google.colab.kernel.accessAllowed ? 'block' : 'none';\n",
              "\n",
              "        async function convertToInteractive(key) {\n",
              "          const element = document.querySelector('#df-4704f32c-0cfc-44f7-8db1-cd025c2ad5f6');\n",
              "          const dataTable =\n",
              "            await google.colab.kernel.invokeFunction('convertToInteractive',\n",
              "                                                     [key], {});\n",
              "          if (!dataTable) return;\n",
              "\n",
              "          const docLinkHtml = 'Like what you see? Visit the ' +\n",
              "            '<a target=\"_blank\" href=https://colab.research.google.com/notebooks/data_table.ipynb>data table notebook</a>'\n",
              "            + ' to learn more about interactive tables.';\n",
              "          element.innerHTML = '';\n",
              "          dataTable['output_type'] = 'display_data';\n",
              "          await google.colab.output.renderOutput(dataTable, element);\n",
              "          const docLink = document.createElement('div');\n",
              "          docLink.innerHTML = docLinkHtml;\n",
              "          element.appendChild(docLink);\n",
              "        }\n",
              "      </script>\n",
              "    </div>\n",
              "  </div>\n",
              "  "
            ]
          },
          "metadata": {},
          "execution_count": 412
        }
      ]
    },
    {
      "cell_type": "code",
      "source": [
        "#Scatterplot of the input data\n",
        "plt.figure(figsize=(10,6))\n",
        "sns.scatterplot(x = 'Income',y = 'SpendingScore',  data = X  ,s = 60 )\n",
        "plt.xlabel('Income')\n",
        "plt.ylabel('Spending Score')\n",
        "plt.title('Spending Score and Income')\n",
        "plt.show()"
      ],
      "metadata": {
        "colab": {
          "base_uri": "https://localhost:8080/",
          "height": 410
        },
        "id": "mTL9DzKosFKr",
        "outputId": "0b5646ed-1668-432c-9aa2-dfa5836a79fe"
      },
      "execution_count": null,
      "outputs": [
        {
          "output_type": "display_data",
          "data": {
            "text/plain": [
              "<Figure size 720x432 with 1 Axes>"
            ],
            "image/png": "[encoded data removed]"
          },
          "metadata": {}
        }
      ]
    },
    {
      "cell_type": "code",
      "source": [
        "# Finding the best amount of clusters\n",
        "wcss=[]\n",
        "for i in range(1,11):\n",
        "    km=KMeans(n_clusters=i)\n",
        "    km.fit(X)\n",
        "    wcss.append(km.inertia_)"
      ],
      "metadata": {
        "id": "_4pmMowaLp1Y"
      },
      "execution_count": null,
      "outputs": []
    },
    {
      "cell_type": "code",
      "source": [
        "#The elbow curve\n",
        "plt.figure(figsize=(12,6))\n",
        "plt.plot(range(1,11),wcss)\n",
        "plt.plot(range(1,11),wcss, linewidth=2, color=\"red\", marker =\"8\")\n",
        "plt.xlabel(\"K Value\")\n",
        "plt.xticks(np.arange(1,11,1))\n",
        "plt.ylabel(\"WCSS\")\n",
        "plt.show()"
      ],
      "metadata": {
        "id": "3BK1Wj_qL9r5",
        "colab": {
          "base_uri": "https://localhost:8080/",
          "height": 405
        },
        "outputId": "a3c2565c-aed9-43f2-cf11-fcf808808170"
      },
      "execution_count": null,
      "outputs": [
        {
          "output_type": "display_data",
          "data": {
            "text/plain": [
              "<Figure size 864x432 with 1 Axes>"
            ],
            "image/png": "[encoded data removed]"
          },
          "metadata": {}
        }
      ]
    },
    {
      "cell_type": "code",
      "source": [
        "#Taking 3 clusters\n",
        "km=KMeans(n_clusters=3)\n",
        "# Scale the data\n",
        "scaler = StandardScaler()\n",
        "X_scaled = scaler.fit_transform(X)\n",
        "# Fit and Predicting the labels of the input data\n",
        "y= km.fit_predict(X_scaled)\n",
        "#Adding the labels to a column named label\n",
        "df1[\"label\"] = y\n",
        "#The new dataframe with the clustering\n",
        "df1.head(10)"
      ],
      "metadata": {
        "id": "5_T7jnxBsE-A",
        "colab": {
          "base_uri": "https://localhost:8080/",
          "height": 363
        },
        "outputId": "c1681fd4-1935-4eea-a721-6550f42e5351"
      },
      "execution_count": null,
      "outputs": [
        {
          "output_type": "execute_result",
          "data": {
            "text/plain": [
              "   Age  Income  SpendingScore       Savings  label\n",
              "0   58   77769       0.791329   6559.829923      1\n",
              "1   59   81799       0.791082   5417.661426      1\n",
              "2   62   74751       0.702657   9258.992965      1\n",
              "3   59   74373       0.765680   7346.334504      1\n",
              "4   87   17760       0.348778  16869.507130      2\n",
              "5   29  131578       0.847034   3535.514352      1\n",
              "6   54   76500       0.785198   6878.884249      1\n",
              "7   87   42592       0.355290  18086.287158      2\n",
              "8   83   34384       0.324719  14783.379086      2\n",
              "9   84   27693       0.367063  17879.558906      2"
            ],
            "text/html": [
              "\n",
              "  <div id=\"df-372fb84b-4149-4fe3-ac40-6b26166f2d6b\">\n",
              "    <div class=\"colab-df-container\">\n",
              "      <div>\n",
              "<style scoped>\n",
              "    .dataframe tbody tr th:only-of-type {\n",
              "        vertical-align: middle;\n",
              "    }\n",
              "\n",
              "    .dataframe tbody tr th {\n",
              "        vertical-align: top;\n",
              "    }\n",
              "\n",
              "    .dataframe thead th {\n",
              "        text-align: right;\n",
              "    }\n",
              "</style>\n",
              "<table border=\"1\" class=\"dataframe\">\n",
              "  <thead>\n",
              "    <tr style=\"text-align: right;\">\n",
              "      <th></th>\n",
              "      <th>Age</th>\n",
              "      <th>Income</th>\n",
              "      <th>SpendingScore</th>\n",
              "      <th>Savings</th>\n",
              "      <th>label</th>\n",
              "    </tr>\n",
              "  </thead>\n",
              "  <tbody>\n",
              "    <tr>\n",
              "      <th>0</th>\n",
              "      <td>58</td>\n",
              "      <td>77769</td>\n",
              "      <td>0.791329</td>\n",
              "      <td>6559.829923</td>\n",
              "      <td>1</td>\n",
              "    </tr>\n",
              "    <tr>\n",
              "      <th>1</th>\n",
              "      <td>59</td>\n",
              "      <td>81799</td>\n",
              "      <td>0.791082</td>\n",
              "      <td>5417.661426</td>\n",
              "      <td>1</td>\n",
              "    </tr>\n",
              "    <tr>\n",
              "      <th>2</th>\n",
              "      <td>62</td>\n",
              "      <td>74751</td>\n",
              "      <td>0.702657</td>\n",
              "      <td>9258.992965</td>\n",
              "      <td>1</td>\n",
              "    </tr>\n",
              "    <tr>\n",
              "      <th>3</th>\n",
              "      <td>59</td>\n",
              "      <td>74373</td>\n",
              "      <td>0.765680</td>\n",
              "      <td>7346.334504</td>\n",
              "      <td>1</td>\n",
              "    </tr>\n",
              "    <tr>\n",
              "      <th>4</th>\n",
              "      <td>87</td>\n",
              "      <td>17760</td>\n",
              "      <td>0.348778</td>\n",
              "      <td>16869.507130</td>\n",
              "      <td>2</td>\n",
              "    </tr>\n",
              "    <tr>\n",
              "      <th>5</th>\n",
              "      <td>29</td>\n",
              "      <td>131578</td>\n",
              "      <td>0.847034</td>\n",
              "      <td>3535.514352</td>\n",
              "      <td>1</td>\n",
              "    </tr>\n",
              "    <tr>\n",
              "      <th>6</th>\n",
              "      <td>54</td>\n",
              "      <td>76500</td>\n",
              "      <td>0.785198</td>\n",
              "      <td>6878.884249</td>\n",
              "      <td>1</td>\n",
              "    </tr>\n",
              "    <tr>\n",
              "      <th>7</th>\n",
              "      <td>87</td>\n",
              "      <td>42592</td>\n",
              "      <td>0.355290</td>\n",
              "      <td>18086.287158</td>\n",
              "      <td>2</td>\n",
              "    </tr>\n",
              "    <tr>\n",
              "      <th>8</th>\n",
              "      <td>83</td>\n",
              "      <td>34384</td>\n",
              "      <td>0.324719</td>\n",
              "      <td>14783.379086</td>\n",
              "      <td>2</td>\n",
              "    </tr>\n",
              "    <tr>\n",
              "      <th>9</th>\n",
              "      <td>84</td>\n",
              "      <td>27693</td>\n",
              "      <td>0.367063</td>\n",
              "      <td>17879.558906</td>\n",
              "      <td>2</td>\n",
              "    </tr>\n",
              "  </tbody>\n",
              "</table>\n",
              "</div>\n",
              "      <button class=\"colab-df-convert\" onclick=\"convertToInteractive('df-372fb84b-4149-4fe3-ac40-6b26166f2d6b')\"\n",
              "              title=\"Convert this dataframe to an interactive table.\"\n",
              "              style=\"display:none;\">\n",
              "        \n",
              "  <svg xmlns=\"http://www.w3.org/2000/svg\" height=\"24px\"viewBox=\"0 0 24 24\"\n",
              "       width=\"24px\">\n",
              "    <path d=\"M0 0h24v24H0V0z\" fill=\"none\"/>\n",
              "    <path d=\"M18.56 5.44l.94 2.06.94-2.06 2.06-.94-2.06-.94-.94-2.06-.94 2.06-2.06.94zm-11 1L8.5 8.5l.94-2.06 2.06-.94-2.06-.94L8.5 2.5l-.94 2.06-2.06.94zm10 10l.94 2.06.94-2.06 2.06-.94-2.06-.94-.94-2.06-.94 2.06-2.06.94z\"/><path d=\"M17.41 7.96l-1.37-1.37c-.4-.4-.92-.59-1.43-.59-.52 0-1.04.2-1.43.59L10.3 9.45l-7.72 7.72c-.78.78-.78 2.05 0 2.83L4 21.41c.39.39.9.59 1.41.59.51 0 1.02-.2 1.41-.59l7.78-7.78 2.81-2.81c.8-.78.8-2.07 0-2.86zM5.41 20L4 18.59l7.72-7.72 1.47 1.35L5.41 20z\"/>\n",
              "  </svg>\n",
              "      </button>\n",
              "      \n",
              "  <style>\n",
              "    .colab-df-container {\n",
              "      display:flex;\n",
              "      flex-wrap:wrap;\n",
              "      gap: 12px;\n",
              "    }\n",
              "\n",
              "    .colab-df-convert {\n",
              "      background-color: #E8F0FE;\n",
              "      border: none;\n",
              "      border-radius: 50%;\n",
              "      cursor: pointer;\n",
              "      display: none;\n",
              "      fill: #1967D2;\n",
              "      height: 32px;\n",
              "      padding: 0 0 0 0;\n",
              "      width: 32px;\n",
              "    }\n",
              "\n",
              "    .colab-df-convert:hover {\n",
              "      background-color: #E2EBFA;\n",
              "      box-shadow: 0px 1px 2px rgba(60, 64, 67, 0.3), 0px 1px 3px 1px rgba(60, 64, 67, 0.15);\n",
              "      fill: #174EA6;\n",
              "    }\n",
              "\n",
              "    [theme=dark] .colab-df-convert {\n",
              "      background-color: #3B4455;\n",
              "      fill: #D2E3FC;\n",
              "    }\n",
              "\n",
              "    [theme=dark] .colab-df-convert:hover {\n",
              "      background-color: #434B5C;\n",
              "      box-shadow: 0px 1px 3px 1px rgba(0, 0, 0, 0.15);\n",
              "      filter: drop-shadow(0px 1px 2px rgba(0, 0, 0, 0.3));\n",
              "      fill: #FFFFFF;\n",
              "    }\n",
              "  </style>\n",
              "\n",
              "      <script>\n",
              "        const buttonEl =\n",
              "          document.querySelector('#df-372fb84b-4149-4fe3-ac40-6b26166f2d6b button.colab-df-convert');\n",
              "        buttonEl.style.display =\n",
              "          google.colab.kernel.accessAllowed ? 'block' : 'none';\n",
              "\n",
              "        async function convertToInteractive(key) {\n",
              "          const element = document.querySelector('#df-372fb84b-4149-4fe3-ac40-6b26166f2d6b');\n",
              "          const dataTable =\n",
              "            await google.colab.kernel.invokeFunction('convertToInteractive',\n",
              "                                                     [key], {});\n",
              "          if (!dataTable) return;\n",
              "\n",
              "          const docLinkHtml = 'Like what you see? Visit the ' +\n",
              "            '<a target=\"_blank\" href=https://colab.research.google.com/notebooks/data_table.ipynb>data table notebook</a>'\n",
              "            + ' to learn more about interactive tables.';\n",
              "          element.innerHTML = '';\n",
              "          dataTable['output_type'] = 'display_data';\n",
              "          await google.colab.output.renderOutput(dataTable, element);\n",
              "          const docLink = document.createElement('div');\n",
              "          docLink.innerHTML = docLinkHtml;\n",
              "          element.appendChild(docLink);\n",
              "        }\n",
              "      </script>\n",
              "    </div>\n",
              "  </div>\n",
              "  "
            ]
          },
          "metadata": {},
          "execution_count": 416
        }
      ]
    },
    {
      "cell_type": "code",
      "source": [
        "#Scatterplot of the clusters\n",
        "plt.figure(figsize=(10,6))\n",
        "sns.scatterplot(x = 'Income',y = 'SpendingScore',hue=\"label\",\n",
        "                 palette=['red','orange','dodgerblue'], legend='full',data = df1  ,s = 80 )\n",
        "plt.xlabel('Income')\n",
        "plt.ylabel('Spending Score')\n",
        "plt.title('Spending Score and Income')\n",
        "plt.show()"
      ],
      "metadata": {
        "colab": {
          "base_uri": "https://localhost:8080/",
          "height": 410
        },
        "id": "bh9FkUkCvdfw",
        "outputId": "b0a458a1-6213-4684-bc22-271dba1b37a2"
      },
      "execution_count": null,
      "outputs": [
        {
          "output_type": "display_data",
          "data": {
            "text/plain": [
              "<Figure size 720x432 with 1 Axes>"
            ],
            "image/png": "[encoded data removed]"
          },
          "metadata": {}
        }
      ]
    },
    {
      "cell_type": "code",
      "source": [
        "# Number of Customers in each cluster\n",
        "cust1=df1[df1[\"label\"]==0]\n",
        "print('Number of customers in 1st cluster (0)=', len(cust1))\n",
        "cust2=df1[df1[\"label\"]==1]\n",
        "print('Number of customers in 2nd cluster (1)=', len(cust2))\n",
        "cust3=df1[df1[\"label\"]==2]\n",
        "print('Number of customers in 3rd cluster (2)=', len(cust3))"
      ],
      "metadata": {
        "colab": {
          "base_uri": "https://localhost:8080/"
        },
        "id": "evm7y1UsvdcY",
        "outputId": "07a3749e-f763-4927-9c1b-ad151cd1d83c"
      },
      "execution_count": null,
      "outputs": [
        {
          "output_type": "stream",
          "name": "stdout",
          "text": [
            "Number of customers in 1st cluster (0)= 151\n",
            "Number of customers in 2nd cluster (1)= 207\n",
            "Number of customers in 3rd cluster (2)= 147\n"
          ]
        }
      ]
    },
    {
      "cell_type": "code",
      "source": [
        "# Calculate the silhouette score for KMeans\n",
        "km_score = silhouette_score(X_scaled, y)\n",
        "print(f'KMeans silhouette score: {km_score:.3f}')"
      ],
      "metadata": {
        "id": "N--5oLDCvdIm",
        "colab": {
          "base_uri": "https://localhost:8080/"
        },
        "outputId": "c2b5e165-ac6f-4965-e322-7fc5f3742c17"
      },
      "execution_count": null,
      "outputs": [
        {
          "output_type": "stream",
          "name": "stdout",
          "text": [
            "KMeans silhouette score: 0.742\n"
          ]
        }
      ]
    },
    {
      "cell_type": "markdown",
      "metadata": {
        "id": "ihVtYBWg1NM6"
      },
      "source": [
        "## 1.2: Clustering Algorithm #2"
      ]
    },
    {
      "cell_type": "code",
      "source": [
        "neigh = NearestNeighbors(n_neighbors=3)   # minpoints - 1\n",
        "nbrs = neigh.fit(df1)\n",
        "distances, indices = nbrs.kneighbors(df1)\n",
        "distances[:,1]"
      ],
      "metadata": {
        "id": "9-Dd7Lim1i8n",
        "colab": {
          "base_uri": "https://localhost:8080/"
        },
        "outputId": "a4f9e6d2-b0d2-49e6-e15e-7bf0eb1716ee"
      },
      "execution_count": null,
      "outputs": [
        {
          "output_type": "execute_result",
          "data": {
            "text/plain": [
              "array([ 318.39631176,  611.97310366, 1256.33970695,   92.8607925 ,\n",
              "        241.70237357,  761.77364939,  308.89486605, 2021.13981561,\n",
              "        745.41227435,  360.07733652,  440.61749891,  828.93939829,\n",
              "        296.86393944,  137.74119941,  160.15117306,  208.72414084,\n",
              "        394.66386865,  153.10197697,  114.16862678,  967.93291748,\n",
              "        576.80292823,  208.72414084,  675.7330403 ,  528.01111058,\n",
              "        610.35558137, 1278.6088758 ,  704.3776582 ,  726.52482113,\n",
              "        577.51410618,  361.35661188,   96.23686662,  295.85415975,\n",
              "        521.56507874,  447.1588699 ,  150.16445454,  511.07141395,\n",
              "        535.38323123,  452.23973988,  179.15162707,  423.65175723,\n",
              "        295.15622602,  727.39363304,  336.77428527,  216.25634503,\n",
              "        391.89552956,  503.75430991,  451.49348274,  512.88340251,\n",
              "        201.64552598,  664.8272727 ,  521.56507874,  228.68134735,\n",
              "        421.56552777,  185.84627575,  534.11014684,  185.05531494,\n",
              "        201.64552598,  400.28564863,  578.39360713,  556.43377754,\n",
              "        265.86757753,  617.92112847,  376.32289132,  930.58029189,\n",
              "        693.81258191,  138.28395923,  251.31048978,  666.17315255,\n",
              "        375.48848326,  404.06389092,   64.13730859,  300.86600928,\n",
              "        228.20747364, 1375.79486901,  416.21225398,  623.2332608 ,\n",
              "        142.18224524,  209.37646961,  435.81726461,  876.91576058,\n",
              "       1300.6129661 , 1056.14330858, 2113.95056305,  381.39452702,\n",
              "         93.46002936,  220.59576977,  194.25590634,  527.56863012,\n",
              "       1757.97692249,  613.60741109,  215.22724798,  785.70202454,\n",
              "       1955.41572995,  244.25491686,  184.72570078,  479.35644196,\n",
              "        309.02662908,  452.00711644,  209.37646961,  269.70888311,\n",
              "        247.75004335,  373.99653419,  906.21859178,  277.01448075,\n",
              "        529.45827742,  246.85197709, 1584.61514574,  461.99440359,\n",
              "        415.02077868,  308.89486605,   93.46002936,  207.94739453,\n",
              "        423.41166653,  368.91343145,  870.99595723,  276.10911017,\n",
              "        828.18517607,  296.2466988 ,  442.39301093,  457.4863827 ,\n",
              "        142.04488636,   95.67167669, 2021.13981561,  759.08392936,\n",
              "        390.55168568,  967.93291748,  343.71555577,  616.91283704,\n",
              "        804.27505644,  534.11014684,  281.61717965,  510.36761789,\n",
              "        348.74610052,  179.12681203,  736.59120296,  278.39181531,\n",
              "       1733.17206939,  375.48848326,  107.28736683,  506.7818786 ,\n",
              "        228.20747364,  785.70202454, 1194.5932246 ,  354.05530486,\n",
              "        611.7125903 ,  379.03602054,  466.41909052,  943.21460545,\n",
              "        345.46867078,  346.59508571,  417.08971413,  553.18978706,\n",
              "        382.2411686 ,  267.84297264,  499.11686336,  545.13432117,\n",
              "        378.74008955,  459.66188   ,  406.38301981,  369.21862415,\n",
              "        303.67771072,  350.71936499,  460.98167494,  587.06891363,\n",
              "        409.37399842,  207.94739453,  281.15756511,  366.09254676,\n",
              "        440.61749891,  369.21862415,  376.32289132,  455.16997059,\n",
              "         86.32670206,  832.3343953 ,  207.68410472,  299.86046098,\n",
              "        302.89933376,  562.24365888,  244.25491686,  185.42920231,\n",
              "         31.63717292,  613.60741109,  298.26369797, 1335.85797142,\n",
              "        666.17315255,  397.48489975,  707.94998442,  438.85339   ,\n",
              "        299.86046098,  259.5804169 ,  928.51584213,  645.66942999,\n",
              "        190.23976026,  474.89201236,  362.14424169,  231.60822447,\n",
              "       2116.86010424,  186.69325788,  499.11686336,  281.40344587,\n",
              "        759.61180304, 1027.81448857,  948.65394907,  405.36473398,\n",
              "        353.12295099,  390.55168568,  502.65637964, 1072.88350578,\n",
              "        704.3776582 ,  693.81258191,  185.05531494,   95.67167669,\n",
              "        842.47758705, 1369.91899582,  910.29601856,  381.39452702,\n",
              "         86.32670206,  495.87024113,  997.25805117,  322.92133163,\n",
              "        459.66188   ,  103.79914235, 1382.02895493,  179.00659439,\n",
              "        600.46926011,  512.88340251,  891.54561946,  645.24294011,\n",
              "        362.14424169,  648.41559893,  897.12247473, 1150.66575124,\n",
              "        166.45907806, 1904.05172895,  457.19733078,  527.56863012,\n",
              "       1514.69768428,   96.23686662,  223.11527344,  220.0415429 ,\n",
              "        373.99653419,  385.38340406,  392.02713877,  287.71269011,\n",
              "       1449.29562019,  388.42861799,  424.61540938,  360.07733652,\n",
              "        592.50982544, 4106.83798262,  282.3488038 ,  275.01545767,\n",
              "        250.07718038,   57.91077824,  645.38204888,  185.84627575,\n",
              "        151.97199623,  416.88982578,  190.23976026,  186.36047915,\n",
              "        581.70203241, 1795.55196892,  250.07718038, 1375.79486901,\n",
              "        186.36047915,  168.12137904,  365.50960328,  854.28405576,\n",
              "        138.28395923,  104.6055667 ,  241.70237357, 1011.52803833,\n",
              "        518.78963041,  547.5983177 ,  276.10911017,  142.02371692,\n",
              "        396.25393146,  198.94982963, 1795.55196892,   93.59177615,\n",
              "        207.68410472,  142.04488636,  999.77115188,  634.10694575,\n",
              "        561.79475765,   59.84292981,  600.68851014, 1364.62712983,\n",
              "        669.62244807,  577.51410618,  842.47758705,  592.50982544,\n",
              "        468.03032023,  137.74119941,  422.43739337,  142.02371692,\n",
              "        236.66918578,  447.73173874,  260.01914511,  142.18224524,\n",
              "        160.15117306,  641.08751621,  322.92133163,  377.41872712,\n",
              "        404.47056002,  650.4247074 ,  567.2287254 , 1281.6347265 ,\n",
              "         73.67350736,  855.64011275,  586.06921846,  581.70203241,\n",
              "       1056.14330858,  785.33929546,  267.15986328, 1349.38656874,\n",
              "        419.96485577,  360.2428988 ,  337.31083309,  151.97199623,\n",
              "        287.24795379,   73.67350736,  509.87698959,   69.38834594,\n",
              "        287.24795379, 1015.02692795,  303.67771072,   59.84292981,\n",
              "        332.63954398,  401.20181485,  251.79975831,  447.06424706,\n",
              "        233.44851369,  223.70948531,  116.90126784,  478.94264024,\n",
              "        904.88175084, 2502.71212192,  282.3488038 , 1797.73290739,\n",
              "         61.74129528,  254.69471545,  267.15986328,  415.02077868,\n",
              "        452.00711644,  179.12681203,  382.78921539,  114.16862678,\n",
              "        697.18016092,  296.2466988 ,  561.79475765, 1021.97533205,\n",
              "        451.49348274,  943.21460545,  362.12632338,  546.11670135,\n",
              "        789.28133132,  609.58199862,  541.27475809,  214.41766032,\n",
              "       3118.4306893 ,  460.98167494,  491.71975796,  292.69929283,\n",
              "        541.27475809,  739.03886958,  588.27724243, 1009.06819813,\n",
              "         69.38834594,  298.26369797,  236.66918578,  361.35661188,\n",
              "        535.51579493,  281.40344587,  400.28564863,  478.94264024,\n",
              "        567.10337823,  405.36473398,  719.16118905,  753.52088707,\n",
              "        590.33978713,  824.03179644, 2119.49406474,  602.91409971,\n",
              "        924.84890591,  246.85197709,  184.72570078,  924.84890591,\n",
              "        375.65090371,  706.17583417,  455.55993368,   61.74129528,\n",
              "        224.23313706,  745.41227435,  401.20181485,  328.03500022,\n",
              "        336.77428527,  300.86600928,  655.45685059,  165.72700494,\n",
              "       1364.62712983,  391.89552956, 1275.98904892,  455.16997059,\n",
              "        350.71936499,  937.32646437,  354.05530486,  223.11527344,\n",
              "        345.46867078,  882.60863661,  503.71734082,  233.44851369,\n",
              "        495.87024113,  493.4599519 ,  798.78846869, 1761.13753708,\n",
              "        416.88982578,  220.59576977,  838.08395263,  189.89214961,\n",
              "        582.20884635,  179.15162707, 2928.23641463,  301.86456798,\n",
              "        189.89214961,  392.02713877, 1269.85117483,  634.10694575,\n",
              "        224.23313706,  657.51821925,  220.0415429 ,  237.80140854,\n",
              "        804.31978869,  381.87854817,  145.6405065 ,  979.30485977,\n",
              "       1125.41450318,  378.74008955,  318.39631176,  153.10197697,\n",
              "       1699.43103424,  394.65803283, 1289.00128257,  223.70948531,\n",
              "        493.4599519 ,  277.01448075,  194.25590634,  506.71499639,\n",
              "        453.60620564, 1599.82350627,   93.59177615,  254.69471545,\n",
              "        466.07027892,   57.91077824,  641.08751621, 1733.17206939,\n",
              "        631.26406316,  301.86456798,  379.03602054,  393.97697059,\n",
              "        766.44496973,  251.79975831,  302.89933376,  777.00071835,\n",
              "        185.42920231,  535.51579493,  631.26406316,  203.04601238,\n",
              "        602.91409971,  290.39597732,  107.28736683,  549.85742715,\n",
              "        606.25920506,  447.1588699 ,  362.12632338,  518.53969273,\n",
              "        104.6055667 ,  116.90126784,  215.22724798,   31.63717292,\n",
              "        474.89201236,  753.00297784,  650.61245285,  296.76116637,\n",
              "        406.38301981,  528.01111058,  278.39181531,  372.51131707,\n",
              "        397.48489975,  168.12137904,  337.31083309,  290.39597732,\n",
              "         64.13730859,  166.45907806,  447.73173874,  484.32310906,\n",
              "       1536.55017637,  260.01914511,  355.06911875,  861.41765706,\n",
              "        150.16445454,  757.43199843,  611.26500575,  862.62065223,\n",
              "        945.45653002])"
            ]
          },
          "metadata": {},
          "execution_count": 420
        }
      ]
    },
    {
      "cell_type": "code",
      "source": [
        "# Plotting K-distance Graph\n",
        "distances = np.sort(distances, axis=0)\n",
        "distances = distances[:,1]\n",
        "plt.figure(figsize=(8,6))\n",
        "plt.plot(distances)\n",
        "plt.title('K-distance Graph',fontsize=16)\n",
        "plt.xlabel('Data Points',fontsize=14)\n",
        "plt.ylabel('Epsilon(Distance from Nearest Neighbour)')\n",
        "plt.show()\n"
      ],
      "metadata": {
        "id": "Q_3iJXa61r1v",
        "colab": {
          "base_uri": "https://localhost:8080/",
          "height": 413
        },
        "outputId": "c324afe5-70fe-4dda-d44a-916bbf68c2d1"
      },
      "execution_count": null,
      "outputs": [
        {
          "output_type": "display_data",
          "data": {
            "text/plain": [
              "<Figure size 576x432 with 1 Axes>"
            ],
            "image/png": "[encoded data removed]"
          },
          "metadata": {}
        }
      ]
    },
    {
      "cell_type": "code",
      "source": [
        "# Set the parameters for DBSCAN\n",
        "eps = 2000\n",
        "min_samples = 4"
      ],
      "metadata": {
        "id": "NvOBRJJs1rr1"
      },
      "execution_count": null,
      "outputs": []
    },
    {
      "cell_type": "code",
      "source": [
        "# Create the DBSCAN object\n",
        "db = DBSCAN(eps=eps, min_samples=min_samples)"
      ],
      "metadata": {
        "id": "SvMrdil31rkm"
      },
      "execution_count": null,
      "outputs": []
    },
    {
      "cell_type": "code",
      "source": [
        "# Fit the data to the model\n",
        "y1= db.fit_predict(df1)"
      ],
      "metadata": {
        "id": "QKqjEhSh1rhJ"
      },
      "execution_count": null,
      "outputs": []
    },
    {
      "cell_type": "code",
      "source": [
        "df1['Labels'] = db.labels_\n",
        "plt.figure(figsize=(11, 6))\n",
        "sns.scatterplot(df1['Income'], df1['SpendingScore'], hue=df1['Labels'],\n",
        "                palette=sns.color_palette('hls', np.unique(db.labels_).shape[0]))\n",
        "plt.title('DBSCAN with epsilon 2000, min samples 4')\n",
        "plt.show()\n",
        "# Red dots are Noise (data not beloging to any clusters/ outliers)"
      ],
      "metadata": {
        "id": "LBm9tp7n1rb2",
        "colab": {
          "base_uri": "https://localhost:8080/",
          "height": 465
        },
        "outputId": "bf540869-47c6-453e-eff2-9b5f55a2284c"
      },
      "execution_count": null,
      "outputs": [
        {
          "output_type": "stream",
          "name": "stderr",
          "text": [
            "/usr/local/lib/python3.8/dist-packages/seaborn/_decorators.py:36: FutureWarning: Pass the following variables as keyword args: x, y. From version 0.12, the only valid positional argument will be `data`, and passing other arguments without an explicit keyword will result in an error or misinterpretation.\n",
            "  warnings.warn(\n"
          ]
        },
        {
          "output_type": "display_data",
          "data": {
            "text/plain": [
              "<Figure size 792x432 with 1 Axes>"
            ],
            "image/png": "[encoded data removed]"
          },
          "metadata": {}
        }
      ]
    },
    {
      "cell_type": "code",
      "source": [
        "# Calculate the silhouette score for DBSCAN\n",
        "db_score = silhouette_score(df1, y1)\n",
        "print(f'DBSCAN silhouette score: {db_score:.3f}')"
      ],
      "metadata": {
        "colab": {
          "base_uri": "https://localhost:8080/"
        },
        "id": "ZF4pv-v0vkHT",
        "outputId": "b60efd6e-02ce-46a3-a0e0-51cdba3a29a6"
      },
      "execution_count": null,
      "outputs": [
        {
          "output_type": "stream",
          "name": "stdout",
          "text": [
            "DBSCAN silhouette score: 0.664\n"
          ]
        }
      ]
    },
    {
      "cell_type": "markdown",
      "metadata": {
        "id": "6ySJIgNr1Sfy"
      },
      "source": [
        "## 1.3 Model Comparison"
      ]
    },
    {
      "cell_type": "markdown",
      "metadata": {
        "id": "gwQembOT1L6U"
      },
      "source": [
        "On the basis of the Silhouette score, KMeans cluster algorithm comes out as the best with 0.742 score beating DBScan which has a score of 0.664."
      ]
    },
    {
      "cell_type": "markdown",
      "metadata": {
        "id": "MP2EAnCJ1Xta"
      },
      "source": [
        "## 1.4 Personas"
      ]
    },
    {
      "cell_type": "markdown",
      "metadata": {
        "id": "dVewu2TZ1XhK"
      },
      "source": [
        "Based on the above analysis, it is seen that we can segment customer based on 3 categories:\n",
        "\n",
        "1. Income and Spending Score - It is seen that customers with high income, for example 120,000 are likely to spend more on Jewellery than low income customers.\n",
        "2. Age and Spending Score - It is also seen that customers who are older are spending more on Jewellery than any young customer.\n",
        "3. Savings and Spending Score - It is evident that older people have more savings than young people, therefore, they are spending more."
      ]
    },
    {
      "cell_type": "markdown",
      "metadata": {
        "id": "DYwuYIgczYSv"
      },
      "source": [
        "# Question 2: Uncle Steve's Fine Foods"
      ]
    },
    {
      "cell_type": "markdown",
      "metadata": {
        "id": "4oCr-mTfNG-H"
      },
      "source": [
        "## Instructions\n",
        "\n",
        "Uncle Steve runs a small, local grocery store in Ontario. The store sells all the normal food staples (e.g., bread, milk, cheese, eggs, more cheese, fruits, vegatables, meat, fish, waffles, ice cream, pasta, cereals, drinks), personal care products (e.g., toothpaste, shampoo, hair goo), medicine, and cakes. There's even a little section with flowers and greeting cards! Normal people shop here, and buy normal things in the normal way.\n",
        "\n",
        "Business is OK but Uncle Steve wants more. He's thus on the hunt for customer insights. Given your success at the jewelry store, he has asked you to help him out.\n",
        "\n",
        "He has given you a few years' worth of customer transactions, i.e., sets of items that customers have purchased. You have applied an association rules learning algorithm (like Apriori) to the data, and the algorithm has generated a large set of association rules of the form `{X} -> {Y}`, where `{X}` and `{Y}` are item-sets.\n",
        "\n",
        "Now comes a thought experiment. For each of the following scenarios, state what one of the discovered association rules might be that would meet the stated condition. (Just make up the rule, using your human experience and intuition.) Also, describe whether and why each rule would be considered interesting or uninteresting for Uncle Steve (i.e., is this insight new to him? Would he be able to use it somehow?).\n",
        "\n",
        "Keep each answer to 600 characters or less (including spaces).\n",
        "\n",
        "To get those brain juices going, an example condition and answer is provided below:\n",
        "\n",
        "> Condition: A rule that has high support.\n",
        "\n",
        "> Answer: The rule `{milk} -> {bread}` would have high support, since milk and bread are household staples and a high percentage of transactions would include both `{milk}` and `{bread}`. Uncle Steve would likely not find this rule interesting, because these items are so common, he would have surely already noticed that so many transactions contain them.\n",
        "\n",
        "**Marking**\n",
        "\n",
        "Your responses will be marked as follows:\n",
        "\n",
        "- *Correctness*. Rule meets the specificed condition, and seems plausible in an Ontario grocery store.\n",
        "- *Justification of interestness*. Response clearly describes whether and why the rule would be considered interesting to Uncle Steve.\n",
        "\n",
        "**Tips**\n",
        "\n",
        "- There is no actual data for this question. This question is just a thought exercise. You need to use your intuition, creatitivty, and understanding of the real world. I assume you are familiar with what happens inside of normal grocery stores. We are not using actual data and you do not need to create/generate/find any data. I repeat: there is no data for this question.\n",
        "- The reason this question is having you do a thought experiment, rather than writing and running code to find actual association rules on an actual dataset, is because writing code to find association rules is actually pretty easy. But using your brain to come up with rules that meet certain criteria, on the other hand, is a true test of whether you understand how the algorithm works, what support and confidence mean, and the applicability of rules. The question uses the grocery store context because most, if not all, students should be familiar from personal experience.\n",
        "\n"
      ]
    },
    {
      "cell_type": "markdown",
      "metadata": {
        "id": "3YQsOb6CzYVq"
      },
      "source": [
        "## 2.1: A rule that might have high support and high confidence."
      ]
    },
    {
      "cell_type": "markdown",
      "metadata": {
        "id": "DzXu1IvK-MEg"
      },
      "source": [
        "Answer - (eggs, milk, bread) -> (cheese) (support: 0.8, confidence: 0.9)\n",
        "\n",
        "This rule would be considered interesting for Uncle Steve because it has high support and high confidence, which means that it occurs frequently in the data and there is a strong association between the items in the antecedent and the items in the consequent. This suggests that customers who buy eggs, milk, and bread are very likely to also buy cheese, and Uncle Steve could use this information to promote the sale of cheese by placing it near these other items in the store."
      ]
    },
    {
      "cell_type": "markdown",
      "metadata": {
        "id": "VNIrAgJk-L4l"
      },
      "source": [
        "## 2.2: A rule that might have reasonably high support but low confidence."
      ]
    },
    {
      "cell_type": "markdown",
      "metadata": {
        "id": "svdzYW3S-LvF"
      },
      "source": [
        "Answer -(toothpaste, shampoo) -> (hair goo) (support: 0.6, confidence: 0.3)\n",
        "\n",
        "This rule would be considered uninteresting for Uncle Steve because it has low confidence, which means that there is a weak association between the items in the antecedent and the items in the consequent. This suggests that the relationship between these items is not very strong, and Uncle Steve may not be able to rely on this association to guide his marketing and sales efforts. While the rule does have reasonably high support, this alone may not be enough to make it useful for Uncle Steve's purposes."
      ]
    },
    {
      "cell_type": "markdown",
      "metadata": {
        "id": "loe--LMz-Ll8"
      },
      "source": [
        "## 2.3: A rule that might have low support and low confidence."
      ]
    },
    {
      "cell_type": "markdown",
      "metadata": {
        "id": "HdyOB5fe-Zgy"
      },
      "source": [
        "Answer-(ice cream, pasta, cereals)-> (drinks)(support: 0.2,confidence: 0.1)\n",
        "\n",
        "This rule would be considered uninteresting for Uncle Steve because it has low support and low confidence, which means that it occurs infrequently in the data and there is a weak association between the items in the antecedent and the items in the consequent. This suggests that there is not a strong relationship between these items, and Uncle Steve may not be able to rely on this association to guide his marketing and sales efforts. Low support and low confidence indicate that this rule is not a reliable predictor of customer behavior, and may not be worth considering for business purposes."
      ]
    },
    {
      "cell_type": "markdown",
      "metadata": {
        "id": "St2eI3We-ZYs"
      },
      "source": [
        "## 2.4: A rule that might have low support and high confidence."
      ]
    },
    {
      "cell_type": "markdown",
      "metadata": {
        "id": "LcdZc-B1-fE7"
      },
      "source": [
        "Answer-(flowers, greeting cards)-> (cake)(support: 0.2, confidence: 0.9)\n",
        "\n",
        "This rule would be considered uninteresting for Uncle Steve because it has low support, which means that it occurs infrequently in the data. While the rule does have high confidence, indicating a strong association between the items in the antecedent and the items in the consequent, the low support suggests that this relationship may not be significant enough to be useful for Uncle Steve's business. If this rule only occurs infrequently, it may not be representative of the overall behavior of the store's customers, and may not be a reliable predictor of future sales."
      ]
    },
    {
      "cell_type": "markdown",
      "metadata": {
        "id": "B_IHoz7f2yIV"
      },
      "source": [
        "# Question 3: Uncle Steve's Credit Union"
      ]
    },
    {
      "cell_type": "markdown",
      "metadata": {
        "id": "WhERdkp_zYBY"
      },
      "source": [
        "## Instructions\n",
        "\n",
        "Uncle Steve has recently opened a new credit union in Kingston, named *Uncle Steve's Credit Union*. He plans to disrupt the local market by instaneously providing credit to customers.\n",
        "\n",
        "The first step in Uncle Steve's master plan is to create a model to predict whether an application has *good risk* or *bad risk*. He has outsourced the creation of this model to you.\n",
        "\n",
        "You are to create a classification model to predict whether a loan applicant has good risk or bad risk. You will use data  that Uncle Steve bought from another credit union (somewhere in Europe, he thinks?) that has around 6000 instances and a number of demographics features (e.g., `Sex`, `DateOfBirth`, `Married`), loan details (e.g., `Amount`, `Purpose`), credit history (e.g., number of loans), as well as an indicator (called `BadCredit` in the dataset) as to whether that person was a bad risk.\n",
        "\n",
        "\n",
        "**Your tasks**\n",
        "\n",
        "To examine the effects of the various ML stages, you are to create the model several times, each time adding more sophistication, and measuring how much the model improved (or not). In particular, you will:\n",
        "\n",
        "0. Split the data in training and testing. Don't touch the testing data again, for any reason, until step 5. We are pretending that the testing data is \"future, unseen data that our model won't see until production.\" I'm serious, don't touch it. I'm watching you!\n",
        "1. Build a baseline model - no feature engineering, no feature selection, no hyperparameter tuning (just use the default settings), nothing fancy. (You may need to do some basic feature transformations, e.g., encoding of categorical features, or dropping of features you do not think will help or do not want to deal with yet.) Measure the performance using K-fold cross validation (recommended: [`sklearn.model_selection.cross_val_score`](https://scikit-learn.org/stable/modules/generated/sklearn.model_selection.cross_val_score.html#sklearn.model_selection.cross_val_score)) on the training data. Use at least 5 folds, but more are better. Choose a [`scoring` parameter](https://scikit-learn.org/stable/modules/model_evaluation.html#scoring-parameter) (i.e., classification metric) that you feel is appropriate for this task. Don't use accuracy. Print the mean score of your model.\n",
        "2. Add a bit of feature engineering. The [`sklearn.preprocessing`](https://scikit-learn.org/stable/modules/classes.html#module-sklearn.preprocessing) module contains many useful transformations. Engineer at least three new features. They don't need to be especially ground-breaking or complicated. Dimensionality reduction techniques like [`sklearn.decomposition.PCA`](https://scikit-learn.org/stable/modules/generated/sklearn.decomposition.PCA.html) are fair game but not required. (If you do use dimensionality reduction techniques, it would only count as \"one\" new feature for the purposes of this assignment, even though I realize that PCA creates many new \"features\" (i.e., principal components).) Re-train your baseline model. Measure performance. Compare to step 1.\n",
        "3. Add feature selection. The [`sklearn.feature_selection`](https://scikit-learn.org/stable/modules/classes.html#module-sklearn.feature_selection) has some algorithms for you to choose from. After selecting features, re-train your model, measure performance, and compare to step 2.\n",
        "4. Add hyperparameter tuning. Make reasonable choices and try to find the best (or at least, better) hyperparameters for your estimator and/or transformers. It's probably a good idea to stop using `cross_val_score` at this point and start using [`sklearn.model_selection.GridSearchCV`](https://scikit-learn.org/stable/modules/generated/sklearn.model_selection.GridSearchCV.html#sklearn.model_selection.GridSearchCV) as it is specifically built for this purpose and is more convienient to use. Measure performance and compare to step 3.\n",
        "5. Finally, using your findings from the previous steps, estimate how well your model will work in production. Use the testing data (our \"future, unseen data\") from step 0. Transform the data as appropriate (easy if you've built a pipeline, a little more difficult if not), use the model from step 4 to get predictions, and measure the performance. How well did we do?\n",
        "\n",
        "\n",
        "**Marking**\n",
        "\n",
        "Each part will be marked for:\n",
        "- *Correctness*. Code clearly and fully performs the task specified.\n",
        "- *Reproducibility*. Code is fully reproducible. I.e., you (and I) should be able to run this Notebook again and again, from top to bottom, and get the same results each and every time.\n",
        "- *Style*. Code is organized. All parts commented with clear reasoning and rationale. No old code laying around. Code easy to follow.\n",
        "\n",
        "\n",
        "**Tips**\n",
        "- The origins of the dataset are a bit of a mystery. Assume the data set is recent (circa 2022) and up-to-date. Assume that column names are correct and accurate.\n",
        "- You don't need to experiment with more than one algorithm/estimator. Just choose one (e.g., [`sklearn.tree.DecisionTreeClassifier`](https://scikit-learn.org/stable/modules/generated/sklearn.tree.DecisionTreeClassifier.html#sklearn.tree.DecisionTreeClassifier), [`sklearn.ensemble.RandomForestClassifier`](https://scikit-learn.org/stable/modules/generated/sklearn.ensemble.RandomForestClassifier.html#sklearn.ensemble.RandomForestClassifier), [`sklearn.linear_model.LogisticRegression`](https://scikit-learn.org/stable/modules/generated/sklearn.linear_model.LogisticRegression.html#sklearn.linear_model.LogisticRegression), [`sklearn.svm.LinearSVC`](https://scikit-learn.org/stable/modules/generated/sklearn.svm.LinearSVC.html#sklearn.svm.LinearSVC), whatever) and stick with it for this question.\n",
        "- There is no minimum accuracy/precision/recall for this question. I.e., your mark will not be based on how good your model is. Rather, you mark will be based on good your process is.\n",
        "- Watch out for data leakage and overfitting. In particular, be sure to `fit()` any estimators and transformers (collectively, *objects*) only to the training data, and then use the objects' `transform()` methods on both the training and testing data. [Data School](https://www.youtube.com/c/dataschool/featured) has a [helpful video](https://www.youtube.com/watch?v=g2XsZdwbCCs) about this. [Pipelines](https://www.youtube.com/watch?v=1Y6O9nCo0-I) are very helpful here and make your code shorter and more robust (at the expense of making it harder to understand), and I recommend using them, but they are not required for this assignment.\n",
        "- Create as many code cells as you need. In general, each cell should do one \"thing.\"\n",
        "-\tDon't print large volumes of output. E.g., don't do: `df.head(100)`\n",
        "\n",
        "\n"
      ]
    },
    {
      "cell_type": "markdown",
      "metadata": {
        "id": "jqm_REd4oouz"
      },
      "source": [
        "## 3.0: Load data and split"
      ]
    },
    {
      "cell_type": "code",
      "metadata": {
        "id": "X6b_BM0Nz9sF",
        "colab": {
          "base_uri": "https://localhost:8080/"
        },
        "outputId": "3bb2965b-93e8-4404-969c-5c55ed8d846b"
      },
      "source": [
        "# DO NOT MODIFY THIS CELL\n",
        "\n",
        "# First, we'll read the provided labeled training data\n",
        "df3 = pd.read_csv(\"https://drive.google.com/uc?export=download&id=1wOhyCnvGeY4jplxI8lZ-bbYN3zLtickf\")\n",
        "df3.info()\n",
        "\n",
        "from sklearn.model_selection import train_test_split\n",
        "\n",
        "X = df3.drop('BadCredit', axis=1) #.select_dtypes(['number'])\n",
        "y = df3['BadCredit']\n",
        "\n"
      ],
      "execution_count": null,
      "outputs": [
        {
          "output_type": "stream",
          "name": "stdout",
          "text": [
            "<class 'pandas.core.frame.DataFrame'>\n",
            "RangeIndex: 6000 entries, 0 to 5999\n",
            "Data columns (total 17 columns):\n",
            " #   Column             Non-Null Count  Dtype \n",
            "---  ------             --------------  ----- \n",
            " 0   UserID             6000 non-null   object\n",
            " 1   Sex                6000 non-null   object\n",
            " 2   PreviousDefault    6000 non-null   int64 \n",
            " 3   FirstName          6000 non-null   object\n",
            " 4   LastName           6000 non-null   object\n",
            " 5   NumberPets         6000 non-null   int64 \n",
            " 6   PreviousAccounts   6000 non-null   int64 \n",
            " 7   ResidenceDuration  6000 non-null   int64 \n",
            " 8   Street             6000 non-null   object\n",
            " 9   LicensePlate       6000 non-null   object\n",
            " 10  BadCredit          6000 non-null   int64 \n",
            " 11  Amount             6000 non-null   int64 \n",
            " 12  Married            6000 non-null   int64 \n",
            " 13  Duration           6000 non-null   int64 \n",
            " 14  City               6000 non-null   object\n",
            " 15  Purpose            6000 non-null   object\n",
            " 16  DateOfBirth        6000 non-null   object\n",
            "dtypes: int64(8), object(9)\n",
            "memory usage: 797.0+ KB\n"
          ]
        }
      ]
    },
    {
      "cell_type": "code",
      "source": [
        "# Finding any missing values\n",
        "df3.isnull().sum()"
      ],
      "metadata": {
        "colab": {
          "base_uri": "https://localhost:8080/"
        },
        "id": "q7BQYk-bYRFq",
        "outputId": "60cd9976-d3fd-4132-b19b-59161532da15"
      },
      "execution_count": null,
      "outputs": [
        {
          "output_type": "execute_result",
          "data": {
            "text/plain": [
              "UserID               0\n",
              "Sex                  0\n",
              "PreviousDefault      0\n",
              "FirstName            0\n",
              "LastName             0\n",
              "NumberPets           0\n",
              "PreviousAccounts     0\n",
              "ResidenceDuration    0\n",
              "Street               0\n",
              "LicensePlate         0\n",
              "BadCredit            0\n",
              "Amount               0\n",
              "Married              0\n",
              "Duration             0\n",
              "City                 0\n",
              "Purpose              0\n",
              "DateOfBirth          0\n",
              "dtype: int64"
            ]
          },
          "metadata": {},
          "execution_count": 428
        }
      ]
    },
    {
      "cell_type": "markdown",
      "source": [
        "**Basic Transformation (Training Data Only)**"
      ],
      "metadata": {
        "id": "3k5KHtx2cXn-"
      }
    },
    {
      "cell_type": "code",
      "source": [
        "# Setting userId as Index\n",
        "X= X.set_index('UserID')"
      ],
      "metadata": {
        "id": "BPk_eeuoYfHb"
      },
      "execution_count": null,
      "outputs": []
    },
    {
      "cell_type": "code",
      "source": [
        "# Creating values for Sex columns Male and Female\n",
        "sex_values = pd.get_dummies(X['Sex']).rename(columns=lambda x: 'Sex_class_' + str(x))\n",
        "X = pd.concat([X, sex_values], axis=1)\n",
        "X = X.drop('Sex', axis = 1)"
      ],
      "metadata": {
        "id": "KiZTdzvQYfER"
      },
      "execution_count": null,
      "outputs": []
    },
    {
      "cell_type": "code",
      "source": [
        "# Dropping features\n",
        "X = X.drop('FirstName', axis = 1)\n",
        "X = X.drop('LastName', axis = 1)\n",
        "X= X.drop('Street', axis = 1)\n",
        "X = X.drop('LicensePlate', axis = 1)"
      ],
      "metadata": {
        "id": "68_3Dma9YfB3"
      },
      "execution_count": null,
      "outputs": []
    },
    {
      "cell_type": "code",
      "source": [
        "# Creating values for Cities\n",
        "city_values = pd.get_dummies(X['City']).rename(columns=lambda x: 'City_class_' + str(x))\n",
        "X = pd.concat([X, city_values], axis=1)\n",
        "X = X.drop('City', axis = 1)"
      ],
      "metadata": {
        "id": "U9F5tjUsYe_a"
      },
      "execution_count": null,
      "outputs": []
    },
    {
      "cell_type": "code",
      "source": [
        "# Creating values for Purpose\n",
        "purpose_values = pd.get_dummies(X['Purpose']).rename(columns=lambda x: 'Purpose_class_' + str(x))\n",
        "X = pd.concat([X, purpose_values], axis=1)\n",
        "X = X.drop('Purpose', axis = 1)"
      ],
      "metadata": {
        "id": "yO6t0V1IYeSR"
      },
      "execution_count": null,
      "outputs": []
    },
    {
      "cell_type": "code",
      "source": [
        "# Dropping Date of Birth Feature\n",
        "X = X.drop('DateOfBirth', axis = 1)"
      ],
      "metadata": {
        "id": "24I-jYsZYxsq"
      },
      "execution_count": null,
      "outputs": []
    },
    {
      "cell_type": "code",
      "source": [
        "X.head()"
      ],
      "metadata": {
        "colab": {
          "base_uri": "https://localhost:8080/",
          "height": 522
        },
        "id": "cOuqhatkYxpS",
        "outputId": "cf0be1ac-cd38-4693-bd97-3ceab23b76ba"
      },
      "execution_count": null,
      "outputs": [
        {
          "output_type": "execute_result",
          "data": {
            "text/plain": [
              "             PreviousDefault  NumberPets  PreviousAccounts  ResidenceDuration  \\\n",
              "UserID                                                                          \n",
              "218-84-8180                0           2                 3                  1   \n",
              "395-49-9764                0           0                 1                  1   \n",
              "892-81-4890                0           0                 0                  2   \n",
              "081-11-7963                0           2                 1                  3   \n",
              "347-03-9639                0           1                 5                  1   \n",
              "\n",
              "             Amount  Married  Duration  Sex_class_F  Sex_class_M  \\\n",
              "UserID                                                             \n",
              "218-84-8180    3907        0        24            1            0   \n",
              "395-49-9764    3235        0        12            0            1   \n",
              "892-81-4890    3108        1        30            1            0   \n",
              "081-11-7963    4014        1        36            1            0   \n",
              "347-03-9639    3823        0        18            0            1   \n",
              "\n",
              "             City_class_Cassandraton  ...  City_class_Robinsonshire  \\\n",
              "UserID                                ...                             \n",
              "218-84-8180                        0  ...                         0   \n",
              "395-49-9764                        0  ...                         0   \n",
              "892-81-4890                        0  ...                         0   \n",
              "081-11-7963                        0  ...                         0   \n",
              "347-03-9639                        0  ...                         0   \n",
              "\n",
              "             City_class_West Michael  Purpose_class_Business  \\\n",
              "UserID                                                         \n",
              "218-84-8180                        0                       0   \n",
              "395-49-9764                        0                       0   \n",
              "892-81-4890                        0                       0   \n",
              "081-11-7963                        0                       0   \n",
              "347-03-9639                        0                       0   \n",
              "\n",
              "             Purpose_class_Education  Purpose_class_Household  \\\n",
              "UserID                                                          \n",
              "218-84-8180                        0                        0   \n",
              "395-49-9764                        0                        0   \n",
              "892-81-4890                        0                        0   \n",
              "081-11-7963                        0                        0   \n",
              "347-03-9639                        0                        0   \n",
              "\n",
              "             Purpose_class_NewCar  Purpose_class_Other  Purpose_class_Repair  \\\n",
              "UserID                                                                         \n",
              "218-84-8180                     0                    0                     0   \n",
              "395-49-9764                     1                    0                     0   \n",
              "892-81-4890                     1                    0                     0   \n",
              "081-11-7963                     0                    1                     0   \n",
              "347-03-9639                     0                    0                     0   \n",
              "\n",
              "             Purpose_class_UsedCar  Purpose_class_Vacation  \n",
              "UserID                                                      \n",
              "218-84-8180                      0                       1  \n",
              "395-49-9764                      0                       0  \n",
              "892-81-4890                      0                       0  \n",
              "081-11-7963                      0                       0  \n",
              "347-03-9639                      0                       1  \n",
              "\n",
              "[5 rows x 37 columns]"
            ],
            "text/html": [
              "\n",
              "  <div id=\"df-065436c9-4d44-4b9e-b6a5-77aafcb74ae5\">\n",
              "    <div class=\"colab-df-container\">\n",
              "      <div>\n",
              "<style scoped>\n",
              "    .dataframe tbody tr th:only-of-type {\n",
              "        vertical-align: middle;\n",
              "    }\n",
              "\n",
              "    .dataframe tbody tr th {\n",
              "        vertical-align: top;\n",
              "    }\n",
              "\n",
              "    .dataframe thead th {\n",
              "        text-align: right;\n",
              "    }\n",
              "</style>\n",
              "<table border=\"1\" class=\"dataframe\">\n",
              "  <thead>\n",
              "    <tr style=\"text-align: right;\">\n",
              "      <th></th>\n",
              "      <th>PreviousDefault</th>\n",
              "      <th>NumberPets</th>\n",
              "      <th>PreviousAccounts</th>\n",
              "      <th>ResidenceDuration</th>\n",
              "      <th>Amount</th>\n",
              "      <th>Married</th>\n",
              "      <th>Duration</th>\n",
              "      <th>Sex_class_F</th>\n",
              "      <th>Sex_class_M</th>\n",
              "      <th>City_class_Cassandraton</th>\n",
              "      <th>...</th>\n",
              "      <th>City_class_Robinsonshire</th>\n",
              "      <th>City_class_West Michael</th>\n",
              "      <th>Purpose_class_Business</th>\n",
              "      <th>Purpose_class_Education</th>\n",
              "      <th>Purpose_class_Household</th>\n",
              "      <th>Purpose_class_NewCar</th>\n",
              "      <th>Purpose_class_Other</th>\n",
              "      <th>Purpose_class_Repair</th>\n",
              "      <th>Purpose_class_UsedCar</th>\n",
              "      <th>Purpose_class_Vacation</th>\n",
              "    </tr>\n",
              "    <tr>\n",
              "      <th>UserID</th>\n",
              "      <th></th>\n",
              "      <th></th>\n",
              "      <th></th>\n",
              "      <th></th>\n",
              "      <th></th>\n",
              "      <th></th>\n",
              "      <th></th>\n",
              "      <th></th>\n",
              "      <th></th>\n",
              "      <th></th>\n",
              "      <th></th>\n",
              "      <th></th>\n",
              "      <th></th>\n",
              "      <th></th>\n",
              "      <th></th>\n",
              "      <th></th>\n",
              "      <th></th>\n",
              "      <th></th>\n",
              "      <th></th>\n",
              "      <th></th>\n",
              "      <th></th>\n",
              "    </tr>\n",
              "  </thead>\n",
              "  <tbody>\n",
              "    <tr>\n",
              "      <th>218-84-8180</th>\n",
              "      <td>0</td>\n",
              "      <td>2</td>\n",
              "      <td>3</td>\n",
              "      <td>1</td>\n",
              "      <td>3907</td>\n",
              "      <td>0</td>\n",
              "      <td>24</td>\n",
              "      <td>1</td>\n",
              "      <td>0</td>\n",
              "      <td>0</td>\n",
              "      <td>...</td>\n",
              "      <td>0</td>\n",
              "      <td>0</td>\n",
              "      <td>0</td>\n",
              "      <td>0</td>\n",
              "      <td>0</td>\n",
              "      <td>0</td>\n",
              "      <td>0</td>\n",
              "      <td>0</td>\n",
              "      <td>0</td>\n",
              "      <td>1</td>\n",
              "    </tr>\n",
              "    <tr>\n",
              "      <th>395-49-9764</th>\n",
              "      <td>0</td>\n",
              "      <td>0</td>\n",
              "      <td>1</td>\n",
              "      <td>1</td>\n",
              "      <td>3235</td>\n",
              "      <td>0</td>\n",
              "      <td>12</td>\n",
              "      <td>0</td>\n",
              "      <td>1</td>\n",
              "      <td>0</td>\n",
              "      <td>...</td>\n",
              "      <td>0</td>\n",
              "      <td>0</td>\n",
              "      <td>0</td>\n",
              "      <td>0</td>\n",
              "      <td>0</td>\n",
              "      <td>1</td>\n",
              "      <td>0</td>\n",
              "      <td>0</td>\n",
              "      <td>0</td>\n",
              "      <td>0</td>\n",
              "    </tr>\n",
              "    <tr>\n",
              "      <th>892-81-4890</th>\n",
              "      <td>0</td>\n",
              "      <td>0</td>\n",
              "      <td>0</td>\n",
              "      <td>2</td>\n",
              "      <td>3108</td>\n",
              "      <td>1</td>\n",
              "      <td>30</td>\n",
              "      <td>1</td>\n",
              "      <td>0</td>\n",
              "      <td>0</td>\n",
              "      <td>...</td>\n",
              "      <td>0</td>\n",
              "      <td>0</td>\n",
              "      <td>0</td>\n",
              "      <td>0</td>\n",
              "      <td>0</td>\n",
              "      <td>1</td>\n",
              "      <td>0</td>\n",
              "      <td>0</td>\n",
              "      <td>0</td>\n",
              "      <td>0</td>\n",
              "    </tr>\n",
              "    <tr>\n",
              "      <th>081-11-7963</th>\n",
              "      <td>0</td>\n",
              "      <td>2</td>\n",
              "      <td>1</td>\n",
              "      <td>3</td>\n",
              "      <td>4014</td>\n",
              "      <td>1</td>\n",
              "      <td>36</td>\n",
              "      <td>1</td>\n",
              "      <td>0</td>\n",
              "      <td>0</td>\n",
              "      <td>...</td>\n",
              "      <td>0</td>\n",
              "      <td>0</td>\n",
              "      <td>0</td>\n",
              "      <td>0</td>\n",
              "      <td>0</td>\n",
              "      <td>0</td>\n",
              "      <td>1</td>\n",
              "      <td>0</td>\n",
              "      <td>0</td>\n",
              "      <td>0</td>\n",
              "    </tr>\n",
              "    <tr>\n",
              "      <th>347-03-9639</th>\n",
              "      <td>0</td>\n",
              "      <td>1</td>\n",
              "      <td>5</td>\n",
              "      <td>1</td>\n",
              "      <td>3823</td>\n",
              "      <td>0</td>\n",
              "      <td>18</td>\n",
              "      <td>0</td>\n",
              "      <td>1</td>\n",
              "      <td>0</td>\n",
              "      <td>...</td>\n",
              "      <td>0</td>\n",
              "      <td>0</td>\n",
              "      <td>0</td>\n",
              "      <td>0</td>\n",
              "      <td>0</td>\n",
              "      <td>0</td>\n",
              "      <td>0</td>\n",
              "      <td>0</td>\n",
              "      <td>0</td>\n",
              "      <td>1</td>\n",
              "    </tr>\n",
              "  </tbody>\n",
              "</table>\n",
              "<p>5 rows × 37 columns</p>\n",
              "</div>\n",
              "      <button class=\"colab-df-convert\" onclick=\"convertToInteractive('df-065436c9-4d44-4b9e-b6a5-77aafcb74ae5')\"\n",
              "              title=\"Convert this dataframe to an interactive table.\"\n",
              "              style=\"display:none;\">\n",
              "        \n",
              "  <svg xmlns=\"http://www.w3.org/2000/svg\" height=\"24px\"viewBox=\"0 0 24 24\"\n",
              "       width=\"24px\">\n",
              "    <path d=\"M0 0h24v24H0V0z\" fill=\"none\"/>\n",
              "    <path d=\"M18.56 5.44l.94 2.06.94-2.06 2.06-.94-2.06-.94-.94-2.06-.94 2.06-2.06.94zm-11 1L8.5 8.5l.94-2.06 2.06-.94-2.06-.94L8.5 2.5l-.94 2.06-2.06.94zm10 10l.94 2.06.94-2.06 2.06-.94-2.06-.94-.94-2.06-.94 2.06-2.06.94z\"/><path d=\"M17.41 7.96l-1.37-1.37c-.4-.4-.92-.59-1.43-.59-.52 0-1.04.2-1.43.59L10.3 9.45l-7.72 7.72c-.78.78-.78 2.05 0 2.83L4 21.41c.39.39.9.59 1.41.59.51 0 1.02-.2 1.41-.59l7.78-7.78 2.81-2.81c.8-.78.8-2.07 0-2.86zM5.41 20L4 18.59l7.72-7.72 1.47 1.35L5.41 20z\"/>\n",
              "  </svg>\n",
              "      </button>\n",
              "      \n",
              "  <style>\n",
              "    .colab-df-container {\n",
              "      display:flex;\n",
              "      flex-wrap:wrap;\n",
              "      gap: 12px;\n",
              "    }\n",
              "\n",
              "    .colab-df-convert {\n",
              "      background-color: #E8F0FE;\n",
              "      border: none;\n",
              "      border-radius: 50%;\n",
              "      cursor: pointer;\n",
              "      display: none;\n",
              "      fill: #1967D2;\n",
              "      height: 32px;\n",
              "      padding: 0 0 0 0;\n",
              "      width: 32px;\n",
              "    }\n",
              "\n",
              "    .colab-df-convert:hover {\n",
              "      background-color: #E2EBFA;\n",
              "      box-shadow: 0px 1px 2px rgba(60, 64, 67, 0.3), 0px 1px 3px 1px rgba(60, 64, 67, 0.15);\n",
              "      fill: #174EA6;\n",
              "    }\n",
              "\n",
              "    [theme=dark] .colab-df-convert {\n",
              "      background-color: #3B4455;\n",
              "      fill: #D2E3FC;\n",
              "    }\n",
              "\n",
              "    [theme=dark] .colab-df-convert:hover {\n",
              "      background-color: #434B5C;\n",
              "      box-shadow: 0px 1px 3px 1px rgba(0, 0, 0, 0.15);\n",
              "      filter: drop-shadow(0px 1px 2px rgba(0, 0, 0, 0.3));\n",
              "      fill: #FFFFFF;\n",
              "    }\n",
              "  </style>\n",
              "\n",
              "      <script>\n",
              "        const buttonEl =\n",
              "          document.querySelector('#df-065436c9-4d44-4b9e-b6a5-77aafcb74ae5 button.colab-df-convert');\n",
              "        buttonEl.style.display =\n",
              "          google.colab.kernel.accessAllowed ? 'block' : 'none';\n",
              "\n",
              "        async function convertToInteractive(key) {\n",
              "          const element = document.querySelector('#df-065436c9-4d44-4b9e-b6a5-77aafcb74ae5');\n",
              "          const dataTable =\n",
              "            await google.colab.kernel.invokeFunction('convertToInteractive',\n",
              "                                                     [key], {});\n",
              "          if (!dataTable) return;\n",
              "\n",
              "          const docLinkHtml = 'Like what you see? Visit the ' +\n",
              "            '<a target=\"_blank\" href=https://colab.research.google.com/notebooks/data_table.ipynb>data table notebook</a>'\n",
              "            + ' to learn more about interactive tables.';\n",
              "          element.innerHTML = '';\n",
              "          dataTable['output_type'] = 'display_data';\n",
              "          await google.colab.output.renderOutput(dataTable, element);\n",
              "          const docLink = document.createElement('div');\n",
              "          docLink.innerHTML = docLinkHtml;\n",
              "          element.appendChild(docLink);\n",
              "        }\n",
              "      </script>\n",
              "    </div>\n",
              "  </div>\n",
              "  "
            ]
          },
          "metadata": {},
          "execution_count": 435
        }
      ]
    },
    {
      "cell_type": "code",
      "source": [
        "# Did Not Modify (Same which was given)\n",
        "X_train, X_test, y_train, y_test = train_test_split(X, y, test_size=0.2, random_state=42)"
      ],
      "metadata": {
        "id": "0Nm0B8bnYxmZ"
      },
      "execution_count": null,
      "outputs": []
    },
    {
      "cell_type": "markdown",
      "metadata": {
        "id": "sdiKKblCo53S"
      },
      "source": [
        "## 3.1: Baseline model"
      ]
    },
    {
      "cell_type": "code",
      "metadata": {
        "id": "mSumAZUAo9O6"
      },
      "source": [
        "# using standard scaler\n",
        "scaler = StandardScaler()"
      ],
      "execution_count": null,
      "outputs": []
    },
    {
      "cell_type": "code",
      "source": [
        "scaled_X_train = scaler.fit_transform(X_train)\n",
        "scaled_X_test = scaler.transform(X_test)"
      ],
      "metadata": {
        "id": "M1LFmhJTKtu8"
      },
      "execution_count": null,
      "outputs": []
    },
    {
      "cell_type": "code",
      "source": [
        "# Model Selection (SVC)\n",
        "SVCclassifier = SVC(kernel='rbf', max_iter=500)"
      ],
      "metadata": {
        "id": "Noqw43xoKtrf"
      },
      "execution_count": null,
      "outputs": []
    },
    {
      "cell_type": "code",
      "source": [
        "# Classification Report\n",
        "SVCclassifier.fit(scaled_X_train, y_train)\n",
        "\n",
        "y_pred = SVCclassifier.predict(scaled_X_test)\n",
        "\n",
        "print(classification_report(y_test, y_pred))\n",
        "\n",
        "SAcc= accuracy_score(y_pred,y_test)"
      ],
      "metadata": {
        "colab": {
          "base_uri": "https://localhost:8080/"
        },
        "id": "SQKZeMFCKtol",
        "outputId": "7c3ab21a-f3f2-4760-fa58-65ca56d3ce7b"
      },
      "execution_count": null,
      "outputs": [
        {
          "output_type": "stream",
          "name": "stdout",
          "text": [
            "              precision    recall  f1-score   support\n",
            "\n",
            "           0       0.85      0.92      0.88       991\n",
            "           1       0.39      0.24      0.30       209\n",
            "\n",
            "    accuracy                           0.80      1200\n",
            "   macro avg       0.62      0.58      0.59      1200\n",
            "weighted avg       0.77      0.80      0.78      1200\n",
            "\n"
          ]
        },
        {
          "output_type": "stream",
          "name": "stderr",
          "text": [
            "/usr/local/lib/python3.8/dist-packages/sklearn/svm/_base.py:284: ConvergenceWarning: Solver terminated early (max_iter=500).  Consider pre-processing your data with StandardScaler or MinMaxScaler.\n",
            "  warnings.warn(\n"
          ]
        }
      ]
    },
    {
      "cell_type": "markdown",
      "metadata": {
        "id": "ugyTS51Ko5vz"
      },
      "source": [
        "## 3.2: Adding feature engineering"
      ]
    },
    {
      "cell_type": "code",
      "metadata": {
        "id": "742aYkYbprVD"
      },
      "source": [
        "X = df3.drop('BadCredit', axis=1) #.select_dtypes(['number'])\n",
        "y = df3['BadCredit']"
      ],
      "execution_count": null,
      "outputs": []
    },
    {
      "cell_type": "code",
      "source": [
        "# Setting userId as Index\n",
        "X= X.set_index('UserID')"
      ],
      "metadata": {
        "id": "2UWrgtXpdamK"
      },
      "execution_count": null,
      "outputs": []
    },
    {
      "cell_type": "code",
      "source": [
        "# Creating values for Sex columns Male and Female\n",
        "sex_values = pd.get_dummies(X['Sex']).rename(columns=lambda x: 'Sex_class_' + str(x))\n",
        "X = pd.concat([X, sex_values], axis=1)\n",
        "X = X.drop('Sex', axis = 1)"
      ],
      "metadata": {
        "id": "yDN5aP2fdaiq"
      },
      "execution_count": null,
      "outputs": []
    },
    {
      "cell_type": "code",
      "source": [
        "# Dropping features\n",
        "X = X.drop('FirstName', axis = 1)\n",
        "X = X.drop('LastName', axis = 1)\n",
        "X= X.drop('Street', axis = 1)\n",
        "X = X.drop('LicensePlate', axis = 1)"
      ],
      "metadata": {
        "id": "E1CBn9o2dagJ"
      },
      "execution_count": null,
      "outputs": []
    },
    {
      "cell_type": "code",
      "source": [
        "# Creating values for Cities\n",
        "city_values = pd.get_dummies(X['City']).rename(columns=lambda x: 'City_class_' + str(x))\n",
        "X = pd.concat([X, city_values], axis=1)\n",
        "X = X.drop('City', axis = 1)"
      ],
      "metadata": {
        "id": "yEPIFwM5dado"
      },
      "execution_count": null,
      "outputs": []
    },
    {
      "cell_type": "code",
      "source": [
        "# Creating values for Purpose\n",
        "purpose_values = pd.get_dummies(X['Purpose']).rename(columns=lambda x: 'Purpose_class_' + str(x))\n",
        "X = pd.concat([X, purpose_values], axis=1)\n",
        "X = X.drop('Purpose', axis = 1)"
      ],
      "metadata": {
        "id": "J2hzN4_0dabJ"
      },
      "execution_count": null,
      "outputs": []
    },
    {
      "cell_type": "code",
      "source": [
        "#Turning DateOfBirth feature into Age\n",
        "from datetime import date\n",
        "def age(birthdate):\n",
        "    today = date.today()\n",
        "    age = today.year - birthdate.year - ((today.month, today.day) < (birthdate.month, birthdate.day))\n",
        "    return age\n",
        "\n",
        "birth_dates = X['DateOfBirth'].tolist()\n",
        "birth_dates = pd.to_datetime(birth_dates)\n",
        "customer_age = [age(birth_dates[i]) for i in range(len(birth_dates))]\n",
        "X['Age'] = customer_age\n",
        "X = X.drop('DateOfBirth', axis = 1)\n",
        "X.head().transpose()"
      ],
      "metadata": {
        "colab": {
          "base_uri": "https://localhost:8080/",
          "height": 1241
        },
        "id": "TqvEe08YdaYB",
        "outputId": "715ff2e0-d0fd-4bde-8adf-c1f2aa4a3172"
      },
      "execution_count": null,
      "outputs": [
        {
          "output_type": "execute_result",
          "data": {
            "text/plain": [
              "UserID                       218-84-8180  395-49-9764  892-81-4890  \\\n",
              "PreviousDefault                        0            0            0   \n",
              "NumberPets                             2            0            0   \n",
              "PreviousAccounts                       3            1            0   \n",
              "ResidenceDuration                      1            1            2   \n",
              "Amount                              3907         3235         3108   \n",
              "Married                                0            0            1   \n",
              "Duration                              24           12           30   \n",
              "Sex_class_F                            1            0            1   \n",
              "Sex_class_M                            0            1            0   \n",
              "City_class_Cassandraton                0            0            0   \n",
              "City_class_East Jessetown              0            0            0   \n",
              "City_class_East Jill                   0            0            0   \n",
              "City_class_Ericmouth                   0            0            0   \n",
              "City_class_Herrerafurt                 0            0            0   \n",
              "City_class_Jacquelineland              0            0            0   \n",
              "City_class_Lake Chad                   0            0            0   \n",
              "City_class_Lake Debra                  0            1            0   \n",
              "City_class_Lake Roberto                0            0            0   \n",
              "City_class_Lisatown                    0            0            0   \n",
              "City_class_New Jessica                 0            0            0   \n",
              "City_class_New Kellystad               0            0            0   \n",
              "City_class_New Roberttown              0            0            0   \n",
              "City_class_North Judithbury            0            0            1   \n",
              "City_class_North Noahstad              0            0            0   \n",
              "City_class_Port Jesseville             0            0            0   \n",
              "City_class_Port Keith                  1            0            0   \n",
              "City_class_Ramirezstad                 0            0            0   \n",
              "City_class_Robinsonshire               0            0            0   \n",
              "City_class_West Michael                0            0            0   \n",
              "Purpose_class_Business                 0            0            0   \n",
              "Purpose_class_Education                0            0            0   \n",
              "Purpose_class_Household                0            0            0   \n",
              "Purpose_class_NewCar                   0            1            1   \n",
              "Purpose_class_Other                    0            0            0   \n",
              "Purpose_class_Repair                   0            0            0   \n",
              "Purpose_class_UsedCar                  0            0            0   \n",
              "Purpose_class_Vacation                 1            0            0   \n",
              "Age                                   58           44           50   \n",
              "\n",
              "UserID                       081-11-7963  347-03-9639  \n",
              "PreviousDefault                        0            0  \n",
              "NumberPets                             2            1  \n",
              "PreviousAccounts                       1            5  \n",
              "ResidenceDuration                      3            1  \n",
              "Amount                              4014         3823  \n",
              "Married                                1            0  \n",
              "Duration                              36           18  \n",
              "Sex_class_F                            1            0  \n",
              "Sex_class_M                            0            1  \n",
              "City_class_Cassandraton                0            0  \n",
              "City_class_East Jessetown              0            0  \n",
              "City_class_East Jill                   0            0  \n",
              "City_class_Ericmouth                   0            0  \n",
              "City_class_Herrerafurt                 0            0  \n",
              "City_class_Jacquelineland              0            0  \n",
              "City_class_Lake Chad                   1            0  \n",
              "City_class_Lake Debra                  0            0  \n",
              "City_class_Lake Roberto                0            0  \n",
              "City_class_Lisatown                    0            0  \n",
              "City_class_New Jessica                 0            0  \n",
              "City_class_New Kellystad               0            0  \n",
              "City_class_New Roberttown              0            0  \n",
              "City_class_North Judithbury            0            1  \n",
              "City_class_North Noahstad              0            0  \n",
              "City_class_Port Jesseville             0            0  \n",
              "City_class_Port Keith                  0            0  \n",
              "City_class_Ramirezstad                 0            0  \n",
              "City_class_Robinsonshire               0            0  \n",
              "City_class_West Michael                0            0  \n",
              "Purpose_class_Business                 0            0  \n",
              "Purpose_class_Education                0            0  \n",
              "Purpose_class_Household                0            0  \n",
              "Purpose_class_NewCar                   0            0  \n",
              "Purpose_class_Other                    1            0  \n",
              "Purpose_class_Repair                   0            0  \n",
              "Purpose_class_UsedCar                  0            0  \n",
              "Purpose_class_Vacation                 0            1  \n",
              "Age                                   37           39  "
            ],
            "text/html": [
              "\n",
              "  <div id=\"df-b7cdcfdb-f9ff-4bc7-b91a-b37841bf1bc8\">\n",
              "    <div class=\"colab-df-container\">\n",
              "      <div>\n",
              "<style scoped>\n",
              "    .dataframe tbody tr th:only-of-type {\n",
              "        vertical-align: middle;\n",
              "    }\n",
              "\n",
              "    .dataframe tbody tr th {\n",
              "        vertical-align: top;\n",
              "    }\n",
              "\n",
              "    .dataframe thead th {\n",
              "        text-align: right;\n",
              "    }\n",
              "</style>\n",
              "<table border=\"1\" class=\"dataframe\">\n",
              "  <thead>\n",
              "    <tr style=\"text-align: right;\">\n",
              "      <th>UserID</th>\n",
              "      <th>218-84-8180</th>\n",
              "      <th>395-49-9764</th>\n",
              "      <th>892-81-4890</th>\n",
              "      <th>081-11-7963</th>\n",
              "      <th>347-03-9639</th>\n",
              "    </tr>\n",
              "  </thead>\n",
              "  <tbody>\n",
              "    <tr>\n",
              "      <th>PreviousDefault</th>\n",
              "      <td>0</td>\n",
              "      <td>0</td>\n",
              "      <td>0</td>\n",
              "      <td>0</td>\n",
              "      <td>0</td>\n",
              "    </tr>\n",
              "    <tr>\n",
              "      <th>NumberPets</th>\n",
              "      <td>2</td>\n",
              "      <td>0</td>\n",
              "      <td>0</td>\n",
              "      <td>2</td>\n",
              "      <td>1</td>\n",
              "    </tr>\n",
              "    <tr>\n",
              "      <th>PreviousAccounts</th>\n",
              "      <td>3</td>\n",
              "      <td>1</td>\n",
              "      <td>0</td>\n",
              "      <td>1</td>\n",
              "      <td>5</td>\n",
              "    </tr>\n",
              "    <tr>\n",
              "      <th>ResidenceDuration</th>\n",
              "      <td>1</td>\n",
              "      <td>1</td>\n",
              "      <td>2</td>\n",
              "      <td>3</td>\n",
              "      <td>1</td>\n",
              "    </tr>\n",
              "    <tr>\n",
              "      <th>Amount</th>\n",
              "      <td>3907</td>\n",
              "      <td>3235</td>\n",
              "      <td>3108</td>\n",
              "      <td>4014</td>\n",
              "      <td>3823</td>\n",
              "    </tr>\n",
              "    <tr>\n",
              "      <th>Married</th>\n",
              "      <td>0</td>\n",
              "      <td>0</td>\n",
              "      <td>1</td>\n",
              "      <td>1</td>\n",
              "      <td>0</td>\n",
              "    </tr>\n",
              "    <tr>\n",
              "      <th>Duration</th>\n",
              "      <td>24</td>\n",
              "      <td>12</td>\n",
              "      <td>30</td>\n",
              "      <td>36</td>\n",
              "      <td>18</td>\n",
              "    </tr>\n",
              "    <tr>\n",
              "      <th>Sex_class_F</th>\n",
              "      <td>1</td>\n",
              "      <td>0</td>\n",
              "      <td>1</td>\n",
              "      <td>1</td>\n",
              "      <td>0</td>\n",
              "    </tr>\n",
              "    <tr>\n",
              "      <th>Sex_class_M</th>\n",
              "      <td>0</td>\n",
              "      <td>1</td>\n",
              "      <td>0</td>\n",
              "      <td>0</td>\n",
              "      <td>1</td>\n",
              "    </tr>\n",
              "    <tr>\n",
              "      <th>City_class_Cassandraton</th>\n",
              "      <td>0</td>\n",
              "      <td>0</td>\n",
              "      <td>0</td>\n",
              "      <td>0</td>\n",
              "      <td>0</td>\n",
              "    </tr>\n",
              "    <tr>\n",
              "      <th>City_class_East Jessetown</th>\n",
              "      <td>0</td>\n",
              "      <td>0</td>\n",
              "      <td>0</td>\n",
              "      <td>0</td>\n",
              "      <td>0</td>\n",
              "    </tr>\n",
              "    <tr>\n",
              "      <th>City_class_East Jill</th>\n",
              "      <td>0</td>\n",
              "      <td>0</td>\n",
              "      <td>0</td>\n",
              "      <td>0</td>\n",
              "      <td>0</td>\n",
              "    </tr>\n",
              "    <tr>\n",
              "      <th>City_class_Ericmouth</th>\n",
              "      <td>0</td>\n",
              "      <td>0</td>\n",
              "      <td>0</td>\n",
              "      <td>0</td>\n",
              "      <td>0</td>\n",
              "    </tr>\n",
              "    <tr>\n",
              "      <th>City_class_Herrerafurt</th>\n",
              "      <td>0</td>\n",
              "      <td>0</td>\n",
              "      <td>0</td>\n",
              "      <td>0</td>\n",
              "      <td>0</td>\n",
              "    </tr>\n",
              "    <tr>\n",
              "      <th>City_class_Jacquelineland</th>\n",
              "      <td>0</td>\n",
              "      <td>0</td>\n",
              "      <td>0</td>\n",
              "      <td>0</td>\n",
              "      <td>0</td>\n",
              "    </tr>\n",
              "    <tr>\n",
              "      <th>City_class_Lake Chad</th>\n",
              "      <td>0</td>\n",
              "      <td>0</td>\n",
              "      <td>0</td>\n",
              "      <td>1</td>\n",
              "      <td>0</td>\n",
              "    </tr>\n",
              "    <tr>\n",
              "      <th>City_class_Lake Debra</th>\n",
              "      <td>0</td>\n",
              "      <td>1</td>\n",
              "      <td>0</td>\n",
              "      <td>0</td>\n",
              "      <td>0</td>\n",
              "    </tr>\n",
              "    <tr>\n",
              "      <th>City_class_Lake Roberto</th>\n",
              "      <td>0</td>\n",
              "      <td>0</td>\n",
              "      <td>0</td>\n",
              "      <td>0</td>\n",
              "      <td>0</td>\n",
              "    </tr>\n",
              "    <tr>\n",
              "      <th>City_class_Lisatown</th>\n",
              "      <td>0</td>\n",
              "      <td>0</td>\n",
              "      <td>0</td>\n",
              "      <td>0</td>\n",
              "      <td>0</td>\n",
              "    </tr>\n",
              "    <tr>\n",
              "      <th>City_class_New Jessica</th>\n",
              "      <td>0</td>\n",
              "      <td>0</td>\n",
              "      <td>0</td>\n",
              "      <td>0</td>\n",
              "      <td>0</td>\n",
              "    </tr>\n",
              "    <tr>\n",
              "      <th>City_class_New Kellystad</th>\n",
              "      <td>0</td>\n",
              "      <td>0</td>\n",
              "      <td>0</td>\n",
              "      <td>0</td>\n",
              "      <td>0</td>\n",
              "    </tr>\n",
              "    <tr>\n",
              "      <th>City_class_New Roberttown</th>\n",
              "      <td>0</td>\n",
              "      <td>0</td>\n",
              "      <td>0</td>\n",
              "      <td>0</td>\n",
              "      <td>0</td>\n",
              "    </tr>\n",
              "    <tr>\n",
              "      <th>City_class_North Judithbury</th>\n",
              "      <td>0</td>\n",
              "      <td>0</td>\n",
              "      <td>1</td>\n",
              "      <td>0</td>\n",
              "      <td>1</td>\n",
              "    </tr>\n",
              "    <tr>\n",
              "      <th>City_class_North Noahstad</th>\n",
              "      <td>0</td>\n",
              "      <td>0</td>\n",
              "      <td>0</td>\n",
              "      <td>0</td>\n",
              "      <td>0</td>\n",
              "    </tr>\n",
              "    <tr>\n",
              "      <th>City_class_Port Jesseville</th>\n",
              "      <td>0</td>\n",
              "      <td>0</td>\n",
              "      <td>0</td>\n",
              "      <td>0</td>\n",
              "      <td>0</td>\n",
              "    </tr>\n",
              "    <tr>\n",
              "      <th>City_class_Port Keith</th>\n",
              "      <td>1</td>\n",
              "      <td>0</td>\n",
              "      <td>0</td>\n",
              "      <td>0</td>\n",
              "      <td>0</td>\n",
              "    </tr>\n",
              "    <tr>\n",
              "      <th>City_class_Ramirezstad</th>\n",
              "      <td>0</td>\n",
              "      <td>0</td>\n",
              "      <td>0</td>\n",
              "      <td>0</td>\n",
              "      <td>0</td>\n",
              "    </tr>\n",
              "    <tr>\n",
              "      <th>City_class_Robinsonshire</th>\n",
              "      <td>0</td>\n",
              "      <td>0</td>\n",
              "      <td>0</td>\n",
              "      <td>0</td>\n",
              "      <td>0</td>\n",
              "    </tr>\n",
              "    <tr>\n",
              "      <th>City_class_West Michael</th>\n",
              "      <td>0</td>\n",
              "      <td>0</td>\n",
              "      <td>0</td>\n",
              "      <td>0</td>\n",
              "      <td>0</td>\n",
              "    </tr>\n",
              "    <tr>\n",
              "      <th>Purpose_class_Business</th>\n",
              "      <td>0</td>\n",
              "      <td>0</td>\n",
              "      <td>0</td>\n",
              "      <td>0</td>\n",
              "      <td>0</td>\n",
              "    </tr>\n",
              "    <tr>\n",
              "      <th>Purpose_class_Education</th>\n",
              "      <td>0</td>\n",
              "      <td>0</td>\n",
              "      <td>0</td>\n",
              "      <td>0</td>\n",
              "      <td>0</td>\n",
              "    </tr>\n",
              "    <tr>\n",
              "      <th>Purpose_class_Household</th>\n",
              "      <td>0</td>\n",
              "      <td>0</td>\n",
              "      <td>0</td>\n",
              "      <td>0</td>\n",
              "      <td>0</td>\n",
              "    </tr>\n",
              "    <tr>\n",
              "      <th>Purpose_class_NewCar</th>\n",
              "      <td>0</td>\n",
              "      <td>1</td>\n",
              "      <td>1</td>\n",
              "      <td>0</td>\n",
              "      <td>0</td>\n",
              "    </tr>\n",
              "    <tr>\n",
              "      <th>Purpose_class_Other</th>\n",
              "      <td>0</td>\n",
              "      <td>0</td>\n",
              "      <td>0</td>\n",
              "      <td>1</td>\n",
              "      <td>0</td>\n",
              "    </tr>\n",
              "    <tr>\n",
              "      <th>Purpose_class_Repair</th>\n",
              "      <td>0</td>\n",
              "      <td>0</td>\n",
              "      <td>0</td>\n",
              "      <td>0</td>\n",
              "      <td>0</td>\n",
              "    </tr>\n",
              "    <tr>\n",
              "      <th>Purpose_class_UsedCar</th>\n",
              "      <td>0</td>\n",
              "      <td>0</td>\n",
              "      <td>0</td>\n",
              "      <td>0</td>\n",
              "      <td>0</td>\n",
              "    </tr>\n",
              "    <tr>\n",
              "      <th>Purpose_class_Vacation</th>\n",
              "      <td>1</td>\n",
              "      <td>0</td>\n",
              "      <td>0</td>\n",
              "      <td>0</td>\n",
              "      <td>1</td>\n",
              "    </tr>\n",
              "    <tr>\n",
              "      <th>Age</th>\n",
              "      <td>58</td>\n",
              "      <td>44</td>\n",
              "      <td>50</td>\n",
              "      <td>37</td>\n",
              "      <td>39</td>\n",
              "    </tr>\n",
              "  </tbody>\n",
              "</table>\n",
              "</div>\n",
              "      <button class=\"colab-df-convert\" onclick=\"convertToInteractive('df-b7cdcfdb-f9ff-4bc7-b91a-b37841bf1bc8')\"\n",
              "              title=\"Convert this dataframe to an interactive table.\"\n",
              "              style=\"display:none;\">\n",
              "        \n",
              "  <svg xmlns=\"http://www.w3.org/2000/svg\" height=\"24px\"viewBox=\"0 0 24 24\"\n",
              "       width=\"24px\">\n",
              "    <path d=\"M0 0h24v24H0V0z\" fill=\"none\"/>\n",
              "    <path d=\"M18.56 5.44l.94 2.06.94-2.06 2.06-.94-2.06-.94-.94-2.06-.94 2.06-2.06.94zm-11 1L8.5 8.5l.94-2.06 2.06-.94-2.06-.94L8.5 2.5l-.94 2.06-2.06.94zm10 10l.94 2.06.94-2.06 2.06-.94-2.06-.94-.94-2.06-.94 2.06-2.06.94z\"/><path d=\"M17.41 7.96l-1.37-1.37c-.4-.4-.92-.59-1.43-.59-.52 0-1.04.2-1.43.59L10.3 9.45l-7.72 7.72c-.78.78-.78 2.05 0 2.83L4 21.41c.39.39.9.59 1.41.59.51 0 1.02-.2 1.41-.59l7.78-7.78 2.81-2.81c.8-.78.8-2.07 0-2.86zM5.41 20L4 18.59l7.72-7.72 1.47 1.35L5.41 20z\"/>\n",
              "  </svg>\n",
              "      </button>\n",
              "      \n",
              "  <style>\n",
              "    .colab-df-container {\n",
              "      display:flex;\n",
              "      flex-wrap:wrap;\n",
              "      gap: 12px;\n",
              "    }\n",
              "\n",
              "    .colab-df-convert {\n",
              "      background-color: #E8F0FE;\n",
              "      border: none;\n",
              "      border-radius: 50%;\n",
              "      cursor: pointer;\n",
              "      display: none;\n",
              "      fill: #1967D2;\n",
              "      height: 32px;\n",
              "      padding: 0 0 0 0;\n",
              "      width: 32px;\n",
              "    }\n",
              "\n",
              "    .colab-df-convert:hover {\n",
              "      background-color: #E2EBFA;\n",
              "      box-shadow: 0px 1px 2px rgba(60, 64, 67, 0.3), 0px 1px 3px 1px rgba(60, 64, 67, 0.15);\n",
              "      fill: #174EA6;\n",
              "    }\n",
              "\n",
              "    [theme=dark] .colab-df-convert {\n",
              "      background-color: #3B4455;\n",
              "      fill: #D2E3FC;\n",
              "    }\n",
              "\n",
              "    [theme=dark] .colab-df-convert:hover {\n",
              "      background-color: #434B5C;\n",
              "      box-shadow: 0px 1px 3px 1px rgba(0, 0, 0, 0.15);\n",
              "      filter: drop-shadow(0px 1px 2px rgba(0, 0, 0, 0.3));\n",
              "      fill: #FFFFFF;\n",
              "    }\n",
              "  </style>\n",
              "\n",
              "      <script>\n",
              "        const buttonEl =\n",
              "          document.querySelector('#df-b7cdcfdb-f9ff-4bc7-b91a-b37841bf1bc8 button.colab-df-convert');\n",
              "        buttonEl.style.display =\n",
              "          google.colab.kernel.accessAllowed ? 'block' : 'none';\n",
              "\n",
              "        async function convertToInteractive(key) {\n",
              "          const element = document.querySelector('#df-b7cdcfdb-f9ff-4bc7-b91a-b37841bf1bc8');\n",
              "          const dataTable =\n",
              "            await google.colab.kernel.invokeFunction('convertToInteractive',\n",
              "                                                     [key], {});\n",
              "          if (!dataTable) return;\n",
              "\n",
              "          const docLinkHtml = 'Like what you see? Visit the ' +\n",
              "            '<a target=\"_blank\" href=https://colab.research.google.com/notebooks/data_table.ipynb>data table notebook</a>'\n",
              "            + ' to learn more about interactive tables.';\n",
              "          element.innerHTML = '';\n",
              "          dataTable['output_type'] = 'display_data';\n",
              "          await google.colab.output.renderOutput(dataTable, element);\n",
              "          const docLink = document.createElement('div');\n",
              "          docLink.innerHTML = docLinkHtml;\n",
              "          element.appendChild(docLink);\n",
              "        }\n",
              "      </script>\n",
              "    </div>\n",
              "  </div>\n",
              "  "
            ]
          },
          "metadata": {},
          "execution_count": 447
        }
      ]
    },
    {
      "cell_type": "code",
      "source": [
        "#Final check\n",
        "X.info()"
      ],
      "metadata": {
        "colab": {
          "base_uri": "https://localhost:8080/"
        },
        "id": "fBB4TaJsdaNs",
        "outputId": "c320ad72-2b2c-448e-cfc5-90df359f18bf"
      },
      "execution_count": null,
      "outputs": [
        {
          "output_type": "stream",
          "name": "stdout",
          "text": [
            "<class 'pandas.core.frame.DataFrame'>\n",
            "Index: 6000 entries, 218-84-8180 to 367-72-7571\n",
            "Data columns (total 38 columns):\n",
            " #   Column                       Non-Null Count  Dtype\n",
            "---  ------                       --------------  -----\n",
            " 0   PreviousDefault              6000 non-null   int64\n",
            " 1   NumberPets                   6000 non-null   int64\n",
            " 2   PreviousAccounts             6000 non-null   int64\n",
            " 3   ResidenceDuration            6000 non-null   int64\n",
            " 4   Amount                       6000 non-null   int64\n",
            " 5   Married                      6000 non-null   int64\n",
            " 6   Duration                     6000 non-null   int64\n",
            " 7   Sex_class_F                  6000 non-null   uint8\n",
            " 8   Sex_class_M                  6000 non-null   uint8\n",
            " 9   City_class_Cassandraton      6000 non-null   uint8\n",
            " 10  City_class_East Jessetown    6000 non-null   uint8\n",
            " 11  City_class_East Jill         6000 non-null   uint8\n",
            " 12  City_class_Ericmouth         6000 non-null   uint8\n",
            " 13  City_class_Herrerafurt       6000 non-null   uint8\n",
            " 14  City_class_Jacquelineland    6000 non-null   uint8\n",
            " 15  City_class_Lake Chad         6000 non-null   uint8\n",
            " 16  City_class_Lake Debra        6000 non-null   uint8\n",
            " 17  City_class_Lake Roberto      6000 non-null   uint8\n",
            " 18  City_class_Lisatown          6000 non-null   uint8\n",
            " 19  City_class_New Jessica       6000 non-null   uint8\n",
            " 20  City_class_New Kellystad     6000 non-null   uint8\n",
            " 21  City_class_New Roberttown    6000 non-null   uint8\n",
            " 22  City_class_North Judithbury  6000 non-null   uint8\n",
            " 23  City_class_North Noahstad    6000 non-null   uint8\n",
            " 24  City_class_Port Jesseville   6000 non-null   uint8\n",
            " 25  City_class_Port Keith        6000 non-null   uint8\n",
            " 26  City_class_Ramirezstad       6000 non-null   uint8\n",
            " 27  City_class_Robinsonshire     6000 non-null   uint8\n",
            " 28  City_class_West Michael      6000 non-null   uint8\n",
            " 29  Purpose_class_Business       6000 non-null   uint8\n",
            " 30  Purpose_class_Education      6000 non-null   uint8\n",
            " 31  Purpose_class_Household      6000 non-null   uint8\n",
            " 32  Purpose_class_NewCar         6000 non-null   uint8\n",
            " 33  Purpose_class_Other          6000 non-null   uint8\n",
            " 34  Purpose_class_Repair         6000 non-null   uint8\n",
            " 35  Purpose_class_UsedCar        6000 non-null   uint8\n",
            " 36  Purpose_class_Vacation       6000 non-null   uint8\n",
            " 37  Age                          6000 non-null   int64\n",
            "dtypes: int64(8), uint8(30)\n",
            "memory usage: 597.7+ KB\n"
          ]
        }
      ]
    },
    {
      "cell_type": "code",
      "source": [
        "X_train, X_test, y_train, y_test = train_test_split(X, y, test_size=0.2, random_state=42)"
      ],
      "metadata": {
        "id": "SdiR1pCifb09"
      },
      "execution_count": null,
      "outputs": []
    },
    {
      "cell_type": "markdown",
      "metadata": {
        "id": "PsdD0clko5pz"
      },
      "source": [
        "## 3.3: Adding feature selection"
      ]
    },
    {
      "cell_type": "code",
      "metadata": {
        "id": "rxX2ERqzpqxi"
      },
      "source": [
        "#from sklearn.feature_selection importing libraries\n",
        "from sklearn.feature_selection import SelectKBest, chi2\n",
        "from IPython.core.interactiveshell import InteractiveShell\n",
        "InteractiveShell.ast_node_interactivity = \"all\""
      ],
      "execution_count": null,
      "outputs": []
    },
    {
      "cell_type": "code",
      "source": [
        "from sklearn.metrics import classification_report\n",
        "from sklearn.feature_selection import VarianceThreshold\n",
        "sel = VarianceThreshold(threshold=(0.1));\n",
        "sel = sel.fit(scaled_X_train);\n",
        "\n",
        "scaled_X_train_new = sel.transform(scaled_X_train)\n",
        "scaled_X_test_new = sel.transform(scaled_X_test)\n",
        "\n",
        "scaled_X_train_new.shape\n",
        "\n",
        "SVCclassifier.fit(scaled_X_train_new,y_train)\n",
        "y_pred = SVCclassifier.predict(scaled_X_test_new)"
      ],
      "metadata": {
        "colab": {
          "base_uri": "https://localhost:8080/"
        },
        "id": "0oIDha92iazI",
        "outputId": "475d41c5-41b1-4f92-e61a-2208a1f5dfac"
      },
      "execution_count": null,
      "outputs": [
        {
          "output_type": "execute_result",
          "data": {
            "text/plain": [
              "(4800, 37)"
            ]
          },
          "metadata": {},
          "execution_count": 451
        },
        {
          "output_type": "stream",
          "name": "stderr",
          "text": [
            "/usr/local/lib/python3.8/dist-packages/sklearn/svm/_base.py:284: ConvergenceWarning: Solver terminated early (max_iter=500).  Consider pre-processing your data with StandardScaler or MinMaxScaler.\n",
            "  warnings.warn(\n"
          ]
        },
        {
          "output_type": "execute_result",
          "data": {
            "text/plain": [
              "SVC(max_iter=500)"
            ]
          },
          "metadata": {},
          "execution_count": 451
        }
      ]
    },
    {
      "cell_type": "markdown",
      "metadata": {
        "id": "Ff4l2aNKo5fr"
      },
      "source": [
        "## 3.4: Adding hyperparameter tuning"
      ]
    },
    {
      "cell_type": "code",
      "metadata": {
        "id": "7XaxtTWMpIpP",
        "colab": {
          "base_uri": "https://localhost:8080/"
        },
        "outputId": "750b0128-eb55-4ddb-bae4-33fd549b9340"
      },
      "source": [
        "# Grid Search\n",
        "param_grid = {'C': [0.1, 1, 10, 100, 1000],\n",
        "              'gamma': [1, 0.1, 0.01, 0.001, 0.0001],\n",
        "              'kernel': ['rbf']}\n",
        "\n",
        "grid = GridSearchCV(SVC(), param_grid, refit = True, verbose = 3)\n",
        "\n",
        "# fitting the model for grid search\n",
        "grid.fit(X_train, y_train)"
      ],
      "execution_count": null,
      "outputs": [
        {
          "output_type": "stream",
          "name": "stdout",
          "text": [
            "Fitting 5 folds for each of 25 candidates, totalling 125 fits\n",
            "[CV 1/5] END ........C=0.1, gamma=1, kernel=rbf;, score=0.829 total time=   1.4s\n",
            "[CV 2/5] END ........C=0.1, gamma=1, kernel=rbf;, score=0.828 total time=   1.4s\n",
            "[CV 3/5] END ........C=0.1, gamma=1, kernel=rbf;, score=0.828 total time=   1.4s\n",
            "[CV 4/5] END ........C=0.1, gamma=1, kernel=rbf;, score=0.828 total time=   1.4s\n",
            "[CV 5/5] END ........C=0.1, gamma=1, kernel=rbf;, score=0.828 total time=   1.3s\n",
            "[CV 1/5] END ......C=0.1, gamma=0.1, kernel=rbf;, score=0.829 total time=   1.3s\n",
            "[CV 2/5] END ......C=0.1, gamma=0.1, kernel=rbf;, score=0.828 total time=   1.3s\n",
            "[CV 3/5] END ......C=0.1, gamma=0.1, kernel=rbf;, score=0.828 total time=   1.3s\n",
            "[CV 4/5] END ......C=0.1, gamma=0.1, kernel=rbf;, score=0.828 total time=   1.3s\n",
            "[CV 5/5] END ......C=0.1, gamma=0.1, kernel=rbf;, score=0.828 total time=   1.3s\n",
            "[CV 1/5] END .....C=0.1, gamma=0.01, kernel=rbf;, score=0.829 total time=   1.0s\n",
            "[CV 2/5] END .....C=0.1, gamma=0.01, kernel=rbf;, score=0.828 total time=   1.0s\n",
            "[CV 3/5] END .....C=0.1, gamma=0.01, kernel=rbf;, score=0.828 total time=   1.0s\n",
            "[CV 4/5] END .....C=0.1, gamma=0.01, kernel=rbf;, score=0.828 total time=   1.3s\n",
            "[CV 5/5] END .....C=0.1, gamma=0.01, kernel=rbf;, score=0.828 total time=   1.5s\n",
            "[CV 1/5] END ....C=0.1, gamma=0.001, kernel=rbf;, score=0.834 total time=   0.8s\n",
            "[CV 2/5] END ....C=0.1, gamma=0.001, kernel=rbf;, score=0.828 total time=   0.7s\n",
            "[CV 3/5] END ....C=0.1, gamma=0.001, kernel=rbf;, score=0.835 total time=   0.7s\n",
            "[CV 4/5] END ....C=0.1, gamma=0.001, kernel=rbf;, score=0.833 total time=   0.6s\n",
            "[CV 5/5] END ....C=0.1, gamma=0.001, kernel=rbf;, score=0.832 total time=   0.6s\n",
            "[CV 1/5] END ...C=0.1, gamma=0.0001, kernel=rbf;, score=0.829 total time=   0.6s\n",
            "[CV 2/5] END ...C=0.1, gamma=0.0001, kernel=rbf;, score=0.828 total time=   0.6s\n",
            "[CV 3/5] END ...C=0.1, gamma=0.0001, kernel=rbf;, score=0.839 total time=   0.6s\n",
            "[CV 4/5] END ...C=0.1, gamma=0.0001, kernel=rbf;, score=0.832 total time=   0.6s\n",
            "[CV 5/5] END ...C=0.1, gamma=0.0001, kernel=rbf;, score=0.830 total time=   0.6s\n",
            "[CV 1/5] END ..........C=1, gamma=1, kernel=rbf;, score=0.829 total time=   1.4s\n",
            "[CV 2/5] END ..........C=1, gamma=1, kernel=rbf;, score=0.828 total time=   1.4s\n",
            "[CV 3/5] END ..........C=1, gamma=1, kernel=rbf;, score=0.828 total time=   1.5s\n",
            "[CV 4/5] END ..........C=1, gamma=1, kernel=rbf;, score=0.828 total time=   1.4s\n",
            "[CV 5/5] END ..........C=1, gamma=1, kernel=rbf;, score=0.828 total time=   1.5s\n",
            "[CV 1/5] END ........C=1, gamma=0.1, kernel=rbf;, score=0.829 total time=   1.4s\n",
            "[CV 2/5] END ........C=1, gamma=0.1, kernel=rbf;, score=0.830 total time=   1.3s\n",
            "[CV 3/5] END ........C=1, gamma=0.1, kernel=rbf;, score=0.830 total time=   1.4s\n",
            "[CV 4/5] END ........C=1, gamma=0.1, kernel=rbf;, score=0.828 total time=   1.4s\n",
            "[CV 5/5] END ........C=1, gamma=0.1, kernel=rbf;, score=0.826 total time=   1.4s\n",
            "[CV 1/5] END .......C=1, gamma=0.01, kernel=rbf;, score=0.861 total time=   1.0s\n",
            "[CV 2/5] END .......C=1, gamma=0.01, kernel=rbf;, score=0.858 total time=   1.0s\n",
            "[CV 3/5] END .......C=1, gamma=0.01, kernel=rbf;, score=0.875 total time=   1.0s\n",
            "[CV 4/5] END .......C=1, gamma=0.01, kernel=rbf;, score=0.889 total time=   1.0s\n",
            "[CV 5/5] END .......C=1, gamma=0.01, kernel=rbf;, score=0.854 total time=   1.0s\n",
            "[CV 1/5] END ......C=1, gamma=0.001, kernel=rbf;, score=0.872 total time=   0.6s\n",
            "[CV 2/5] END ......C=1, gamma=0.001, kernel=rbf;, score=0.867 total time=   0.6s\n",
            "[CV 3/5] END ......C=1, gamma=0.001, kernel=rbf;, score=0.881 total time=   0.6s\n",
            "[CV 4/5] END ......C=1, gamma=0.001, kernel=rbf;, score=0.889 total time=   0.6s\n",
            "[CV 5/5] END ......C=1, gamma=0.001, kernel=rbf;, score=0.879 total time=   0.6s\n",
            "[CV 1/5] END .....C=1, gamma=0.0001, kernel=rbf;, score=0.855 total time=   0.6s\n",
            "[CV 2/5] END .....C=1, gamma=0.0001, kernel=rbf;, score=0.861 total time=   0.6s\n",
            "[CV 3/5] END .....C=1, gamma=0.0001, kernel=rbf;, score=0.875 total time=   0.6s\n",
            "[CV 4/5] END .....C=1, gamma=0.0001, kernel=rbf;, score=0.889 total time=   0.6s\n",
            "[CV 5/5] END .....C=1, gamma=0.0001, kernel=rbf;, score=0.859 total time=   0.6s\n",
            "[CV 1/5] END .........C=10, gamma=1, kernel=rbf;, score=0.829 total time=   1.8s\n",
            "[CV 2/5] END .........C=10, gamma=1, kernel=rbf;, score=0.828 total time=   1.9s\n",
            "[CV 3/5] END .........C=10, gamma=1, kernel=rbf;, score=0.828 total time=   1.5s\n",
            "[CV 4/5] END .........C=10, gamma=1, kernel=rbf;, score=0.828 total time=   2.3s\n",
            "[CV 5/5] END .........C=10, gamma=1, kernel=rbf;, score=0.828 total time=   1.8s\n",
            "[CV 1/5] END .......C=10, gamma=0.1, kernel=rbf;, score=0.825 total time=   1.7s\n",
            "[CV 2/5] END .......C=10, gamma=0.1, kernel=rbf;, score=0.834 total time=   1.9s\n",
            "[CV 3/5] END .......C=10, gamma=0.1, kernel=rbf;, score=0.834 total time=   2.3s\n",
            "[CV 4/5] END .......C=10, gamma=0.1, kernel=rbf;, score=0.831 total time=   2.6s\n",
            "[CV 5/5] END .......C=10, gamma=0.1, kernel=rbf;, score=0.823 total time=   1.5s\n",
            "[CV 1/5] END ......C=10, gamma=0.01, kernel=rbf;, score=0.847 total time=   1.1s\n",
            "[CV 2/5] END ......C=10, gamma=0.01, kernel=rbf;, score=0.860 total time=   1.0s\n",
            "[CV 3/5] END ......C=10, gamma=0.01, kernel=rbf;, score=0.853 total time=   1.0s\n",
            "[CV 4/5] END ......C=10, gamma=0.01, kernel=rbf;, score=0.852 total time=   1.0s\n",
            "[CV 5/5] END ......C=10, gamma=0.01, kernel=rbf;, score=0.842 total time=   1.0s\n",
            "[CV 1/5] END .....C=10, gamma=0.001, kernel=rbf;, score=0.870 total time=   0.6s\n",
            "[CV 2/5] END .....C=10, gamma=0.001, kernel=rbf;, score=0.868 total time=   0.7s\n",
            "[CV 3/5] END .....C=10, gamma=0.001, kernel=rbf;, score=0.883 total time=   1.1s\n",
            "[CV 4/5] END .....C=10, gamma=0.001, kernel=rbf;, score=0.889 total time=   1.1s\n",
            "[CV 5/5] END .....C=10, gamma=0.001, kernel=rbf;, score=0.882 total time=   1.1s\n",
            "[CV 1/5] END ....C=10, gamma=0.0001, kernel=rbf;, score=0.874 total time=   0.7s\n",
            "[CV 2/5] END ....C=10, gamma=0.0001, kernel=rbf;, score=0.877 total time=   0.6s\n",
            "[CV 3/5] END ....C=10, gamma=0.0001, kernel=rbf;, score=0.890 total time=   0.6s\n",
            "[CV 4/5] END ....C=10, gamma=0.0001, kernel=rbf;, score=0.894 total time=   0.6s\n",
            "[CV 5/5] END ....C=10, gamma=0.0001, kernel=rbf;, score=0.890 total time=   0.6s\n",
            "[CV 1/5] END ........C=100, gamma=1, kernel=rbf;, score=0.829 total time=   1.4s\n",
            "[CV 2/5] END ........C=100, gamma=1, kernel=rbf;, score=0.828 total time=   1.5s\n",
            "[CV 3/5] END ........C=100, gamma=1, kernel=rbf;, score=0.828 total time=   1.5s\n",
            "[CV 4/5] END ........C=100, gamma=1, kernel=rbf;, score=0.828 total time=   1.5s\n",
            "[CV 5/5] END ........C=100, gamma=1, kernel=rbf;, score=0.828 total time=   1.5s\n",
            "[CV 1/5] END ......C=100, gamma=0.1, kernel=rbf;, score=0.825 total time=   1.5s\n",
            "[CV 2/5] END ......C=100, gamma=0.1, kernel=rbf;, score=0.834 total time=   1.5s\n",
            "[CV 3/5] END ......C=100, gamma=0.1, kernel=rbf;, score=0.834 total time=   1.5s\n",
            "[CV 4/5] END ......C=100, gamma=0.1, kernel=rbf;, score=0.831 total time=   1.6s\n",
            "[CV 5/5] END ......C=100, gamma=0.1, kernel=rbf;, score=0.823 total time=   1.5s\n",
            "[CV 1/5] END .....C=100, gamma=0.01, kernel=rbf;, score=0.831 total time=   1.8s\n",
            "[CV 2/5] END .....C=100, gamma=0.01, kernel=rbf;, score=0.858 total time=   2.1s\n",
            "[CV 3/5] END .....C=100, gamma=0.01, kernel=rbf;, score=0.849 total time=   2.1s\n",
            "[CV 4/5] END .....C=100, gamma=0.01, kernel=rbf;, score=0.845 total time=   1.5s\n",
            "[CV 5/5] END .....C=100, gamma=0.01, kernel=rbf;, score=0.834 total time=   1.3s\n",
            "[CV 1/5] END ....C=100, gamma=0.001, kernel=rbf;, score=0.860 total time=   1.0s\n",
            "[CV 2/5] END ....C=100, gamma=0.001, kernel=rbf;, score=0.856 total time=   0.9s\n",
            "[CV 3/5] END ....C=100, gamma=0.001, kernel=rbf;, score=0.871 total time=   0.9s\n",
            "[CV 4/5] END ....C=100, gamma=0.001, kernel=rbf;, score=0.879 total time=   1.0s\n",
            "[CV 5/5] END ....C=100, gamma=0.001, kernel=rbf;, score=0.863 total time=   0.9s\n",
            "[CV 1/5] END ...C=100, gamma=0.0001, kernel=rbf;, score=0.875 total time=   0.8s\n",
            "[CV 2/5] END ...C=100, gamma=0.0001, kernel=rbf;, score=0.875 total time=   0.8s\n",
            "[CV 3/5] END ...C=100, gamma=0.0001, kernel=rbf;, score=0.892 total time=   0.9s\n",
            "[CV 4/5] END ...C=100, gamma=0.0001, kernel=rbf;, score=0.890 total time=   0.8s\n",
            "[CV 5/5] END ...C=100, gamma=0.0001, kernel=rbf;, score=0.881 total time=   0.8s\n",
            "[CV 1/5] END .......C=1000, gamma=1, kernel=rbf;, score=0.829 total time=   2.2s\n",
            "[CV 2/5] END .......C=1000, gamma=1, kernel=rbf;, score=0.828 total time=   1.7s\n",
            "[CV 3/5] END .......C=1000, gamma=1, kernel=rbf;, score=0.828 total time=   1.5s\n",
            "[CV 4/5] END .......C=1000, gamma=1, kernel=rbf;, score=0.828 total time=   1.5s\n",
            "[CV 5/5] END .......C=1000, gamma=1, kernel=rbf;, score=0.828 total time=   1.5s\n",
            "[CV 1/5] END .....C=1000, gamma=0.1, kernel=rbf;, score=0.825 total time=   1.5s\n",
            "[CV 2/5] END .....C=1000, gamma=0.1, kernel=rbf;, score=0.834 total time=   1.5s\n",
            "[CV 3/5] END .....C=1000, gamma=0.1, kernel=rbf;, score=0.834 total time=   1.5s\n",
            "[CV 4/5] END .....C=1000, gamma=0.1, kernel=rbf;, score=0.831 total time=   1.5s\n",
            "[CV 5/5] END .....C=1000, gamma=0.1, kernel=rbf;, score=0.823 total time=   1.5s\n",
            "[CV 1/5] END ....C=1000, gamma=0.01, kernel=rbf;, score=0.831 total time=   1.3s\n",
            "[CV 2/5] END ....C=1000, gamma=0.01, kernel=rbf;, score=0.858 total time=   1.6s\n",
            "[CV 3/5] END ....C=1000, gamma=0.01, kernel=rbf;, score=0.849 total time=   1.3s\n",
            "[CV 4/5] END ....C=1000, gamma=0.01, kernel=rbf;, score=0.845 total time=   1.6s\n",
            "[CV 5/5] END ....C=1000, gamma=0.01, kernel=rbf;, score=0.834 total time=   1.3s\n",
            "[CV 1/5] END ...C=1000, gamma=0.001, kernel=rbf;, score=0.827 total time=   3.8s\n",
            "[CV 2/5] END ...C=1000, gamma=0.001, kernel=rbf;, score=0.829 total time=   2.8s\n",
            "[CV 3/5] END ...C=1000, gamma=0.001, kernel=rbf;, score=0.844 total time=   2.6s\n",
            "[CV 4/5] END ...C=1000, gamma=0.001, kernel=rbf;, score=0.848 total time=   3.0s\n",
            "[CV 5/5] END ...C=1000, gamma=0.001, kernel=rbf;, score=0.831 total time=   4.0s\n",
            "[CV 1/5] END ..C=1000, gamma=0.0001, kernel=rbf;, score=0.872 total time=   1.9s\n",
            "[CV 2/5] END ..C=1000, gamma=0.0001, kernel=rbf;, score=0.870 total time=   1.4s\n",
            "[CV 3/5] END ..C=1000, gamma=0.0001, kernel=rbf;, score=0.889 total time=   1.5s\n",
            "[CV 4/5] END ..C=1000, gamma=0.0001, kernel=rbf;, score=0.897 total time=   1.6s\n",
            "[CV 5/5] END ..C=1000, gamma=0.0001, kernel=rbf;, score=0.880 total time=   1.5s\n"
          ]
        },
        {
          "output_type": "execute_result",
          "data": {
            "text/plain": [
              "GridSearchCV(estimator=SVC(),\n",
              "             param_grid={'C': [0.1, 1, 10, 100, 1000],\n",
              "                         'gamma': [1, 0.1, 0.01, 0.001, 0.0001],\n",
              "                         'kernel': ['rbf']},\n",
              "             verbose=3)"
            ]
          },
          "metadata": {},
          "execution_count": 452
        }
      ]
    },
    {
      "cell_type": "code",
      "source": [
        "# print best parameter after tuning\n",
        "print(grid.best_params_)\n",
        "\n",
        "# print how our model looks after hyper-parameter tuning\n",
        "print(grid.best_estimator_)"
      ],
      "metadata": {
        "colab": {
          "base_uri": "https://localhost:8080/"
        },
        "id": "TcF8IqzejAwc",
        "outputId": "02b7dcc5-756b-4634-c13e-55c7e1f22ffc"
      },
      "execution_count": null,
      "outputs": [
        {
          "output_type": "stream",
          "name": "stdout",
          "text": [
            "{'C': 10, 'gamma': 0.0001, 'kernel': 'rbf'}\n",
            "SVC(C=10, gamma=0.0001)\n"
          ]
        }
      ]
    },
    {
      "cell_type": "markdown",
      "metadata": {
        "id": "Te9gGGLEpXRG"
      },
      "source": [
        "## 3.5: Performance estimation on testing data"
      ]
    },
    {
      "cell_type": "code",
      "metadata": {
        "id": "YV_35bEupbfs",
        "colab": {
          "base_uri": "https://localhost:8080/"
        },
        "outputId": "88c7c52b-b54a-4f8d-d8cb-1292d69788e8"
      },
      "source": [
        "grid_predictions = grid.predict(X_test)\n",
        "\n",
        "# print classification report\n",
        "print(classification_report(y_test, grid_predictions))"
      ],
      "execution_count": null,
      "outputs": [
        {
          "output_type": "stream",
          "name": "stdout",
          "text": [
            "              precision    recall  f1-score   support\n",
            "\n",
            "           0       0.91      0.97      0.94       991\n",
            "           1       0.78      0.52      0.63       209\n",
            "\n",
            "    accuracy                           0.89      1200\n",
            "   macro avg       0.84      0.75      0.78      1200\n",
            "weighted avg       0.88      0.89      0.88      1200\n",
            "\n"
          ]
        }
      ]
    },
    {
      "cell_type": "markdown",
      "metadata": {
        "id": "bPiErnUaTQSk"
      },
      "source": [
        "# Question 4: Uncle Steve's Wind Farm"
      ]
    },
    {
      "cell_type": "markdown",
      "metadata": {
        "id": "NzLLQCmKTk9E"
      },
      "source": [
        "## Instructions\n",
        "\n",
        "\n",
        "Uncle Steve has invested in wind. He's built a BIG wind farm with a total of  700 turbines. He's been running the farm for a couple of years now and things are going well. He sells the power generated by the farm to the Kingston government and makes a tidy profit. And, of course, he has been gathering data about the turbines' operations.\n",
        "\n",
        "One area of concern, however, is the cost of maintenece. While the turbines are fairly robust, it seems like one breaks/fails every couple of days. When a turbine fails, it usually costs around \\$20,000 to repair it. Yikes!\n",
        "\n",
        "Currently, Uncle Steve is not doing any preventative maintenance. He just waits until a turbine fails, and then he fixes it. But Uncle Steve has recently learned that if he services a turbine *before* it fails, it will only cost around $2,000.\n",
        "\n",
        "Obviously, there is a potential to save a lot of money here. But first, Uncle Steve would need to figure out *which* turbines are about to fail. Uncle Steve being Uncle Steve, he wants to use ML to build a predictive maintenance model. The model will alert Uncle Steve to potential turbine failures before they happen, giving Uncle Steve a chance to perform an inspection on the turbine and then fix the turbine before it fails. Uncle Steve plans to run the model every morning. For all the turbines that the model predicts will fail, Uncle Steve will order an inspection (which cost a flat \\$500, no matter if the turbine was in good health or not; the \\$500 would not be part of the $2,000 service cost). For the rest of the turbines, Uncle Steve will do nothing.\n",
        "\n",
        "Uncle Steve has used the last few year's worth of operation data to build and assess a model to predict which turbines will fail on any given day. (The data includes useful features like sensor readings, power output, weather, and many more, but those are not important for now.) In fact, he didn't stop there: he built and assessed two models. One model uses using deep learning (in this case, RNNs), and the other uses random forests.\n",
        "\n",
        "He's tuned the bejeebers out of each model and is comfortable that he has found the best-performing version of each. Both models seem really good: both have accuracy scores > 99%. The RNN has better recall, but Uncle Steve is convinced that the random forest model will be better for him since it has better precision. Just to be sure, he has hired you to double check his calculations.\n",
        "\n",
        "**Your task**\n",
        "\n",
        " Which model will save Uncle Steve more money? Justify.\n",
        "\n",
        "\n",
        "In addition to the details above, here is the assessment of each model:\n",
        "\n",
        "- Confusion matrix for the random forest:\n",
        "\n",
        "|         | Predicted Fail           | Predicted No Fail  |\n",
        "| ------------- |------------| -----:|\n",
        "| **Actual Fail**      | 201 | 55 |\n",
        "| **Actual No Fail**   | 50 | 255195 |\n",
        "\n",
        "- Confusion matrix for the RNN:\n",
        "\n",
        "|         | Predicted Fail           | Predicted No Fail  |\n",
        "| ------------- |------------| -----:|\n",
        "| **Actual Fail**      | 226 | 30 |\n",
        "| **Actual No Fail**   | 1200 | 254045 |\n",
        "\n",
        "\n",
        "**Marking**\n",
        "\n",
        "- *Quality*. Response is well-justified and convincing.\n",
        "- *Style*. Response uses proper grammar, spelling, and punctuation. Response is clear and professional. Response is complete, but not overly-verbose. Response follows length guidelines.\n",
        "\n",
        "\n",
        "\n",
        "**Tips**\n",
        "\n",
        "- Figure out how much Uncle Steve is currently (i.e., without any predictive maintinance models) paying in maintenance costs.\n",
        "- Use the information provided above to create a cost matrix.\n",
        "- Use the cost matrix and the confusion matrices to determine the costs of each model.\n",
        "- The cost of an inspection is the same, no matter if the turbine is in good condition or is about to fail.\n",
        "- If the inspection determines that a turbine is about to fail, then it will be fixed right then and there for the additional fee.\n",
        "- For simplicity, assume the inspections are perfect: i.e., that inspecting a turbine will definitely catch any problems that might exist, and won't accidentally flag an otherwise-healthy turbine.\n",
        "\n"
      ]
    },
    {
      "cell_type": "markdown",
      "metadata": {
        "id": "nAf1SIeKTkfl"
      },
      "source": [
        "Answer- Based on the confusion matrices provided, the random forest model appears to be the better choice for Uncle Steve. This is because the random forest model has a higher precision, which means that it is more accurate in predicting when a turbine will fail.\n",
        "\n",
        "When a model predicts that a turbine will not fail, but it does actually fail, this is known as a false negative. If Uncle Steve does not order an inspection for a turbine based on a false negative prediction, he will incur a higher cost to repair the turbine when it fails.\n",
        "\n",
        "Based on the confusion matrices provided, the random forest model has a lower number of false negatives than the RNN model, which means that it is more likely to correctly predict when a turbine will fail. This makes the random forest model a better choice for Uncle Steve, as it will likely save him more money in repair costs.\n",
        "\n",
        "Cost Matrix (Random Forest):\n",
        "\n",
        "|         | Actual No Fail         | Actual Fail |\n",
        "| ------------- |------------| -----:|\n",
        "| **Predicted No Fail**      | 127597500 | 1127500 |\n",
        "| **Predicted Fail**   | 125000 | 502500 |\n",
        "\n",
        "\n",
        "\n",
        "Total Cost-  129352500\n",
        "\n",
        "\n",
        "\n",
        "Cost Matrix (RNN):\n",
        "\n",
        "\n",
        "|         | Actual No Fail         | Actual Fail |\n",
        "| ------------- |------------| -----:|\n",
        "| **Predicted No Fail**      | 127022500 | 615000 |\n",
        "| **Predicted Fail**   | 3000000 | 565000 |\n",
        "\n",
        "\n",
        "Total Cost-  131202500\n",
        "\n",
        "![image.png](data:image/png;base64,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)"
      ]
    }
  ]
}