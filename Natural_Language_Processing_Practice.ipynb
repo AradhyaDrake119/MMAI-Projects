{
  "nbformat": 4,
  "nbformat_minor": 0,
  "metadata": {
    "kernelspec": {
      "name": "python3",
      "display_name": "Python 3"
    },
    "colab": {
      "provenance": []
    },
    "accelerator": "GPU",
    "gpuClass": "standard",
    "widgets": {
      "application/vnd.jupyter.widget-state+json": {
        "24b46eb85511491aa9829c96dda1dbf2": {
          "model_module": "@jupyter-widgets/controls",
          "model_name": "HBoxModel",
          "model_module_version": "1.5.0",
          "state": {
            "_dom_classes": [],
            "_model_module": "@jupyter-widgets/controls",
            "_model_module_version": "1.5.0",
            "_model_name": "HBoxModel",
            "_view_count": null,
            "_view_module": "@jupyter-widgets/controls",
            "_view_module_version": "1.5.0",
            "_view_name": "HBoxView",
            "box_style": "",
            "children": [
              "IPY_MODEL_7dcaa634a35b45b59b8aaccf1a2fe749",
              "IPY_MODEL_4e1c352b022246e5b7017abbf1ed4c01",
              "IPY_MODEL_f475a880d1634df9957f093cab04b70e"
            ],
            "layout": "IPY_MODEL_ae6af241d36b43fca636567d7ac0e350"
          }
        },
        "7dcaa634a35b45b59b8aaccf1a2fe749": {
          "model_module": "@jupyter-widgets/controls",
          "model_name": "HTMLModel",
          "model_module_version": "1.5.0",
          "state": {
            "_dom_classes": [],
            "_model_module": "@jupyter-widgets/controls",
            "_model_module_version": "1.5.0",
            "_model_name": "HTMLModel",
            "_view_count": null,
            "_view_module": "@jupyter-widgets/controls",
            "_view_module_version": "1.5.0",
            "_view_name": "HTMLView",
            "description": "",
            "description_tooltip": null,
            "layout": "IPY_MODEL_f198e31647c14409a4181f5bc8069fb7",
            "placeholder": "​",
            "style": "IPY_MODEL_4981219ec7c0436ab85ee73eeca9b22f",
            "value": "Downloading (…)solve/main/vocab.txt: 100%"
          }
        },
        "4e1c352b022246e5b7017abbf1ed4c01": {
          "model_module": "@jupyter-widgets/controls",
          "model_name": "FloatProgressModel",
          "model_module_version": "1.5.0",
          "state": {
            "_dom_classes": [],
            "_model_module": "@jupyter-widgets/controls",
            "_model_module_version": "1.5.0",
            "_model_name": "FloatProgressModel",
            "_view_count": null,
            "_view_module": "@jupyter-widgets/controls",
            "_view_module_version": "1.5.0",
            "_view_name": "ProgressView",
            "bar_style": "success",
            "description": "",
            "description_tooltip": null,
            "layout": "IPY_MODEL_cd13a87ef4924f8eb6ad2c49c16ba255",
            "max": 231508,
            "min": 0,
            "orientation": "horizontal",
            "style": "IPY_MODEL_747cbeddd1fb4dbeaf08ebc7ce7e96e3",
            "value": 231508
          }
        },
        "f475a880d1634df9957f093cab04b70e": {
          "model_module": "@jupyter-widgets/controls",
          "model_name": "HTMLModel",
          "model_module_version": "1.5.0",
          "state": {
            "_dom_classes": [],
            "_model_module": "@jupyter-widgets/controls",
            "_model_module_version": "1.5.0",
            "_model_name": "HTMLModel",
            "_view_count": null,
            "_view_module": "@jupyter-widgets/controls",
            "_view_module_version": "1.5.0",
            "_view_name": "HTMLView",
            "description": "",
            "description_tooltip": null,
            "layout": "IPY_MODEL_086dc4559c44492bb8946bc89ec42b08",
            "placeholder": "​",
            "style": "IPY_MODEL_33237e3a620c4bbc9e6d22b220078acd",
            "value": " 232k/232k [00:00&lt;00:00, 4.91MB/s]"
          }
        },
        "ae6af241d36b43fca636567d7ac0e350": {
          "model_module": "@jupyter-widgets/base",
          "model_name": "LayoutModel",
          "model_module_version": "1.2.0",
          "state": {
            "_model_module": "@jupyter-widgets/base",
            "_model_module_version": "1.2.0",
            "_model_name": "LayoutModel",
            "_view_count": null,
            "_view_module": "@jupyter-widgets/base",
            "_view_module_version": "1.2.0",
            "_view_name": "LayoutView",
            "align_content": null,
            "align_items": null,
            "align_self": null,
            "border": null,
            "bottom": null,
            "display": null,
            "flex": null,
            "flex_flow": null,
            "grid_area": null,
            "grid_auto_columns": null,
            "grid_auto_flow": null,
            "grid_auto_rows": null,
            "grid_column": null,
            "grid_gap": null,
            "grid_row": null,
            "grid_template_areas": null,
            "grid_template_columns": null,
            "grid_template_rows": null,
            "height": null,
            "justify_content": null,
            "justify_items": null,
            "left": null,
            "margin": null,
            "max_height": null,
            "max_width": null,
            "min_height": null,
            "min_width": null,
            "object_fit": null,
            "object_position": null,
            "order": null,
            "overflow": null,
            "overflow_x": null,
            "overflow_y": null,
            "padding": null,
            "right": null,
            "top": null,
            "visibility": null,
            "width": null
          }
        },
        "f198e31647c14409a4181f5bc8069fb7": {
          "model_module": "@jupyter-widgets/base",
          "model_name": "LayoutModel",
          "model_module_version": "1.2.0",
          "state": {
            "_model_module": "@jupyter-widgets/base",
            "_model_module_version": "1.2.0",
            "_model_name": "LayoutModel",
            "_view_count": null,
            "_view_module": "@jupyter-widgets/base",
            "_view_module_version": "1.2.0",
            "_view_name": "LayoutView",
            "align_content": null,
            "align_items": null,
            "align_self": null,
            "border": null,
            "bottom": null,
            "display": null,
            "flex": null,
            "flex_flow": null,
            "grid_area": null,
            "grid_auto_columns": null,
            "grid_auto_flow": null,
            "grid_auto_rows": null,
            "grid_column": null,
            "grid_gap": null,
            "grid_row": null,
            "grid_template_areas": null,
            "grid_template_columns": null,
            "grid_template_rows": null,
            "height": null,
            "justify_content": null,
            "justify_items": null,
            "left": null,
            "margin": null,
            "max_height": null,
            "max_width": null,
            "min_height": null,
            "min_width": null,
            "object_fit": null,
            "object_position": null,
            "order": null,
            "overflow": null,
            "overflow_x": null,
            "overflow_y": null,
            "padding": null,
            "right": null,
            "top": null,
            "visibility": null,
            "width": null
          }
        },
        "4981219ec7c0436ab85ee73eeca9b22f": {
          "model_module": "@jupyter-widgets/controls",
          "model_name": "DescriptionStyleModel",
          "model_module_version": "1.5.0",
          "state": {
            "_model_module": "@jupyter-widgets/controls",
            "_model_module_version": "1.5.0",
            "_model_name": "DescriptionStyleModel",
            "_view_count": null,
            "_view_module": "@jupyter-widgets/base",
            "_view_module_version": "1.2.0",
            "_view_name": "StyleView",
            "description_width": ""
          }
        },
        "cd13a87ef4924f8eb6ad2c49c16ba255": {
          "model_module": "@jupyter-widgets/base",
          "model_name": "LayoutModel",
          "model_module_version": "1.2.0",
          "state": {
            "_model_module": "@jupyter-widgets/base",
            "_model_module_version": "1.2.0",
            "_model_name": "LayoutModel",
            "_view_count": null,
            "_view_module": "@jupyter-widgets/base",
            "_view_module_version": "1.2.0",
            "_view_name": "LayoutView",
            "align_content": null,
            "align_items": null,
            "align_self": null,
            "border": null,
            "bottom": null,
            "display": null,
            "flex": null,
            "flex_flow": null,
            "grid_area": null,
            "grid_auto_columns": null,
            "grid_auto_flow": null,
            "grid_auto_rows": null,
            "grid_column": null,
            "grid_gap": null,
            "grid_row": null,
            "grid_template_areas": null,
            "grid_template_columns": null,
            "grid_template_rows": null,
            "height": null,
            "justify_content": null,
            "justify_items": null,
            "left": null,
            "margin": null,
            "max_height": null,
            "max_width": null,
            "min_height": null,
            "min_width": null,
            "object_fit": null,
            "object_position": null,
            "order": null,
            "overflow": null,
            "overflow_x": null,
            "overflow_y": null,
            "padding": null,
            "right": null,
            "top": null,
            "visibility": null,
            "width": null
          }
        },
        "747cbeddd1fb4dbeaf08ebc7ce7e96e3": {
          "model_module": "@jupyter-widgets/controls",
          "model_name": "ProgressStyleModel",
          "model_module_version": "1.5.0",
          "state": {
            "_model_module": "@jupyter-widgets/controls",
            "_model_module_version": "1.5.0",
            "_model_name": "ProgressStyleModel",
            "_view_count": null,
            "_view_module": "@jupyter-widgets/base",
            "_view_module_version": "1.2.0",
            "_view_name": "StyleView",
            "bar_color": null,
            "description_width": ""
          }
        },
        "086dc4559c44492bb8946bc89ec42b08": {
          "model_module": "@jupyter-widgets/base",
          "model_name": "LayoutModel",
          "model_module_version": "1.2.0",
          "state": {
            "_model_module": "@jupyter-widgets/base",
            "_model_module_version": "1.2.0",
            "_model_name": "LayoutModel",
            "_view_count": null,
            "_view_module": "@jupyter-widgets/base",
            "_view_module_version": "1.2.0",
            "_view_name": "LayoutView",
            "align_content": null,
            "align_items": null,
            "align_self": null,
            "border": null,
            "bottom": null,
            "display": null,
            "flex": null,
            "flex_flow": null,
            "grid_area": null,
            "grid_auto_columns": null,
            "grid_auto_flow": null,
            "grid_auto_rows": null,
            "grid_column": null,
            "grid_gap": null,
            "grid_row": null,
            "grid_template_areas": null,
            "grid_template_columns": null,
            "grid_template_rows": null,
            "height": null,
            "justify_content": null,
            "justify_items": null,
            "left": null,
            "margin": null,
            "max_height": null,
            "max_width": null,
            "min_height": null,
            "min_width": null,
            "object_fit": null,
            "object_position": null,
            "order": null,
            "overflow": null,
            "overflow_x": null,
            "overflow_y": null,
            "padding": null,
            "right": null,
            "top": null,
            "visibility": null,
            "width": null
          }
        },
        "33237e3a620c4bbc9e6d22b220078acd": {
          "model_module": "@jupyter-widgets/controls",
          "model_name": "DescriptionStyleModel",
          "model_module_version": "1.5.0",
          "state": {
            "_model_module": "@jupyter-widgets/controls",
            "_model_module_version": "1.5.0",
            "_model_name": "DescriptionStyleModel",
            "_view_count": null,
            "_view_module": "@jupyter-widgets/base",
            "_view_module_version": "1.2.0",
            "_view_name": "StyleView",
            "description_width": ""
          }
        },
        "6045b698e44448e183e59207f8222dcb": {
          "model_module": "@jupyter-widgets/controls",
          "model_name": "HBoxModel",
          "model_module_version": "1.5.0",
          "state": {
            "_dom_classes": [],
            "_model_module": "@jupyter-widgets/controls",
            "_model_module_version": "1.5.0",
            "_model_name": "HBoxModel",
            "_view_count": null,
            "_view_module": "@jupyter-widgets/controls",
            "_view_module_version": "1.5.0",
            "_view_name": "HBoxView",
            "box_style": "",
            "children": [
              "IPY_MODEL_175e57500f8244ff8ace0b7956e1d631",
              "IPY_MODEL_6289589f11d5458ea2e245b8e4a888a4",
              "IPY_MODEL_0fa05dd251fb429caf5ca76ea581f13a"
            ],
            "layout": "IPY_MODEL_be1e2f06b88a4af9b02bc58750c003fd"
          }
        },
        "175e57500f8244ff8ace0b7956e1d631": {
          "model_module": "@jupyter-widgets/controls",
          "model_name": "HTMLModel",
          "model_module_version": "1.5.0",
          "state": {
            "_dom_classes": [],
            "_model_module": "@jupyter-widgets/controls",
            "_model_module_version": "1.5.0",
            "_model_name": "HTMLModel",
            "_view_count": null,
            "_view_module": "@jupyter-widgets/controls",
            "_view_module_version": "1.5.0",
            "_view_name": "HTMLView",
            "description": "",
            "description_tooltip": null,
            "layout": "IPY_MODEL_2f911bbd189b4f4b90d65a945a2852ba",
            "placeholder": "​",
            "style": "IPY_MODEL_c8479541f9674025be623445e52ac32b",
            "value": "Downloading (…)okenizer_config.json: 100%"
          }
        },
        "6289589f11d5458ea2e245b8e4a888a4": {
          "model_module": "@jupyter-widgets/controls",
          "model_name": "FloatProgressModel",
          "model_module_version": "1.5.0",
          "state": {
            "_dom_classes": [],
            "_model_module": "@jupyter-widgets/controls",
            "_model_module_version": "1.5.0",
            "_model_name": "FloatProgressModel",
            "_view_count": null,
            "_view_module": "@jupyter-widgets/controls",
            "_view_module_version": "1.5.0",
            "_view_name": "ProgressView",
            "bar_style": "success",
            "description": "",
            "description_tooltip": null,
            "layout": "IPY_MODEL_6b43f2a8b0ba41e6a9de87c4b5f7e661",
            "max": 28,
            "min": 0,
            "orientation": "horizontal",
            "style": "IPY_MODEL_25ee2b6c1bd248bdabf763a79ad62a12",
            "value": 28
          }
        },
        "0fa05dd251fb429caf5ca76ea581f13a": {
          "model_module": "@jupyter-widgets/controls",
          "model_name": "HTMLModel",
          "model_module_version": "1.5.0",
          "state": {
            "_dom_classes": [],
            "_model_module": "@jupyter-widgets/controls",
            "_model_module_version": "1.5.0",
            "_model_name": "HTMLModel",
            "_view_count": null,
            "_view_module": "@jupyter-widgets/controls",
            "_view_module_version": "1.5.0",
            "_view_name": "HTMLView",
            "description": "",
            "description_tooltip": null,
            "layout": "IPY_MODEL_3da497fea4c44a6fabf96cbb8e629a46",
            "placeholder": "​",
            "style": "IPY_MODEL_b9a294ad2e7142f194f5dbadd100e770",
            "value": " 28.0/28.0 [00:00&lt;00:00, 2.09kB/s]"
          }
        },
        "be1e2f06b88a4af9b02bc58750c003fd": {
          "model_module": "@jupyter-widgets/base",
          "model_name": "LayoutModel",
          "model_module_version": "1.2.0",
          "state": {
            "_model_module": "@jupyter-widgets/base",
            "_model_module_version": "1.2.0",
            "_model_name": "LayoutModel",
            "_view_count": null,
            "_view_module": "@jupyter-widgets/base",
            "_view_module_version": "1.2.0",
            "_view_name": "LayoutView",
            "align_content": null,
            "align_items": null,
            "align_self": null,
            "border": null,
            "bottom": null,
            "display": null,
            "flex": null,
            "flex_flow": null,
            "grid_area": null,
            "grid_auto_columns": null,
            "grid_auto_flow": null,
            "grid_auto_rows": null,
            "grid_column": null,
            "grid_gap": null,
            "grid_row": null,
            "grid_template_areas": null,
            "grid_template_columns": null,
            "grid_template_rows": null,
            "height": null,
            "justify_content": null,
            "justify_items": null,
            "left": null,
            "margin": null,
            "max_height": null,
            "max_width": null,
            "min_height": null,
            "min_width": null,
            "object_fit": null,
            "object_position": null,
            "order": null,
            "overflow": null,
            "overflow_x": null,
            "overflow_y": null,
            "padding": null,
            "right": null,
            "top": null,
            "visibility": null,
            "width": null
          }
        },
        "2f911bbd189b4f4b90d65a945a2852ba": {
          "model_module": "@jupyter-widgets/base",
          "model_name": "LayoutModel",
          "model_module_version": "1.2.0",
          "state": {
            "_model_module": "@jupyter-widgets/base",
            "_model_module_version": "1.2.0",
            "_model_name": "LayoutModel",
            "_view_count": null,
            "_view_module": "@jupyter-widgets/base",
            "_view_module_version": "1.2.0",
            "_view_name": "LayoutView",
            "align_content": null,
            "align_items": null,
            "align_self": null,
            "border": null,
            "bottom": null,
            "display": null,
            "flex": null,
            "flex_flow": null,
            "grid_area": null,
            "grid_auto_columns": null,
            "grid_auto_flow": null,
            "grid_auto_rows": null,
            "grid_column": null,
            "grid_gap": null,
            "grid_row": null,
            "grid_template_areas": null,
            "grid_template_columns": null,
            "grid_template_rows": null,
            "height": null,
            "justify_content": null,
            "justify_items": null,
            "left": null,
            "margin": null,
            "max_height": null,
            "max_width": null,
            "min_height": null,
            "min_width": null,
            "object_fit": null,
            "object_position": null,
            "order": null,
            "overflow": null,
            "overflow_x": null,
            "overflow_y": null,
            "padding": null,
            "right": null,
            "top": null,
            "visibility": null,
            "width": null
          }
        },
        "c8479541f9674025be623445e52ac32b": {
          "model_module": "@jupyter-widgets/controls",
          "model_name": "DescriptionStyleModel",
          "model_module_version": "1.5.0",
          "state": {
            "_model_module": "@jupyter-widgets/controls",
            "_model_module_version": "1.5.0",
            "_model_name": "DescriptionStyleModel",
            "_view_count": null,
            "_view_module": "@jupyter-widgets/base",
            "_view_module_version": "1.2.0",
            "_view_name": "StyleView",
            "description_width": ""
          }
        },
        "6b43f2a8b0ba41e6a9de87c4b5f7e661": {
          "model_module": "@jupyter-widgets/base",
          "model_name": "LayoutModel",
          "model_module_version": "1.2.0",
          "state": {
            "_model_module": "@jupyter-widgets/base",
            "_model_module_version": "1.2.0",
            "_model_name": "LayoutModel",
            "_view_count": null,
            "_view_module": "@jupyter-widgets/base",
            "_view_module_version": "1.2.0",
            "_view_name": "LayoutView",
            "align_content": null,
            "align_items": null,
            "align_self": null,
            "border": null,
            "bottom": null,
            "display": null,
            "flex": null,
            "flex_flow": null,
            "grid_area": null,
            "grid_auto_columns": null,
            "grid_auto_flow": null,
            "grid_auto_rows": null,
            "grid_column": null,
            "grid_gap": null,
            "grid_row": null,
            "grid_template_areas": null,
            "grid_template_columns": null,
            "grid_template_rows": null,
            "height": null,
            "justify_content": null,
            "justify_items": null,
            "left": null,
            "margin": null,
            "max_height": null,
            "max_width": null,
            "min_height": null,
            "min_width": null,
            "object_fit": null,
            "object_position": null,
            "order": null,
            "overflow": null,
            "overflow_x": null,
            "overflow_y": null,
            "padding": null,
            "right": null,
            "top": null,
            "visibility": null,
            "width": null
          }
        },
        "25ee2b6c1bd248bdabf763a79ad62a12": {
          "model_module": "@jupyter-widgets/controls",
          "model_name": "ProgressStyleModel",
          "model_module_version": "1.5.0",
          "state": {
            "_model_module": "@jupyter-widgets/controls",
            "_model_module_version": "1.5.0",
            "_model_name": "ProgressStyleModel",
            "_view_count": null,
            "_view_module": "@jupyter-widgets/base",
            "_view_module_version": "1.2.0",
            "_view_name": "StyleView",
            "bar_color": null,
            "description_width": ""
          }
        },
        "3da497fea4c44a6fabf96cbb8e629a46": {
          "model_module": "@jupyter-widgets/base",
          "model_name": "LayoutModel",
          "model_module_version": "1.2.0",
          "state": {
            "_model_module": "@jupyter-widgets/base",
            "_model_module_version": "1.2.0",
            "_model_name": "LayoutModel",
            "_view_count": null,
            "_view_module": "@jupyter-widgets/base",
            "_view_module_version": "1.2.0",
            "_view_name": "LayoutView",
            "align_content": null,
            "align_items": null,
            "align_self": null,
            "border": null,
            "bottom": null,
            "display": null,
            "flex": null,
            "flex_flow": null,
            "grid_area": null,
            "grid_auto_columns": null,
            "grid_auto_flow": null,
            "grid_auto_rows": null,
            "grid_column": null,
            "grid_gap": null,
            "grid_row": null,
            "grid_template_areas": null,
            "grid_template_columns": null,
            "grid_template_rows": null,
            "height": null,
            "justify_content": null,
            "justify_items": null,
            "left": null,
            "margin": null,
            "max_height": null,
            "max_width": null,
            "min_height": null,
            "min_width": null,
            "object_fit": null,
            "object_position": null,
            "order": null,
            "overflow": null,
            "overflow_x": null,
            "overflow_y": null,
            "padding": null,
            "right": null,
            "top": null,
            "visibility": null,
            "width": null
          }
        },
        "b9a294ad2e7142f194f5dbadd100e770": {
          "model_module": "@jupyter-widgets/controls",
          "model_name": "DescriptionStyleModel",
          "model_module_version": "1.5.0",
          "state": {
            "_model_module": "@jupyter-widgets/controls",
            "_model_module_version": "1.5.0",
            "_model_name": "DescriptionStyleModel",
            "_view_count": null,
            "_view_module": "@jupyter-widgets/base",
            "_view_module_version": "1.2.0",
            "_view_name": "StyleView",
            "description_width": ""
          }
        },
        "e44a8ffeffa84d21957a54e94e35c4b3": {
          "model_module": "@jupyter-widgets/controls",
          "model_name": "HBoxModel",
          "model_module_version": "1.5.0",
          "state": {
            "_dom_classes": [],
            "_model_module": "@jupyter-widgets/controls",
            "_model_module_version": "1.5.0",
            "_model_name": "HBoxModel",
            "_view_count": null,
            "_view_module": "@jupyter-widgets/controls",
            "_view_module_version": "1.5.0",
            "_view_name": "HBoxView",
            "box_style": "",
            "children": [
              "IPY_MODEL_da1d17bacdf9421fa9c1ec72d64b2572",
              "IPY_MODEL_f54c1dd3d1084142a81ff479a1adb190",
              "IPY_MODEL_35f4abafa6b146e591c13a232370798b"
            ],
            "layout": "IPY_MODEL_8c3adc0c79244c288a858e4aeaf17237"
          }
        },
        "da1d17bacdf9421fa9c1ec72d64b2572": {
          "model_module": "@jupyter-widgets/controls",
          "model_name": "HTMLModel",
          "model_module_version": "1.5.0",
          "state": {
            "_dom_classes": [],
            "_model_module": "@jupyter-widgets/controls",
            "_model_module_version": "1.5.0",
            "_model_name": "HTMLModel",
            "_view_count": null,
            "_view_module": "@jupyter-widgets/controls",
            "_view_module_version": "1.5.0",
            "_view_name": "HTMLView",
            "description": "",
            "description_tooltip": null,
            "layout": "IPY_MODEL_20c0b92fbd1f493ca5aa01f8a3363176",
            "placeholder": "​",
            "style": "IPY_MODEL_41ac833e13a24e62898bd0f4c66a43e3",
            "value": "Downloading (…)lve/main/config.json: 100%"
          }
        },
        "f54c1dd3d1084142a81ff479a1adb190": {
          "model_module": "@jupyter-widgets/controls",
          "model_name": "FloatProgressModel",
          "model_module_version": "1.5.0",
          "state": {
            "_dom_classes": [],
            "_model_module": "@jupyter-widgets/controls",
            "_model_module_version": "1.5.0",
            "_model_name": "FloatProgressModel",
            "_view_count": null,
            "_view_module": "@jupyter-widgets/controls",
            "_view_module_version": "1.5.0",
            "_view_name": "ProgressView",
            "bar_style": "success",
            "description": "",
            "description_tooltip": null,
            "layout": "IPY_MODEL_e38ca0f46a3c4b4287d245a311676948",
            "max": 483,
            "min": 0,
            "orientation": "horizontal",
            "style": "IPY_MODEL_136583ea19364c299493f3df4d375476",
            "value": 483
          }
        },
        "35f4abafa6b146e591c13a232370798b": {
          "model_module": "@jupyter-widgets/controls",
          "model_name": "HTMLModel",
          "model_module_version": "1.5.0",
          "state": {
            "_dom_classes": [],
            "_model_module": "@jupyter-widgets/controls",
            "_model_module_version": "1.5.0",
            "_model_name": "HTMLModel",
            "_view_count": null,
            "_view_module": "@jupyter-widgets/controls",
            "_view_module_version": "1.5.0",
            "_view_name": "HTMLView",
            "description": "",
            "description_tooltip": null,
            "layout": "IPY_MODEL_4ad8b2ad08b34337b20c7ccfc7f26875",
            "placeholder": "​",
            "style": "IPY_MODEL_c5b086e98f26419ba998b0516d5a054c",
            "value": " 483/483 [00:00&lt;00:00, 33.1kB/s]"
          }
        },
        "8c3adc0c79244c288a858e4aeaf17237": {
          "model_module": "@jupyter-widgets/base",
          "model_name": "LayoutModel",
          "model_module_version": "1.2.0",
          "state": {
            "_model_module": "@jupyter-widgets/base",
            "_model_module_version": "1.2.0",
            "_model_name": "LayoutModel",
            "_view_count": null,
            "_view_module": "@jupyter-widgets/base",
            "_view_module_version": "1.2.0",
            "_view_name": "LayoutView",
            "align_content": null,
            "align_items": null,
            "align_self": null,
            "border": null,
            "bottom": null,
            "display": null,
            "flex": null,
            "flex_flow": null,
            "grid_area": null,
            "grid_auto_columns": null,
            "grid_auto_flow": null,
            "grid_auto_rows": null,
            "grid_column": null,
            "grid_gap": null,
            "grid_row": null,
            "grid_template_areas": null,
            "grid_template_columns": null,
            "grid_template_rows": null,
            "height": null,
            "justify_content": null,
            "justify_items": null,
            "left": null,
            "margin": null,
            "max_height": null,
            "max_width": null,
            "min_height": null,
            "min_width": null,
            "object_fit": null,
            "object_position": null,
            "order": null,
            "overflow": null,
            "overflow_x": null,
            "overflow_y": null,
            "padding": null,
            "right": null,
            "top": null,
            "visibility": null,
            "width": null
          }
        },
        "20c0b92fbd1f493ca5aa01f8a3363176": {
          "model_module": "@jupyter-widgets/base",
          "model_name": "LayoutModel",
          "model_module_version": "1.2.0",
          "state": {
            "_model_module": "@jupyter-widgets/base",
            "_model_module_version": "1.2.0",
            "_model_name": "LayoutModel",
            "_view_count": null,
            "_view_module": "@jupyter-widgets/base",
            "_view_module_version": "1.2.0",
            "_view_name": "LayoutView",
            "align_content": null,
            "align_items": null,
            "align_self": null,
            "border": null,
            "bottom": null,
            "display": null,
            "flex": null,
            "flex_flow": null,
            "grid_area": null,
            "grid_auto_columns": null,
            "grid_auto_flow": null,
            "grid_auto_rows": null,
            "grid_column": null,
            "grid_gap": null,
            "grid_row": null,
            "grid_template_areas": null,
            "grid_template_columns": null,
            "grid_template_rows": null,
            "height": null,
            "justify_content": null,
            "justify_items": null,
            "left": null,
            "margin": null,
            "max_height": null,
            "max_width": null,
            "min_height": null,
            "min_width": null,
            "object_fit": null,
            "object_position": null,
            "order": null,
            "overflow": null,
            "overflow_x": null,
            "overflow_y": null,
            "padding": null,
            "right": null,
            "top": null,
            "visibility": null,
            "width": null
          }
        },
        "41ac833e13a24e62898bd0f4c66a43e3": {
          "model_module": "@jupyter-widgets/controls",
          "model_name": "DescriptionStyleModel",
          "model_module_version": "1.5.0",
          "state": {
            "_model_module": "@jupyter-widgets/controls",
            "_model_module_version": "1.5.0",
            "_model_name": "DescriptionStyleModel",
            "_view_count": null,
            "_view_module": "@jupyter-widgets/base",
            "_view_module_version": "1.2.0",
            "_view_name": "StyleView",
            "description_width": ""
          }
        },
        "e38ca0f46a3c4b4287d245a311676948": {
          "model_module": "@jupyter-widgets/base",
          "model_name": "LayoutModel",
          "model_module_version": "1.2.0",
          "state": {
            "_model_module": "@jupyter-widgets/base",
            "_model_module_version": "1.2.0",
            "_model_name": "LayoutModel",
            "_view_count": null,
            "_view_module": "@jupyter-widgets/base",
            "_view_module_version": "1.2.0",
            "_view_name": "LayoutView",
            "align_content": null,
            "align_items": null,
            "align_self": null,
            "border": null,
            "bottom": null,
            "display": null,
            "flex": null,
            "flex_flow": null,
            "grid_area": null,
            "grid_auto_columns": null,
            "grid_auto_flow": null,
            "grid_auto_rows": null,
            "grid_column": null,
            "grid_gap": null,
            "grid_row": null,
            "grid_template_areas": null,
            "grid_template_columns": null,
            "grid_template_rows": null,
            "height": null,
            "justify_content": null,
            "justify_items": null,
            "left": null,
            "margin": null,
            "max_height": null,
            "max_width": null,
            "min_height": null,
            "min_width": null,
            "object_fit": null,
            "object_position": null,
            "order": null,
            "overflow": null,
            "overflow_x": null,
            "overflow_y": null,
            "padding": null,
            "right": null,
            "top": null,
            "visibility": null,
            "width": null
          }
        },
        "136583ea19364c299493f3df4d375476": {
          "model_module": "@jupyter-widgets/controls",
          "model_name": "ProgressStyleModel",
          "model_module_version": "1.5.0",
          "state": {
            "_model_module": "@jupyter-widgets/controls",
            "_model_module_version": "1.5.0",
            "_model_name": "ProgressStyleModel",
            "_view_count": null,
            "_view_module": "@jupyter-widgets/base",
            "_view_module_version": "1.2.0",
            "_view_name": "StyleView",
            "bar_color": null,
            "description_width": ""
          }
        },
        "4ad8b2ad08b34337b20c7ccfc7f26875": {
          "model_module": "@jupyter-widgets/base",
          "model_name": "LayoutModel",
          "model_module_version": "1.2.0",
          "state": {
            "_model_module": "@jupyter-widgets/base",
            "_model_module_version": "1.2.0",
            "_model_name": "LayoutModel",
            "_view_count": null,
            "_view_module": "@jupyter-widgets/base",
            "_view_module_version": "1.2.0",
            "_view_name": "LayoutView",
            "align_content": null,
            "align_items": null,
            "align_self": null,
            "border": null,
            "bottom": null,
            "display": null,
            "flex": null,
            "flex_flow": null,
            "grid_area": null,
            "grid_auto_columns": null,
            "grid_auto_flow": null,
            "grid_auto_rows": null,
            "grid_column": null,
            "grid_gap": null,
            "grid_row": null,
            "grid_template_areas": null,
            "grid_template_columns": null,
            "grid_template_rows": null,
            "height": null,
            "justify_content": null,
            "justify_items": null,
            "left": null,
            "margin": null,
            "max_height": null,
            "max_width": null,
            "min_height": null,
            "min_width": null,
            "object_fit": null,
            "object_position": null,
            "order": null,
            "overflow": null,
            "overflow_x": null,
            "overflow_y": null,
            "padding": null,
            "right": null,
            "top": null,
            "visibility": null,
            "width": null
          }
        },
        "c5b086e98f26419ba998b0516d5a054c": {
          "model_module": "@jupyter-widgets/controls",
          "model_name": "DescriptionStyleModel",
          "model_module_version": "1.5.0",
          "state": {
            "_model_module": "@jupyter-widgets/controls",
            "_model_module_version": "1.5.0",
            "_model_name": "DescriptionStyleModel",
            "_view_count": null,
            "_view_module": "@jupyter-widgets/base",
            "_view_module_version": "1.2.0",
            "_view_name": "StyleView",
            "description_width": ""
          }
        },
        "6e8e011775dd4e71a43f4be9ea07ffbf": {
          "model_module": "@jupyter-widgets/controls",
          "model_name": "HBoxModel",
          "model_module_version": "1.5.0",
          "state": {
            "_dom_classes": [],
            "_model_module": "@jupyter-widgets/controls",
            "_model_module_version": "1.5.0",
            "_model_name": "HBoxModel",
            "_view_count": null,
            "_view_module": "@jupyter-widgets/controls",
            "_view_module_version": "1.5.0",
            "_view_name": "HBoxView",
            "box_style": "",
            "children": [
              "IPY_MODEL_19caaf111a204b8a85c885ef3919cac8",
              "IPY_MODEL_c1d0c4b1b6fc4a4988f558e87a0edc93",
              "IPY_MODEL_652471b1371749b188edfecfa4ccc969"
            ],
            "layout": "IPY_MODEL_f2010c6fa9864f92b372daa75a0745c3"
          }
        },
        "19caaf111a204b8a85c885ef3919cac8": {
          "model_module": "@jupyter-widgets/controls",
          "model_name": "HTMLModel",
          "model_module_version": "1.5.0",
          "state": {
            "_dom_classes": [],
            "_model_module": "@jupyter-widgets/controls",
            "_model_module_version": "1.5.0",
            "_model_name": "HTMLModel",
            "_view_count": null,
            "_view_module": "@jupyter-widgets/controls",
            "_view_module_version": "1.5.0",
            "_view_name": "HTMLView",
            "description": "",
            "description_tooltip": null,
            "layout": "IPY_MODEL_88d7601554cc4261b2aab7a295685d08",
            "placeholder": "​",
            "style": "IPY_MODEL_75fd27527bb3497c9ee2b5e4f6d24df0",
            "value": "Downloading tf_model.h5: 100%"
          }
        },
        "c1d0c4b1b6fc4a4988f558e87a0edc93": {
          "model_module": "@jupyter-widgets/controls",
          "model_name": "FloatProgressModel",
          "model_module_version": "1.5.0",
          "state": {
            "_dom_classes": [],
            "_model_module": "@jupyter-widgets/controls",
            "_model_module_version": "1.5.0",
            "_model_name": "FloatProgressModel",
            "_view_count": null,
            "_view_module": "@jupyter-widgets/controls",
            "_view_module_version": "1.5.0",
            "_view_name": "ProgressView",
            "bar_style": "success",
            "description": "",
            "description_tooltip": null,
            "layout": "IPY_MODEL_cd1baee11ca8415c87aebfba16bd5593",
            "max": 363423424,
            "min": 0,
            "orientation": "horizontal",
            "style": "IPY_MODEL_a29beb2b3781466595403ae56661335c",
            "value": 363423424
          }
        },
        "652471b1371749b188edfecfa4ccc969": {
          "model_module": "@jupyter-widgets/controls",
          "model_name": "HTMLModel",
          "model_module_version": "1.5.0",
          "state": {
            "_dom_classes": [],
            "_model_module": "@jupyter-widgets/controls",
            "_model_module_version": "1.5.0",
            "_model_name": "HTMLModel",
            "_view_count": null,
            "_view_module": "@jupyter-widgets/controls",
            "_view_module_version": "1.5.0",
            "_view_name": "HTMLView",
            "description": "",
            "description_tooltip": null,
            "layout": "IPY_MODEL_19d22edf08f249539ab5290d05938df8",
            "placeholder": "​",
            "style": "IPY_MODEL_430ee869e1c740e1870b428a86352684",
            "value": " 363M/363M [00:05&lt;00:00, 70.5MB/s]"
          }
        },
        "f2010c6fa9864f92b372daa75a0745c3": {
          "model_module": "@jupyter-widgets/base",
          "model_name": "LayoutModel",
          "model_module_version": "1.2.0",
          "state": {
            "_model_module": "@jupyter-widgets/base",
            "_model_module_version": "1.2.0",
            "_model_name": "LayoutModel",
            "_view_count": null,
            "_view_module": "@jupyter-widgets/base",
            "_view_module_version": "1.2.0",
            "_view_name": "LayoutView",
            "align_content": null,
            "align_items": null,
            "align_self": null,
            "border": null,
            "bottom": null,
            "display": null,
            "flex": null,
            "flex_flow": null,
            "grid_area": null,
            "grid_auto_columns": null,
            "grid_auto_flow": null,
            "grid_auto_rows": null,
            "grid_column": null,
            "grid_gap": null,
            "grid_row": null,
            "grid_template_areas": null,
            "grid_template_columns": null,
            "grid_template_rows": null,
            "height": null,
            "justify_content": null,
            "justify_items": null,
            "left": null,
            "margin": null,
            "max_height": null,
            "max_width": null,
            "min_height": null,
            "min_width": null,
            "object_fit": null,
            "object_position": null,
            "order": null,
            "overflow": null,
            "overflow_x": null,
            "overflow_y": null,
            "padding": null,
            "right": null,
            "top": null,
            "visibility": null,
            "width": null
          }
        },
        "88d7601554cc4261b2aab7a295685d08": {
          "model_module": "@jupyter-widgets/base",
          "model_name": "LayoutModel",
          "model_module_version": "1.2.0",
          "state": {
            "_model_module": "@jupyter-widgets/base",
            "_model_module_version": "1.2.0",
            "_model_name": "LayoutModel",
            "_view_count": null,
            "_view_module": "@jupyter-widgets/base",
            "_view_module_version": "1.2.0",
            "_view_name": "LayoutView",
            "align_content": null,
            "align_items": null,
            "align_self": null,
            "border": null,
            "bottom": null,
            "display": null,
            "flex": null,
            "flex_flow": null,
            "grid_area": null,
            "grid_auto_columns": null,
            "grid_auto_flow": null,
            "grid_auto_rows": null,
            "grid_column": null,
            "grid_gap": null,
            "grid_row": null,
            "grid_template_areas": null,
            "grid_template_columns": null,
            "grid_template_rows": null,
            "height": null,
            "justify_content": null,
            "justify_items": null,
            "left": null,
            "margin": null,
            "max_height": null,
            "max_width": null,
            "min_height": null,
            "min_width": null,
            "object_fit": null,
            "object_position": null,
            "order": null,
            "overflow": null,
            "overflow_x": null,
            "overflow_y": null,
            "padding": null,
            "right": null,
            "top": null,
            "visibility": null,
            "width": null
          }
        },
        "75fd27527bb3497c9ee2b5e4f6d24df0": {
          "model_module": "@jupyter-widgets/controls",
          "model_name": "DescriptionStyleModel",
          "model_module_version": "1.5.0",
          "state": {
            "_model_module": "@jupyter-widgets/controls",
            "_model_module_version": "1.5.0",
            "_model_name": "DescriptionStyleModel",
            "_view_count": null,
            "_view_module": "@jupyter-widgets/base",
            "_view_module_version": "1.2.0",
            "_view_name": "StyleView",
            "description_width": ""
          }
        },
        "cd1baee11ca8415c87aebfba16bd5593": {
          "model_module": "@jupyter-widgets/base",
          "model_name": "LayoutModel",
          "model_module_version": "1.2.0",
          "state": {
            "_model_module": "@jupyter-widgets/base",
            "_model_module_version": "1.2.0",
            "_model_name": "LayoutModel",
            "_view_count": null,
            "_view_module": "@jupyter-widgets/base",
            "_view_module_version": "1.2.0",
            "_view_name": "LayoutView",
            "align_content": null,
            "align_items": null,
            "align_self": null,
            "border": null,
            "bottom": null,
            "display": null,
            "flex": null,
            "flex_flow": null,
            "grid_area": null,
            "grid_auto_columns": null,
            "grid_auto_flow": null,
            "grid_auto_rows": null,
            "grid_column": null,
            "grid_gap": null,
            "grid_row": null,
            "grid_template_areas": null,
            "grid_template_columns": null,
            "grid_template_rows": null,
            "height": null,
            "justify_content": null,
            "justify_items": null,
            "left": null,
            "margin": null,
            "max_height": null,
            "max_width": null,
            "min_height": null,
            "min_width": null,
            "object_fit": null,
            "object_position": null,
            "order": null,
            "overflow": null,
            "overflow_x": null,
            "overflow_y": null,
            "padding": null,
            "right": null,
            "top": null,
            "visibility": null,
            "width": null
          }
        },
        "a29beb2b3781466595403ae56661335c": {
          "model_module": "@jupyter-widgets/controls",
          "model_name": "ProgressStyleModel",
          "model_module_version": "1.5.0",
          "state": {
            "_model_module": "@jupyter-widgets/controls",
            "_model_module_version": "1.5.0",
            "_model_name": "ProgressStyleModel",
            "_view_count": null,
            "_view_module": "@jupyter-widgets/base",
            "_view_module_version": "1.2.0",
            "_view_name": "StyleView",
            "bar_color": null,
            "description_width": ""
          }
        },
        "19d22edf08f249539ab5290d05938df8": {
          "model_module": "@jupyter-widgets/base",
          "model_name": "LayoutModel",
          "model_module_version": "1.2.0",
          "state": {
            "_model_module": "@jupyter-widgets/base",
            "_model_module_version": "1.2.0",
            "_model_name": "LayoutModel",
            "_view_count": null,
            "_view_module": "@jupyter-widgets/base",
            "_view_module_version": "1.2.0",
            "_view_name": "LayoutView",
            "align_content": null,
            "align_items": null,
            "align_self": null,
            "border": null,
            "bottom": null,
            "display": null,
            "flex": null,
            "flex_flow": null,
            "grid_area": null,
            "grid_auto_columns": null,
            "grid_auto_flow": null,
            "grid_auto_rows": null,
            "grid_column": null,
            "grid_gap": null,
            "grid_row": null,
            "grid_template_areas": null,
            "grid_template_columns": null,
            "grid_template_rows": null,
            "height": null,
            "justify_content": null,
            "justify_items": null,
            "left": null,
            "margin": null,
            "max_height": null,
            "max_width": null,
            "min_height": null,
            "min_width": null,
            "object_fit": null,
            "object_position": null,
            "order": null,
            "overflow": null,
            "overflow_x": null,
            "overflow_y": null,
            "padding": null,
            "right": null,
            "top": null,
            "visibility": null,
            "width": null
          }
        },
        "430ee869e1c740e1870b428a86352684": {
          "model_module": "@jupyter-widgets/controls",
          "model_name": "DescriptionStyleModel",
          "model_module_version": "1.5.0",
          "state": {
            "_model_module": "@jupyter-widgets/controls",
            "_model_module_version": "1.5.0",
            "_model_name": "DescriptionStyleModel",
            "_view_count": null,
            "_view_module": "@jupyter-widgets/base",
            "_view_module_version": "1.2.0",
            "_view_name": "StyleView",
            "description_width": ""
          }
        }
      }
    }
  },
  "cells": [
    {
      "cell_type": "markdown",
      "metadata": {
        "id": "HKmorPdno_n_"
      },
      "source": [
        "# MMAI 891: Individual Assignment\n",
        "\n",
        "Version 1: Updated February 28, 2023\n",
        "\n",
        "<font color='red'>\\# TODO: fill in the below</font>\n",
        "\n",
        "- [Aradhya, Gaur]\n",
        "- [20320417]\n",
        "- [1]\n",
        "- [The Alchemist by Paulo Coelho]\n",
        "- [27th April, 2023]"
      ]
    },
    {
      "cell_type": "markdown",
      "metadata": {
        "id": "emfFtv4aHBI1"
      },
      "source": [
        "# Assignment Instructions\n",
        "\n",
        "This assignment contains two (2) questions and one (1) optional question for bonus marks. The questions and parts are wholly contained in this Google Colab Notebook.\n",
        "\n",
        "You are to make a copy of this Notebook and edit the copy to provide your answers/solutions. You are to complete the assignment entirely within Google Colab. Why?\n",
        "\n",
        "- It gives you practice using cloud-based interactive notebook environments (which is a popular workflow)\n",
        "- It is easier for you to manage the environment (e.g., installing packages, etc.)\n",
        "- Google Colab has nice, beefy machines, so you don't have to worry about running out of memory on your local computer.\n",
        "- It will be easier for the TA to help you debug your code if you need help\n",
        "- It will be easier for the TA to mark/run your code\n",
        "\n",
        "## Questions\n",
        "\n",
        "Each question has multiple tasks. There are two types of tasks: tasks that require you to write code and tasks that require you to write text responses.\n",
        "\n",
        "For tasks that require **code**:\n",
        "- Use Python to complete the task.\n",
        "- You may use standard Python libraries, including scikit-learn, pandas,  numpy, transformers, and simpletransformers.\n",
        "- Tips:\n",
        "  - Submit code that runs without errors.\n",
        "  - Submit code that is reproducible. E.g., set random number seeds as appropriate. You should be able to run your code again and again and again, from the top of the file to the bottom of the file, and get the exact same results each time. I should be able to run your code, from scratch, again and again, and get the exact same results that you get.\n",
        "  - Submit code that is organized. Make your code readable. Provide comments to describe what the code is doing and why. Don’t leave “old” code lying around. Overall, if your code is clear and easy to read, then we will be happy. When we are happy, we give better marks.\n",
        "\n",
        "For tasks that require **text responses**:\n",
        "- Type your response in Notebook cell indicated.\n",
        "- Use English. Use proper grammar, spelling, and punctuation. Be professional and clear. Be complete, but not overly verbose.\n",
        "- Feel free to use [Markdown syntax](https://www.markdownguide.org/basic-syntax/) to format your answer (i.e., add bold, italics, lists, tables).\n",
        "- You may refer to your code in your answer. Please do so very clearly. E.g., “As can be seen in on line X above …“\n",
        "\n",
        "\n",
        "## What to Submit to the Course Portal\n",
        "\n",
        "- You are to export your completed Notebook as a PDF file by clicking File->Print->Save as PDF.\n",
        "- Please do not submit the Notebook (.ipynb) file to the course portal.\n",
        "- Please submit the PDF export of the Notebook.\n",
        "   - Please name the PDF file 23_891_FirstnameLastName.pdf\n",
        "      - E.g., *23_891_StephenThomas.pdf*\n",
        "   - Please make sure you have run all the cells so we can see the output!\n",
        "   - Best practice: Before exporting to PDF, click Runtime->Restart and run all.\n",
        "\n"
      ]
    },
    {
      "cell_type": "markdown",
      "metadata": {
        "id": "oZFTCX4DqmRO"
      },
      "source": [
        "# Preliminaries: Inspect and Set up environment"
      ]
    },
    {
      "cell_type": "code",
      "metadata": {
        "id": "xj34Jz-Do_oK"
      },
      "source": [
        "import datetime\n",
        "import pandas as pd\n",
        "import numpy as np"
      ],
      "execution_count": null,
      "outputs": []
    },
    {
      "cell_type": "code",
      "metadata": {
        "id": "mqQ_XOKyXTS6",
        "colab": {
          "base_uri": "https://localhost:8080/"
        },
        "outputId": "a523b5ae-5348-491e-87c3-27ea710b224e"
      },
      "source": [
        "print(datetime.datetime.now())"
      ],
      "execution_count": null,
      "outputs": [
        {
          "output_type": "stream",
          "name": "stdout",
          "text": [
            "2023-05-01 03:35:37.151759\n"
          ]
        }
      ]
    },
    {
      "cell_type": "code",
      "metadata": {
        "colab": {
          "base_uri": "https://localhost:8080/"
        },
        "id": "LfOMt1lErLhZ",
        "outputId": "229f843a-a711-4e32-94fd-7c9cea42def6"
      },
      "source": [
        "!which python"
      ],
      "execution_count": null,
      "outputs": [
        {
          "output_type": "stream",
          "name": "stdout",
          "text": [
            "/usr/local/bin/python\n"
          ]
        }
      ]
    },
    {
      "cell_type": "code",
      "metadata": {
        "colab": {
          "base_uri": "https://localhost:8080/"
        },
        "id": "aub2w1-arM5K",
        "outputId": "6c222bba-ca90-4821-cdc3-407439c01fb7"
      },
      "source": [
        "!python --version"
      ],
      "execution_count": null,
      "outputs": [
        {
          "output_type": "stream",
          "name": "stdout",
          "text": [
            "Python 3.10.11\n"
          ]
        }
      ]
    },
    {
      "cell_type": "code",
      "metadata": {
        "colab": {
          "base_uri": "https://localhost:8080/"
        },
        "id": "E9Y_n_8UrO9i",
        "outputId": "ffb10363-ebc9-4c4b-923c-fa704b54f010"
      },
      "source": [
        "!echo $PYTHONPATH"
      ],
      "execution_count": null,
      "outputs": [
        {
          "output_type": "stream",
          "name": "stdout",
          "text": [
            "/env/python\n"
          ]
        }
      ]
    },
    {
      "cell_type": "code",
      "metadata": {
        "id": "-qyD7Jl0Gw1E",
        "colab": {
          "base_uri": "https://localhost:8080/"
        },
        "outputId": "79aedd15-0d0c-438a-be50-06da16f42e3b"
      },
      "source": [
        "# TODO: install any packages you need to here. For example:\n",
        "#pip install unidecode\n",
        "!pip install transformers"
      ],
      "execution_count": null,
      "outputs": [
        {
          "output_type": "stream",
          "name": "stdout",
          "text": [
            "Looking in indexes: https://pypi.org/simple, https://us-python.pkg.dev/colab-wheels/public/simple/\n",
            "Collecting transformers\n",
            "  Downloading transformers-4.28.1-py3-none-any.whl (7.0 MB)\n",
            "\u001b[2K     \u001b[90m━━━━━━━━━━━━━━━━━━━━━━━━━━━━━━━━━━━━━━━━\u001b[0m \u001b[32m7.0/7.0 MB\u001b[0m \u001b[31m35.6 MB/s\u001b[0m eta \u001b[36m0:00:00\u001b[0m\n",
            "\u001b[?25hRequirement already satisfied: numpy>=1.17 in /usr/local/lib/python3.10/dist-packages (from transformers) (1.22.4)\n",
            "Requirement already satisfied: pyyaml>=5.1 in /usr/local/lib/python3.10/dist-packages (from transformers) (6.0)\n",
            "Requirement already satisfied: filelock in /usr/local/lib/python3.10/dist-packages (from transformers) (3.12.0)\n",
            "Requirement already satisfied: packaging>=20.0 in /usr/local/lib/python3.10/dist-packages (from transformers) (23.1)\n",
            "Requirement already satisfied: regex!=2019.12.17 in /usr/local/lib/python3.10/dist-packages (from transformers) (2022.10.31)\n",
            "Requirement already satisfied: requests in /usr/local/lib/python3.10/dist-packages (from transformers) (2.27.1)\n",
            "Collecting huggingface-hub<1.0,>=0.11.0\n",
            "  Downloading huggingface_hub-0.14.1-py3-none-any.whl (224 kB)\n",
            "\u001b[2K     \u001b[90m━━━━━━━━━━━━━━━━━━━━━━━━━━━━━━━━━━━━━━\u001b[0m \u001b[32m224.5/224.5 kB\u001b[0m \u001b[31m18.8 MB/s\u001b[0m eta \u001b[36m0:00:00\u001b[0m\n",
            "\u001b[?25hCollecting tokenizers!=0.11.3,<0.14,>=0.11.1\n",
            "  Downloading tokenizers-0.13.3-cp310-cp310-manylinux_2_17_x86_64.manylinux2014_x86_64.whl (7.8 MB)\n",
            "\u001b[2K     \u001b[90m━━━━━━━━━━━━━━━━━━━━━━━━━━━━━━━━━━━━━━━━\u001b[0m \u001b[32m7.8/7.8 MB\u001b[0m \u001b[31m59.7 MB/s\u001b[0m eta \u001b[36m0:00:00\u001b[0m\n",
            "\u001b[?25hRequirement already satisfied: tqdm>=4.27 in /usr/local/lib/python3.10/dist-packages (from transformers) (4.65.0)\n",
            "Requirement already satisfied: fsspec in /usr/local/lib/python3.10/dist-packages (from huggingface-hub<1.0,>=0.11.0->transformers) (2023.4.0)\n",
            "Requirement already satisfied: typing-extensions>=3.7.4.3 in /usr/local/lib/python3.10/dist-packages (from huggingface-hub<1.0,>=0.11.0->transformers) (4.5.0)\n",
            "Requirement already satisfied: urllib3<1.27,>=1.21.1 in /usr/local/lib/python3.10/dist-packages (from requests->transformers) (1.26.15)\n",
            "Requirement already satisfied: idna<4,>=2.5 in /usr/local/lib/python3.10/dist-packages (from requests->transformers) (3.4)\n",
            "Requirement already satisfied: certifi>=2017.4.17 in /usr/local/lib/python3.10/dist-packages (from requests->transformers) (2022.12.7)\n",
            "Requirement already satisfied: charset-normalizer~=2.0.0 in /usr/local/lib/python3.10/dist-packages (from requests->transformers) (2.0.12)\n",
            "Installing collected packages: tokenizers, huggingface-hub, transformers\n",
            "Successfully installed huggingface-hub-0.14.1 tokenizers-0.13.3 transformers-4.28.1\n"
          ]
        }
      ]
    },
    {
      "cell_type": "markdown",
      "metadata": {
        "id": "qj1NSQelo_oN"
      },
      "source": [
        "# Question 1: Sentiment Analysis via Shallow ML\n",
        "\n",
        "\n",
        "**Marking**\n",
        "\n",
        "The coding parts (i.e., 1.a, 1.b, 1.c4) will be marked based on:\n",
        "\n",
        "- *Correctness*. Code clearly and fully performs the task specified.\n",
        "- *Reproducibility*. Code is fully reproducible. I.e., you (and I) are able to run this Notebook again and again, from top to bottom, and get the same results each time.\n",
        "- *Style*. Code is organized. All parts commented with clear reasoning and rationale. No old code laying around. Code easy to follow.\n",
        "\n",
        "\n",
        "Parts 2 and 3 will be marked on:\n",
        "\n",
        "- *Quality*. Response is well-justified and convincing. Responses uses facts and data where possible.\n",
        "- *Style*. Response uses proper grammar, spelling, and punctuation. Response is clear and professional. Response is complete, but not overly-verbose. Response follows length guidelines.\n"
      ]
    },
    {
      "cell_type": "code",
      "metadata": {
        "id": "60UNWiX8YmLi",
        "colab": {
          "base_uri": "https://localhost:8080/"
        },
        "outputId": "cf55aea9-aee5-445f-bdd6-c03cdbed51bf"
      },
      "source": [
        "# DO NOT MODIFY THIS CELL\n",
        "\n",
        "# First, we'll read the provided labeled training data\n",
        "df = pd.read_csv(\"https://drive.google.com/uc?export=download&id=1b8MAiN-xBdk6scM-DnufkuijDZivZJqM\")\n",
        "df.info()"
      ],
      "execution_count": null,
      "outputs": [
        {
          "output_type": "stream",
          "name": "stdout",
          "text": [
            "<class 'pandas.core.frame.DataFrame'>\n",
            "RangeIndex: 2400 entries, 0 to 2399\n",
            "Data columns (total 2 columns):\n",
            " #   Column    Non-Null Count  Dtype \n",
            "---  ------    --------------  ----- \n",
            " 0   Sentence  2400 non-null   object\n",
            " 1   Polarity  2400 non-null   int64 \n",
            "dtypes: int64(1), object(1)\n",
            "memory usage: 37.6+ KB\n"
          ]
        }
      ]
    },
    {
      "cell_type": "code",
      "metadata": {
        "id": "ksKqf_fV6pIO"
      },
      "source": [
        "# DO NOT MODIFY THIS CELL\n",
        "\n",
        "# Next, we'll split it into training and test\n",
        "from sklearn.model_selection import train_test_split\n",
        "\n",
        "X = df['Sentence']\n",
        "y = df['Polarity']\n",
        "\n",
        "# So that we can evaluate how well our model is performing, we split our training data\n",
        "# into training and validation.\n",
        "\n",
        "X_train, X_val, y_train, y_val = train_test_split(X, y, random_state=42)"
      ],
      "execution_count": null,
      "outputs": []
    },
    {
      "cell_type": "markdown",
      "metadata": {
        "id": "R04NzckZKbG2"
      },
      "source": [
        "## Part 1.a: Preprocessing and FE Pipeline\n",
        "\n",
        "Clean and preprocess the data (i.e., `X_train`) as you see necessary. Extract features from the text (i.e., vectorization using BOW and/or Bag of N-Grams and/or topics and/or lexical features).\n"
      ]
    },
    {
      "cell_type": "code",
      "metadata": {
        "id": "Qeavkicwo_oN",
        "colab": {
          "base_uri": "https://localhost:8080/"
        },
        "outputId": "718edae5-87d1-49a1-cd1f-c03e61d996d9"
      },
      "source": [
        "# TODO: insert code here\n",
        "\n",
        "from nltk.corpus import stopwords\n",
        "from nltk.stem import PorterStemmer\n",
        "import re\n",
        "from sklearn.feature_extraction.text import TfidfVectorizer\n",
        "import nltk\n",
        "\n",
        "# Download required nltk data\n",
        "nltk.download(['stopwords'])\n",
        "\n",
        "# Define the function to clean and preprocess the text data\n",
        "def preprocess_text(text):\n",
        "    # Clean the text\n",
        "    text = clean_text(text)\n",
        "\n",
        "    return text\n",
        "\n",
        "# Define the function to clean the text\n",
        "def clean_text(raw_text):\n",
        "    # Remove punctuation and special characters\n",
        "    no_punc_text = re.sub(r'[^\\w\\s]', '', raw_text)\n",
        "    # Convert all text to lowercase\n",
        "    lower_text = no_punc_text.lower()\n",
        "\n",
        "    # Remove stopwords\n",
        "    stop_words = set(stopwords.words('english'))\n",
        "    filtered_text = [word for word in lower_text.split() if word not in stop_words]\n",
        "    final_text = ' '.join(filtered_text)\n",
        "\n",
        "    # Stem words\n",
        "    stemmer = PorterStemmer()\n",
        "    stemmed_text = [stemmer.stem(word) for word in final_text.split()]\n",
        "    final_text = ' '.join(stemmed_text)\n",
        "\n",
        "    return final_text\n",
        "\n",
        "# Preprocess the training data\n",
        "X_train = [preprocess_text(text) for text in X_train]\n",
        "\n",
        "# Vectorize the text using TF-IDF\n",
        "vectorizer = TfidfVectorizer()\n",
        "X_train = vectorizer.fit_transform(X_train)\n",
        "\n"
      ],
      "execution_count": null,
      "outputs": [
        {
          "output_type": "stream",
          "name": "stderr",
          "text": [
            "[nltk_data] Downloading package stopwords to /root/nltk_data...\n",
            "[nltk_data]   Unzipping corpora/stopwords.zip.\n"
          ]
        }
      ]
    },
    {
      "cell_type": "markdown",
      "metadata": {
        "id": "m7FIkMnao_oO"
      },
      "source": [
        "## Part 1.b: Model Training/Tuning/Cross Validation\n",
        "\n",
        "Use your favorite shallow ML algorithm (such as decision trees, KNN, random forest, boosting variants) to train a classification model.  Don’t forget everything we’ve learned in the machine learning course: hyperparameter tuning, cross-validation, handling imbalanced data, etc. Make reasonable decisions and try to create the best-performing model that you can.\n"
      ]
    },
    {
      "cell_type": "code",
      "source": [
        "# TODO: insert code here\n",
        "\n",
        "from sklearn.svm import SVC\n",
        "from sklearn.model_selection import GridSearchCV\n",
        "from sklearn.metrics import accuracy_score, classification_report\n",
        "\n",
        "\n",
        "\n",
        "# Initialize the SVM Classifier\n",
        "svm_clf = SVC(random_state=42, probability=True)\n",
        "\n",
        "\n",
        "# Define the hyperparameters to be tuned\n",
        "params = {\n",
        "    'C': [0.01, 0.1, 1],\n",
        "    'kernel': ['linear', 'poly', 'rbf', 'sigmoid'],\n",
        "    'degree': [2, 3, 4],\n",
        "    'gamma': ['scale', 'auto']\n",
        "}\n",
        "\n",
        "# Use Grid Search with 5-fold cross-validation to find the best hyperparameters\n",
        "grid_search = GridSearchCV(svm_clf, params, cv=5, n_jobs=-1)\n",
        "grid_search.fit(X_train, y_train)\n",
        "\n",
        "# Print the best hyperparameters found\n",
        "print(\"Best Hyperparameters: \", grid_search.best_params_)\n",
        "\n",
        "# Train the SVM Classifier with the best hyperparameters\n",
        "best_svm_clf = SVC(random_state=42, **grid_search.best_params_)\n",
        "best_svm_clf.fit(X_train, y_train)\n",
        "\n",
        "# Evaluate the model on the validation set\n",
        "X_val = X_val.apply(preprocess_text)\n",
        "X_val = vectorizer.transform(X_val)\n",
        "y_pred = best_svm_clf.predict(X_val)\n",
        "\n",
        "# Print the accuracy and classification report\n",
        "print(\"Accuracy: \", accuracy_score(y_val, y_pred))\n",
        "print(classification_report(y_val, y_pred))"
      ],
      "metadata": {
        "colab": {
          "base_uri": "https://localhost:8080/"
        },
        "id": "3fIAbLRCZLSQ",
        "outputId": "bf027907-9ae8-4bcc-967d-28ab1125656c"
      },
      "execution_count": null,
      "outputs": [
        {
          "output_type": "stream",
          "name": "stdout",
          "text": [
            "Best Hyperparameters:  {'C': 1, 'degree': 2, 'gamma': 'scale', 'kernel': 'rbf'}\n",
            "Accuracy:  0.8\n",
            "              precision    recall  f1-score   support\n",
            "\n",
            "           0       0.82      0.80      0.81       323\n",
            "           1       0.78      0.80      0.79       277\n",
            "\n",
            "    accuracy                           0.80       600\n",
            "   macro avg       0.80      0.80      0.80       600\n",
            "weighted avg       0.80      0.80      0.80       600\n",
            "\n"
          ]
        }
      ]
    },
    {
      "cell_type": "markdown",
      "metadata": {
        "id": "RjUgRW1N6ppS"
      },
      "source": [
        "## Part 1.c: Model Assessment\n",
        "\n",
        "Use your model to predict the sentiment of the testing data. Measure the performance (e.g., accuracy, AUC, F1-score) of your model."
      ]
    },
    {
      "cell_type": "code",
      "metadata": {
        "colab": {
          "base_uri": "https://localhost:8080/"
        },
        "id": "QYlrWng9MqmL",
        "outputId": "c07cc0ef-7961-446e-def4-5dcb7164cfc7"
      },
      "source": [
        "# DO NOT MODIFY THIS CELL\n",
        "\n",
        "test_df = pd.read_csv(\"https://drive.google.com/uc?export=download&id=1taoTluPBUMt9JkKAnlqDTrU49DJFpJGW\")\n",
        "test_df.info()"
      ],
      "execution_count": null,
      "outputs": [
        {
          "output_type": "stream",
          "name": "stdout",
          "text": [
            "<class 'pandas.core.frame.DataFrame'>\n",
            "RangeIndex: 600 entries, 0 to 599\n",
            "Data columns (total 2 columns):\n",
            " #   Column    Non-Null Count  Dtype \n",
            "---  ------    --------------  ----- \n",
            " 0   Sentence  600 non-null    object\n",
            " 1   Polarity  600 non-null    int64 \n",
            "dtypes: int64(1), object(1)\n",
            "memory usage: 9.5+ KB\n"
          ]
        }
      ]
    },
    {
      "cell_type": "code",
      "metadata": {
        "id": "yMm6r-wSOUY1",
        "colab": {
          "base_uri": "https://localhost:8080/"
        },
        "outputId": "97517307-d893-417e-b68b-11ab24186c8b"
      },
      "source": [
        "# TODO: insert code here\n",
        "\n",
        "# Clean and preprocess the test data\n",
        "X_test = test_df['Sentence'].apply(preprocess_text)\n",
        "\n",
        "# Vectorize the text using TF-IDF\n",
        "X_test = vectorizer.transform(X_test)\n",
        "\n",
        "# Use the best estimator to predict the labels for the test data\n",
        "y_test_pred = grid_search.best_estimator_.predict(X_test)\n",
        "\n",
        "# Calculate the predicted probabilities for each class\n",
        "y_test_prob = grid_search.best_estimator_.predict_proba(X_test)\n",
        "\n",
        "# Calculate the AUC score\n",
        "from sklearn.metrics import roc_auc_score\n",
        "auc_score = roc_auc_score(test_df['Polarity'], y_test_prob[:, 1])\n",
        "print(\"AUC Score: \", auc_score)\n",
        "\n",
        "# Print the classification report for the test data\n",
        "print(classification_report(test_df['Polarity'], y_test_pred))\n"
      ],
      "execution_count": null,
      "outputs": [
        {
          "output_type": "stream",
          "name": "stdout",
          "text": [
            "AUC Score:  0.8429718026071179\n",
            "              precision    recall  f1-score   support\n",
            "\n",
            "           0       0.68      0.88      0.77       287\n",
            "           1       0.85      0.62      0.72       313\n",
            "\n",
            "    accuracy                           0.75       600\n",
            "   macro avg       0.77      0.75      0.74       600\n",
            "weighted avg       0.77      0.75      0.74       600\n",
            "\n"
          ]
        }
      ]
    },
    {
      "cell_type": "markdown",
      "metadata": {
        "id": "6wUBcyrdM3__"
      },
      "source": [
        "## Part 2: Given the performance of your model, are you satisfied with the results? Explain.\n",
        "\n",
        "Keep your response to 1000 characters or less."
      ]
    },
    {
      "cell_type": "markdown",
      "metadata": {
        "id": "4oCr-mTfNG-H"
      },
      "source": [
        "After carefully analyzing the performance of my model, I would say that I am somewhat satisfied with the results. The model is able to predict the sentiment of the text with an accuracy of 80% on the validation set and 75% on the test set. However, when compared to some of the other state of the art models, the accuracy is not the best. But, given that the model has been trained on a limited amount of data, I think the performance is reasonable.\n",
        "\n",
        "One of the most important metrics for any sentiment analysis model is the AUC score. AUC score gives us an idea of how well the model can distinguish between the positive and negative classes. In this case, the AUC score is 84%, which is quite good. It means that the model can distinguish between positive and negative sentiments with a high degree of accuracy.\n",
        "\n",
        "Looking at the precision and recall scores, it's evident that my model is doing better in predicting the negative sentiment than the positive sentiment. The model has a precision score of 85% on the positive class and 68% on the negative class. This means that when the model predicts that a review is positive, it is correct 85% of the time. However, when it predicts that a review is negative, it is correct only 68% of the time. This can be improved by gathering more data and fine-tuning the model's hyperparameters.\n",
        "\n",
        "Similarly, the recall score for the positive class is only 62%, whereas for the negative class, it is 88%. This means that the model is able to correctly identify only 62% of the positive reviews, whereas for the negative reviews, it is able to correctly identify 88% of them. This could be due to the fact that the positive class is heavily skewed, and there are very few positive reviews compared to negative reviews. Again, this can be improved by gathering more data or by using techniques like data augmentation.\n",
        "\n",
        "At last, looking at the F1 score, it's clear that my model is doing better on the negative class than the positive class. The F1 score for the positive class is 72%, whereas for the negative class, it is 77%. This is because the F1 score is a harmonic mean of precision and recall, and since my model is performing better on the negative class for both precision and recall, the F1 score for the negative class is higher.\n",
        "\n",
        "In conclusion, I would say that my model's performance is decent, given the amount of data that was given and the complexity of the problem. However, there is definitely scope for improvement. One of the main areas where I can improve the model is by gathering more data. This would help me address the skewness in the positive class and improve the precision and recall scores for the positive class. Another area where I can improve the model is by fine-tuning the hyperparameters. In this case, I used GridSearchCV to find the best hyperparameters, but in future I can also use more advanced techniques like Bayesian optimization or RandomizedSearchCV to find the best hyperparameters.\n",
        "\n"
      ]
    },
    {
      "cell_type": "markdown",
      "metadata": {
        "id": "Sz8dTvnJNKLL"
      },
      "source": [
        "## Part 3: Show five test instances in which your model was incorrect. Dive deep and find out why your model was wrong.\n",
        "\n",
        "Keep your response to 1000 characters or less."
      ]
    },
    {
      "cell_type": "markdown",
      "metadata": {
        "id": "DekZ7mulNTmr"
      },
      "source": [
        "When I started building the model, the first algorithm I tried was the **Random Forest classifier**. However, after training the model on the training dataset, I found that it had an accuracy of only 79% on the validation set and 70% on the test set. This is a relatively low accuracy score compared to my final model, especially considering that the dataset is for sentiment analysis, which is a well-studied problem in natural language processing.\n",
        "\n",
        "There can be several possible reasons why the Random Forest model did not perform well on the dataset. One possibility is that the dataset may be too complex for this model to handle.\n",
        "\n",
        "While the Random Forest model is a popular and versatile algorithm, it did not perform well on the sentiment analysis dataset. As a result, I had to explore **Support Vector Machines (SVMs)** as my final model to achieve better performance on this task.\n",
        "\n",
        "***Reasons for Incorrectness a Deep Dive:***\n",
        "\n",
        "1. **Ambiguous language -** Some texts might have ambiguous language that makes it difficult to determine the true sentiment. For example, a sentence like \"The movie was not bad, but it wasn't great either\" could be interpreted as either positive or negative, depending on the context and the tone of the speaker.\n",
        "2. **Out-of-vocabulary words -** The model can not correctly classify texts that contain words or phrases that were not present in the training data. If the training data only contained movie reviews from the drama and comedy genres, our model might struggle to classify a horror movie review.\n",
        "3. **Contextual factors -** The model might misclassify instances due to contextual factors such as sarcasm, irony, or exaggeration. A sentence like \"Oh sure, Everybody loves horror movies\" might be intended as sarcasm, but our model might interpret it as a positive sentiment.\n",
        "4. **Insufficient training data -** Model is not trained on a sufficiently diverse set of data. Like, if the training data only contained reviews from a particular region or demographic group, our model might struggle to classify reviews from a different region or demographic.\n",
        "\n",
        "\n",
        "\n"
      ]
    },
    {
      "cell_type": "code",
      "source": [
        "# Get the predicted labels for the test data\n",
        "y_test_pred = best_svm_clf.predict(X_test)\n",
        "\n",
        "# Compare the predicted labels with the true labels\n",
        "incorrectly_classified = X_test[y_test_pred != test_df['Polarity']]\n",
        "\n",
        "# Get the first five instances\n",
        "incorrect_instances = incorrectly_classified[:5]\n",
        "\n",
        "# Print the instances\n",
        "for instance in incorrect_instances:\n",
        "    print(instance)"
      ],
      "metadata": {
        "colab": {
          "base_uri": "https://localhost:8080/"
        },
        "id": "ae8Ht1Jh6Od_",
        "outputId": "4ca76bc1-dc15-49ff-e97b-1854efab675e"
      },
      "execution_count": null,
      "outputs": [
        {
          "output_type": "stream",
          "name": "stdout",
          "text": [
            "  (0, 375)\t0.3938409214826299\n",
            "  (0, 456)\t0.5637125299176063\n",
            "  (0, 895)\t0.44055553933400354\n",
            "  (0, 905)\t0.3549019208950601\n",
            "  (0, 2396)\t0.4550526952856412\n",
            "  (0, 492)\t0.7071067811865475\n",
            "  (0, 1187)\t0.7071067811865475\n",
            "  (0, 1385)\t1.0\n",
            "  (0, 891)\t0.4454194364178147\n",
            "  (0, 1901)\t0.3729225716111432\n",
            "  (0, 2415)\t0.5060392241960066\n",
            "  (0, 2528)\t0.6375379085350703\n",
            "  (0, 404)\t0.4531639672728753\n",
            "  (0, 1898)\t0.5134587948720585\n",
            "  (0, 2001)\t0.4867779086200914\n",
            "  (0, 2064)\t0.4531639672728753\n",
            "  (0, 2700)\t0.29781230864254105\n"
          ]
        }
      ]
    },
    {
      "cell_type": "markdown",
      "source": [
        "# Question 2: Conceptual Understanding of the SOTA\n",
        "\n",
        "\n",
        "**Marking**\n",
        "\n",
        "The following questions will be marked on:\n",
        "\n",
        "- *Quality*. Response is well-justified and convincing. Responses uses facts and data where possible.\n",
        "- *Style*. Response uses proper grammar, spelling, and punctuation. Response is clear and professional. Response is complete, but not overly-verbose. Response follows length guidelines.\n"
      ],
      "metadata": {
        "id": "W2nBXXwBQaFk"
      }
    },
    {
      "cell_type": "markdown",
      "source": [
        "## Part 1: What is transfer learning and fine-tuning in NLP? What advantages does it have over training from scratch?\n",
        "\n",
        "Keep your response to 1000 characters or less."
      ],
      "metadata": {
        "id": "4hmLwD6-Qs3U"
      }
    },
    {
      "cell_type": "markdown",
      "source": [
        "\n",
        "**Transfer learning** is a machine learning technique in which a model is trained on one task and is reused as a starting point for training a new model on a different but related task. This approach allows the new model to learn from the knowledge and experience of the pre-trained model, resulting in faster training and improved performance on the new task. Transfer learning has been successfully applied in various domains, such as natural language processing, computer vision, and speech recognition. The pre-trained models can be fine-tuned or adapted to the new task, or their features can be extracted and used as input to a new model.\n",
        "\n",
        "**Fine-tuning** in natural language processing (NLP) is the process of taking a pre-trained language model and adapting it to a specific NLP task by continuing its training on a smaller task-specific dataset. The pre-trained model is typically a large neural network trained on a massive corpus of text, such as BERT or GPT. Fine-tuning saves time and computational resources by allowing developers to reuse pre-trained models that have already learned a lot about the structure of the language, while still providing the ability to fine-tune the model to the specific needs of the task at hand.\n",
        "\n",
        "***Advantages over training a model from scratch:***\n",
        "\n",
        "1. **Faster training time -** Pre-trained models have already learned a lot about the structure of the language, and fine-tuning allows the model to adapt to a new task faster by updating its weights on a smaller, task-specific dataset.\n",
        "\n",
        "2. **Requires less data -** Fine-tuning on a smaller dataset is more efficient than training a model from scratch on a large dataset, especially when the task-specific dataset is small.\n",
        "\n",
        "3. **Better performance -** Pre-trained models have already learned general features of the language, and fine-tuning allows the model to leverage this knowledge and perform better on a specific task than a model trained from scratch.\n",
        "\n",
        "4. **More robust -** Pre-trained models have been trained on a massive amount of data, making them more robust and able to handle a wide range of linguistic variations and complexities in the task-specific dataset."
      ],
      "metadata": {
        "id": "mcXqPprFQyUM"
      }
    },
    {
      "cell_type": "markdown",
      "source": [
        "## Part 2: What is a Large Language Model (LLM) and what are their strengths and weaknesses?\n",
        "\n",
        "Keep your response to 1000 characters or less."
      ],
      "metadata": {
        "id": "oorJvilBQ2g1"
      }
    },
    {
      "cell_type": "markdown",
      "source": [
        "**Large Language Models (LLMs)** are deep learning models that are trained on massive amounts of text data, with the goal of generating human-like language. These models are typically based on transformer architectures, such as GPT (Generative Pre-trained Transformer) or BERT (Bidirectional Encoder Representations from Transformers), and can have billions of parameters.\n",
        "\n",
        "They use unsupervised learning techniques to learn the structure of languages from a vast corpus of text data, such as Wikipedia, news articles, or books. Once trained, these models can be used for a variety of Natural Language Processing tasks, such as language translation, text summarization, and question answering.\n",
        "\n",
        "***Strengths of Large Language Models:***\n",
        "\n",
        "1. **Quality Language Generation -** LLMs are capable of generating high quality, coherent, and natural-sounding languages. They can be used for various tasks like answering questions, language translations, etc.\n",
        "2. **Adaptability -** They can be fine-tuned for a specific task, making them adaptable to new datasets and performing very well on a wide range of language related tasks.\n",
        "3. **Multilingual capability -** Some LLMs are trained to handle multiple languages, enabling efficient processing of multilingual text data for various NLP tasks. For example - mT5 developed by Google which has been trained in over 100 languages.\n",
        "4. **Efficiency -** They have the ability to generate large amounts of text quickly and accurately, making them a useful tool for tasks that require the generation of natural language at scale.\n",
        "\n",
        "***Weaknesses of Large Language Models:***\n",
        "\n",
        "1. **Computational requirements -** Large Language Models require a massive amount of computational resources (GPUs and TPUs) for training, which makes their development and deployment expensive.\n",
        "2. **Limited knowledge -** While these large models can generate high-quality language, they do not have general knowledge about the world or common sense reasoning abilities, which can be a limitation in some cases.\n",
        "3. **Inability to handle rare or unseen words -** Large Models may struggle to handle rare or unseen words, especially in low-resource languages or domains with specialized jargon.\n",
        "4. **Environmental impacts -** The computational resources required to train LLMs can have a significant environmental impact, due to the high energy consumption in data centers."
      ],
      "metadata": {
        "id": "xNQn5LYaQ5qH"
      }
    },
    {
      "cell_type": "markdown",
      "metadata": {
        "id": "bE2GL8VMNKHj"
      },
      "source": [
        "# Question 3 (Optional/Bonus): Sentiment Analysis via Deep ML\n",
        "\n",
        "This question is optional and is worth up to 5 extra credit marks.\n",
        "\n",
        "Use deep learning (e.g., RNNs and variants, CNNs and variants, and/or transformers) to build a model on the same dataset as Q1 and compare the results with the Shallow ML model.\n",
        "\n",
        "You may train your own deep ML model (using, e.g., the keras library) or fine-tune a pretrained deep ML model (using, e.g., the transformers library)."
      ]
    },
    {
      "cell_type": "markdown",
      "source": [
        "# Deep ML Model\n"
      ],
      "metadata": {
        "id": "8pCS0ZXh_drA"
      }
    },
    {
      "cell_type": "code",
      "source": [
        "# TODO: Insert code here.\n",
        "\n",
        "import tensorflow as tf\n",
        "from sklearn.metrics import classification_report, roc_curve, auc\n",
        "from transformers import TFDistilBertModel,DistilBertTokenizer\n",
        "from transformers import TFDistilBertForSequenceClassification\n",
        "from tensorflow.keras.callbacks import EarlyStopping\n",
        "\n",
        "# Load the dataset\n",
        "data = pd.read_csv('https://drive.google.com/uc?export=download&id=1b8MAiN-xBdk6scM-DnufkuijDZivZJqM')\n",
        "\n",
        "# Split the dataset into training and validation data\n",
        "X = data['Sentence']\n",
        "y = data['Polarity']\n",
        "X_train, X_val, y_train, y_val = train_test_split(X, y, random_state=42, test_size=0.2)\n",
        "\n",
        "# Load the test data\n",
        "test_df = pd.read_csv(\"https://drive.google.com/uc?export=download&id=1taoTluPBUMt9JkKAnlqDTrU49DJFpJGW\")\n",
        "\n",
        "# Download required nltk data\n",
        "nltk.download(['stopwords'])\n",
        "\n",
        "# Define the function to clean and preprocess the text data\n",
        "def preprocess_text(text):\n",
        "    # Clean the text\n",
        "    text = clean_text(text)\n",
        "    return text\n",
        "\n",
        "# Define the function to clean the text\n",
        "def clean_text(raw_text):\n",
        "    # Remove punctuation and special characters\n",
        "    no_punc_text = re.sub(r'[^\\w\\s]', '', raw_text)\n",
        "    # Convert all text to lowercase\n",
        "    lower_text = no_punc_text.lower()\n",
        "\n",
        "    # Remove stopwords\n",
        "    stop_words = set(stopwords.words('english'))\n",
        "    filtered_text = [word for word in lower_text.split() if word not in stop_words]\n",
        "    final_text = ' '.join(filtered_text)\n",
        "\n",
        "    # Stem words\n",
        "    stemmer = PorterStemmer()\n",
        "    stemmed_text = [stemmer.stem(word) for word in final_text.split()]\n",
        "    final_text = ' '.join(stemmed_text)\n",
        "\n",
        "    return final_text\n",
        "\n",
        "# Preprocess the training data\n",
        "X_train = [preprocess_text(text) for text in X_train]\n",
        "\n",
        "# Preprocess the validation data\n",
        "X_val = [preprocess_text(text) for text in X_val]\n",
        "\n",
        "# Preprocess the test data\n",
        "X_test = [preprocess_text(text) for text in test_df['Sentence'].tolist()]\n",
        "\n",
        "tokenizer = DistilBertTokenizer.from_pretrained('distilbert-base-uncased')\n",
        "train_encodings = tokenizer(list(X_train), truncation=True, padding=True)\n",
        "val_encodings = tokenizer(list(X_val), truncation=True, padding=True)\n",
        "test_encodings = tokenizer(list(X_test), truncation=True, padding=True)\n",
        "\n",
        "train_dataset = tf.data.Dataset.from_tensor_slices((\n",
        "    dict(train_encodings),\n",
        "    y_train.values\n",
        "))\n",
        "val_dataset = tf.data.Dataset.from_tensor_slices((\n",
        "    dict(val_encodings),\n",
        "    y_val.values\n",
        "))\n",
        "test_dataset = tf.data.Dataset.from_tensor_slices((\n",
        "    dict(test_encodings),\n",
        "    test_df['Polarity'].values\n",
        "))\n",
        "\n",
        "# Load pre-trained DistilBERT model\n",
        "model = TFDistilBertForSequenceClassification.from_pretrained('distilbert-base-uncased', num_labels=2)\n",
        "\n",
        "# Define training parameters\n",
        "optimizer = tf.keras.optimizers.Adam(learning_rate=5e-5)\n",
        "loss = tf.keras.losses.SparseCategoricalCrossentropy(from_logits=True)\n",
        "metric = tf.keras.metrics.SparseCategoricalAccuracy('accuracy')\n",
        "model.compile(optimizer=optimizer, loss=loss, metrics=[metric])\n",
        "\n",
        "# Define early stopping callback\n",
        "early_stopping = EarlyStopping(monitor='val_loss', patience=3)\n",
        "\n",
        "# Train model on training set with early stopping\n",
        "history = model.fit(\n",
        "    train_dataset.shuffle(1000).batch(16),\n",
        "    epochs=5,\n",
        "    batch_size=16,\n",
        "    validation_data=val_dataset.shuffle(1000).batch(16),\n",
        "    callbacks=[early_stopping]\n",
        ")\n",
        "\n",
        "# Make predictions on validation and test set\n",
        "val_predictions = model.predict(val_dataset.batch(16)).logits.argmax(axis=-1)\n",
        "test_predictions = model.predict(test_dataset.batch(16)).logits.argmax(axis=-1)\n",
        "\n",
        "# Generate classification report for validation set\n",
        "print(\"Validation Set Classification Report:\")\n",
        "print(classification_report(y_val, val_predictions))\n",
        "\n",
        "# Generate classification report and AUC score for test set\n",
        "print(\"Test Set Classification Report:\")\n",
        "print(classification_report(test_df['Polarity'], test_predictions))\n",
        "print(\"Test Set AUC Score:\", roc_auc_score(test_df['Polarity'], test_predictions))\n"
      ],
      "metadata": {
        "colab": {
          "base_uri": "https://localhost:8080/",
          "height": 824,
          "referenced_widgets": [
            "24b46eb85511491aa9829c96dda1dbf2",
            "7dcaa634a35b45b59b8aaccf1a2fe749",
            "4e1c352b022246e5b7017abbf1ed4c01",
            "f475a880d1634df9957f093cab04b70e",
            "ae6af241d36b43fca636567d7ac0e350",
            "f198e31647c14409a4181f5bc8069fb7",
            "4981219ec7c0436ab85ee73eeca9b22f",
            "cd13a87ef4924f8eb6ad2c49c16ba255",
            "747cbeddd1fb4dbeaf08ebc7ce7e96e3",
            "086dc4559c44492bb8946bc89ec42b08",
            "33237e3a620c4bbc9e6d22b220078acd",
            "6045b698e44448e183e59207f8222dcb",
            "175e57500f8244ff8ace0b7956e1d631",
            "6289589f11d5458ea2e245b8e4a888a4",
            "0fa05dd251fb429caf5ca76ea581f13a",
            "be1e2f06b88a4af9b02bc58750c003fd",
            "2f911bbd189b4f4b90d65a945a2852ba",
            "c8479541f9674025be623445e52ac32b",
            "6b43f2a8b0ba41e6a9de87c4b5f7e661",
            "25ee2b6c1bd248bdabf763a79ad62a12",
            "3da497fea4c44a6fabf96cbb8e629a46",
            "b9a294ad2e7142f194f5dbadd100e770",
            "e44a8ffeffa84d21957a54e94e35c4b3",
            "da1d17bacdf9421fa9c1ec72d64b2572",
            "f54c1dd3d1084142a81ff479a1adb190",
            "35f4abafa6b146e591c13a232370798b",
            "8c3adc0c79244c288a858e4aeaf17237",
            "20c0b92fbd1f493ca5aa01f8a3363176",
            "41ac833e13a24e62898bd0f4c66a43e3",
            "e38ca0f46a3c4b4287d245a311676948",
            "136583ea19364c299493f3df4d375476",
            "4ad8b2ad08b34337b20c7ccfc7f26875",
            "c5b086e98f26419ba998b0516d5a054c",
            "6e8e011775dd4e71a43f4be9ea07ffbf",
            "19caaf111a204b8a85c885ef3919cac8",
            "c1d0c4b1b6fc4a4988f558e87a0edc93",
            "652471b1371749b188edfecfa4ccc969",
            "f2010c6fa9864f92b372daa75a0745c3",
            "88d7601554cc4261b2aab7a295685d08",
            "75fd27527bb3497c9ee2b5e4f6d24df0",
            "cd1baee11ca8415c87aebfba16bd5593",
            "a29beb2b3781466595403ae56661335c",
            "19d22edf08f249539ab5290d05938df8",
            "430ee869e1c740e1870b428a86352684"
          ]
        },
        "id": "WV8LrujgAkZ7",
        "outputId": "04d3837f-aa38-415d-a4ab-6afce9586c0d"
      },
      "execution_count": null,
      "outputs": [
        {
          "output_type": "stream",
          "name": "stderr",
          "text": [
            "[nltk_data] Downloading package stopwords to /root/nltk_data...\n",
            "[nltk_data]   Package stopwords is already up-to-date!\n"
          ]
        },
        {
          "output_type": "display_data",
          "data": {
            "text/plain": [
              "Downloading (…)solve/main/vocab.txt:   0%|          | 0.00/232k [00:00<?, ?B/s]"
            ],
            "application/vnd.jupyter.widget-view+json": {
              "version_major": 2,
              "version_minor": 0,
              "model_id": "24b46eb85511491aa9829c96dda1dbf2"
            }
          },
          "metadata": {}
        },
        {
          "output_type": "display_data",
          "data": {
            "text/plain": [
              "Downloading (…)okenizer_config.json:   0%|          | 0.00/28.0 [00:00<?, ?B/s]"
            ],
            "application/vnd.jupyter.widget-view+json": {
              "version_major": 2,
              "version_minor": 0,
              "model_id": "6045b698e44448e183e59207f8222dcb"
            }
          },
          "metadata": {}
        },
        {
          "output_type": "display_data",
          "data": {
            "text/plain": [
              "Downloading (…)lve/main/config.json:   0%|          | 0.00/483 [00:00<?, ?B/s]"
            ],
            "application/vnd.jupyter.widget-view+json": {
              "version_major": 2,
              "version_minor": 0,
              "model_id": "e44a8ffeffa84d21957a54e94e35c4b3"
            }
          },
          "metadata": {}
        },
        {
          "output_type": "display_data",
          "data": {
            "text/plain": [
              "Downloading tf_model.h5:   0%|          | 0.00/363M [00:00<?, ?B/s]"
            ],
            "application/vnd.jupyter.widget-view+json": {
              "version_major": 2,
              "version_minor": 0,
              "model_id": "6e8e011775dd4e71a43f4be9ea07ffbf"
            }
          },
          "metadata": {}
        },
        {
          "output_type": "stream",
          "name": "stderr",
          "text": [
            "Some layers from the model checkpoint at distilbert-base-uncased were not used when initializing TFDistilBertForSequenceClassification: ['vocab_transform', 'activation_13', 'vocab_layer_norm', 'vocab_projector']\n",
            "- This IS expected if you are initializing TFDistilBertForSequenceClassification from the checkpoint of a model trained on another task or with another architecture (e.g. initializing a BertForSequenceClassification model from a BertForPreTraining model).\n",
            "- This IS NOT expected if you are initializing TFDistilBertForSequenceClassification from the checkpoint of a model that you expect to be exactly identical (initializing a BertForSequenceClassification model from a BertForSequenceClassification model).\n",
            "Some layers of TFDistilBertForSequenceClassification were not initialized from the model checkpoint at distilbert-base-uncased and are newly initialized: ['dropout_19', 'classifier', 'pre_classifier']\n",
            "You should probably TRAIN this model on a down-stream task to be able to use it for predictions and inference.\n"
          ]
        },
        {
          "output_type": "stream",
          "name": "stdout",
          "text": [
            "Epoch 1/5\n",
            "120/120 [==============================] - 58s 234ms/step - loss: 0.5410 - accuracy: 0.7167 - val_loss: 0.3949 - val_accuracy: 0.8292\n",
            "Epoch 2/5\n",
            "120/120 [==============================] - 16s 133ms/step - loss: 0.3201 - accuracy: 0.8661 - val_loss: 0.4178 - val_accuracy: 0.8417\n",
            "Epoch 3/5\n",
            "120/120 [==============================] - 15s 127ms/step - loss: 0.1662 - accuracy: 0.9448 - val_loss: 0.4499 - val_accuracy: 0.8354\n",
            "Epoch 4/5\n",
            "120/120 [==============================] - 14s 119ms/step - loss: 0.1268 - accuracy: 0.9620 - val_loss: 0.4509 - val_accuracy: 0.8208\n",
            "30/30 [==============================] - 3s 34ms/step\n",
            "38/38 [==============================] - 4s 49ms/step\n",
            "Validation Set Classification Report:\n",
            "              precision    recall  f1-score   support\n",
            "\n",
            "           0       0.83      0.84      0.83       257\n",
            "           1       0.82      0.79      0.80       223\n",
            "\n",
            "    accuracy                           0.82       480\n",
            "   macro avg       0.82      0.82      0.82       480\n",
            "weighted avg       0.82      0.82      0.82       480\n",
            "\n",
            "Test Set Classification Report:\n",
            "              precision    recall  f1-score   support\n",
            "\n",
            "           0       0.74      0.89      0.81       287\n",
            "           1       0.88      0.72      0.79       313\n",
            "\n",
            "    accuracy                           0.80       600\n",
            "   macro avg       0.81      0.80      0.80       600\n",
            "weighted avg       0.81      0.80      0.80       600\n",
            "\n",
            "Test Set AUC Score: 0.8036757912079349\n"
          ]
        }
      ]
    }
  ]
}