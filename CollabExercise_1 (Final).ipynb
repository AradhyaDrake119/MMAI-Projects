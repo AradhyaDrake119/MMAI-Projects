{
 "cells": [
  {
   "cell_type": "markdown",
   "metadata": {
    "id": "hy0azQCVlCiR"
   },
   "source": [
    "# MMAI 894 - Exercise 1\n",
    "## Feedforward artificial neural network : Image classification\n",
    "The goal of this excercise is to show you how to create your first neural network using the tensorflow/keras library. We will be using the MNIST dataset.\n",
    "\n",
    "Submission instructions:\n",
    "- You cannot edit this notebook directly. Save a copy to your drive, and make sure to identify yourself in the title using name and student number\n",
    "- Do not insert new cells before the final one (titled \"Further exploration\") \n",
    "- Verify that your notebook can _restart and run all_. \n",
    "- Select File -> Download as .py (important! not as ipynb)\n",
    "- Rename the file: `studentID_lastname_firstname_ex1.py`\n",
    "- The mark will be assessed on the implementation of the functions with #TODO\n",
    "- **Do not change anything outside the functions**  unless in the further exploration section\n",
    "- The mark is not based on final accuracy - only on correctness\n",
    "- Note: You do not have to answer the questions in thie notebook as part of your submission. They are meant to guide you.\n",
    "\n",
    "- You should not need to use any additional libraries other than the ones listed below. You may want to import additional modules from those libraries, however.\n",
    "\n",
    "References\n",
    "- https://keras.io/getting-started/sequential-model-guide/\n",
    "- https://keras.io/api/utils/python_utils/#to_categorical-function\n",
    "- https://scikit-learn.org/stable/modules/generated/sklearn.model_selection.train_test_split.html\n",
    "- https://keras.io/api/layers/core_layers/dense/\n",
    "- https://keras.io/api/layers/regularization_layers/dropout/\n",
    "- https://keras.io/api/models/model_training_apis/\n"
   ]
  },
  {
   "cell_type": "markdown",
   "metadata": {
    "id": "qp33aomJmJtl"
   },
   "source": [
    "### Libraries"
   ]
  },
  {
   "cell_type": "code",
   "execution_count": 1,
   "metadata": {
    "id": "trOyfziVgETH"
   },
   "outputs": [],
   "source": [
    "# Import modules\n",
    "# Add modules as needed\n",
    "from sklearn.datasets import fetch_openml\n",
    "from sklearn.model_selection import train_test_split\n",
    "from sklearn.metrics import classification_report, confusion_matrix\n",
    "\n",
    "# For windows laptops add following 2 lines:\n",
    "import matplotlib\n",
    "matplotlib.use('agg')\n",
    "\n",
    "import matplotlib.pyplot as plt\n",
    "\n",
    "import tensorflow as tf\n",
    "from tensorflow import keras\n",
    "from tensorflow.keras.models import Sequential\n",
    "from tensorflow.keras.layers import Dense, Dropout, Flatten\n",
    "from tensorflow.keras.utils import to_categorical\n",
    "from tensorflow.keras.optimizers import Adam, RMSprop\n",
    "\n",
    "import numpy as np"
   ]
  },
  {
   "cell_type": "markdown",
   "metadata": {
    "id": "_ZmZEVmTmQGH"
   },
   "source": [
    "### Data preparation\n",
    "\n",
    "#### Import data"
   ]
  },
  {
   "cell_type": "code",
   "execution_count": 2,
   "metadata": {
    "id": "0gRy7rVvg_Sl"
   },
   "outputs": [],
   "source": [
    "def load_data():\n",
    "    #Import MNIST dataset from openml\n",
    "    dataset = fetch_openml('mnist_784', version=1, data_home=None)\n",
    "\n",
    "    # Data preparation\n",
    "    raw_X = dataset['data']\n",
    "    raw_Y = dataset['target']\n",
    "    return raw_X, raw_Y\n",
    "\n",
    "raw_X, raw_Y = load_data()\n",
    "\n"
   ]
  },
  {
   "cell_type": "markdown",
   "metadata": {
    "id": "YEwXHBQh8r93"
   },
   "source": [
    "## Consider the following\n",
    "- what shape is X?\n",
    "- what value ranges does X take? \n",
    " - might this present a problem? \n",
    " - what transformations need to be applied?\n",
    "- what shape is Y?\n",
    "- what value ranges does Y take? \n",
    " - what transformations should be applied?"
   ]
  },
  {
   "cell_type": "code",
   "execution_count": 3,
   "metadata": {
    "id": "RT499lYakFjo"
   },
   "outputs": [],
   "source": [
    "def clean_data(raw_X, raw_Y):\n",
    "    \n",
    "    cleaned_X = raw_X / 255\n",
    "    cleaned_Y = to_categorical(raw_Y)\n",
    "    \n",
    "    return cleaned_X, cleaned_Y\n",
    "\n",
    "cleaned_X, cleaned_Y = clean_data(raw_X, raw_Y)"
   ]
  },
  {
   "cell_type": "markdown",
   "metadata": {
    "id": "MpfxuSt4nKUw"
   },
   "source": [
    "#### Data split\n",
    "\n",
    "- Split your data into a train set (50%), validation set (20%) and a test set (30%). You may use scikit-learn's train_test_split function."
   ]
  },
  {
   "cell_type": "code",
   "execution_count": 4,
   "metadata": {
    "id": "7gjkRpwbkP1j"
   },
   "outputs": [],
   "source": [
    "def split_data(cleaned_X, cleaned_Y):\n",
    "    \n",
    "    X_main, X_test, Y_main, Y_test = train_test_split(cleaned_X, cleaned_Y,test_size=0.3, random_state = 42)\n",
    "    X_train, X_val, Y_train, Y_val = train_test_split(X_main, Y_main,test_size=0.2857, random_state = 42)\n",
    "    \n",
    "    return X_val, X_test, X_train, Y_val, Y_test, Y_train\n",
    "\n",
    "\n",
    "X_val, X_test, X_train, Y_val, Y_test, Y_train = split_data(cleaned_X, cleaned_Y)"
   ]
  },
  {
   "cell_type": "markdown",
   "metadata": {
    "id": "lGHlLLTanrUI"
   },
   "source": [
    "#### [Optional]: plot your data with matplotlib\n",
    "- Hint: you will need to reshape the row's data into a 28x28 matrix\n",
    "- https://matplotlib.org/3.1.1/api/_as_gen/matplotlib.pyplot.imshow.html\n",
    "- https://docs.scipy.org/doc/numpy/reference/generated/numpy.reshape.html"
   ]
  },
  {
   "cell_type": "code",
   "execution_count": 5,
   "metadata": {
    "id": "wYpoQEMEkUhL"
   },
   "outputs": [],
   "source": [
    "#def viz_data(X_train):\n",
    "    # TODO: (optional) plot your data with matplotlib\n",
    "    # DO NOT CHANGE THE INPUTS OR OUTPUTS TO THIS FUNCTION\n",
    "\n",
    "\n",
    "\n",
    "#viz_data(X_train)"
   ]
  },
  {
   "cell_type": "markdown",
   "metadata": {
    "id": "WRTFvCTzn12X"
   },
   "source": [
    "### Model\n",
    "\n",
    "#### Neural network structure\n",
    "- For this network, we'll use 2 hidden layers\n",
    "- Layer 1 should have 128 nodes, a dropout rate of 20%, and relu as its activation function\n",
    "- Layer 2 should have 64 nodes, a dropout rate of 20%, and relu as its activation function\n",
    "- The last layer should map back to the 10 possible MNIST class. Use softmax as the activation\n",
    "\n"
   ]
  },
  {
   "cell_type": "code",
   "execution_count": 6,
   "metadata": {
    "id": "pgoOjxY9ki_O"
   },
   "outputs": [],
   "source": [
    "def build_model():\n",
    "    model = tf.keras.Sequential([\n",
    "       \n",
    "        tf.keras.layers.Dense(128, activation='relu'),\n",
    "        tf.keras.layers.Dropout(0.2),\n",
    "        tf.keras.layers.Dense(64, activation='relu'),\n",
    "        tf.keras.layers.Dropout(0.2),\n",
    "        tf.keras.layers.Dense(10, activation='softmax')\n",
    "    ])\n",
    "    return model\n",
    "\n",
    "model = build_model()"
   ]
  },
  {
   "cell_type": "markdown",
   "metadata": {
    "id": "vqv4in2ZodVR"
   },
   "source": [
    "# Model compilation\n",
    "\n",
    "- what loss function should you use?\n",
    "- Note your choice of optimizer\n",
    "- Include accuracy as a metric (why are we using accuracy here?)\n",
    "\n",
    "# Model training\n",
    "- Use a batch size of 128, and train for 12 epochs\n",
    "- Use verbose training, include validation data\n",
    "\n",
    "More information: https://keras.io/api/models/model_training_apis/\n"
   ]
  },
  {
   "cell_type": "code",
   "execution_count": 7,
   "metadata": {
    "id": "dHD6wIDlk095"
   },
   "outputs": [
    {
     "name": "stdout",
     "output_type": "stream",
     "text": [
      "Epoch 1/12\n",
      "274/274 [==============================] - 4s 9ms/step - loss: 0.5784 - accuracy: 0.8238 - val_loss: 0.2321 - val_accuracy: 0.9297\n",
      "Epoch 2/12\n",
      "274/274 [==============================] - 2s 8ms/step - loss: 0.2473 - accuracy: 0.9277 - val_loss: 0.1696 - val_accuracy: 0.9498\n",
      "Epoch 3/12\n",
      "274/274 [==============================] - 2s 8ms/step - loss: 0.1886 - accuracy: 0.9430 - val_loss: 0.1425 - val_accuracy: 0.9574\n",
      "Epoch 4/12\n",
      "274/274 [==============================] - 2s 8ms/step - loss: 0.1519 - accuracy: 0.9545 - val_loss: 0.1292 - val_accuracy: 0.9619\n",
      "Epoch 5/12\n",
      "274/274 [==============================] - 2s 8ms/step - loss: 0.1293 - accuracy: 0.9599 - val_loss: 0.1115 - val_accuracy: 0.9659\n",
      "Epoch 6/12\n",
      "274/274 [==============================] - 2s 8ms/step - loss: 0.1107 - accuracy: 0.9656 - val_loss: 0.1111 - val_accuracy: 0.9672\n",
      "Epoch 7/12\n",
      "274/274 [==============================] - 2s 8ms/step - loss: 0.0960 - accuracy: 0.9699 - val_loss: 0.1069 - val_accuracy: 0.9688\n",
      "Epoch 8/12\n",
      "274/274 [==============================] - 2s 8ms/step - loss: 0.0865 - accuracy: 0.9733 - val_loss: 0.1031 - val_accuracy: 0.9701\n",
      "Epoch 9/12\n",
      "274/274 [==============================] - 2s 7ms/step - loss: 0.0787 - accuracy: 0.9749 - val_loss: 0.1043 - val_accuracy: 0.9696\n",
      "Epoch 10/12\n",
      "274/274 [==============================] - 2s 8ms/step - loss: 0.0713 - accuracy: 0.9768 - val_loss: 0.0974 - val_accuracy: 0.9718\n",
      "Epoch 11/12\n",
      "274/274 [==============================] - 2s 8ms/step - loss: 0.0653 - accuracy: 0.9794 - val_loss: 0.0927 - val_accuracy: 0.9737\n",
      "Epoch 12/12\n",
      "274/274 [==============================] - 2s 8ms/step - loss: 0.0619 - accuracy: 0.9801 - val_loss: 0.0966 - val_accuracy: 0.9719\n"
     ]
    }
   ],
   "source": [
    "def compile_model(model):\n",
    "    model.compile(loss='categorical_crossentropy',\n",
    "                  optimizer=tf.keras.optimizers.Adam(),\n",
    "                  metrics=['accuracy'])\n",
    "    return model\n",
    "\n",
    "def train_model(model, X_train, Y_train, X_val, Y_val):\n",
    "    history = model.fit(X_train, Y_train, batch_size=128, epochs=12,\n",
    "                        validation_data=(X_val, Y_val), verbose=1)\n",
    "    return model, history\n",
    "\n",
    "model = build_model()\n",
    "model = compile_model(model)\n",
    "model, history = train_model(model, X_train, Y_train, X_val, Y_val)"
   ]
  },
  {
   "cell_type": "markdown",
   "metadata": {
    "id": "v6wzs18_ormL"
   },
   "source": [
    "# Model evaluation\n",
    "- Show the performance on the test set\n",
    "- What is the difference between \"evaluate\" and \"predict\"?\n",
    "- Identify a few images the model classifies incorrectly. Any observations?"
   ]
  },
  {
   "cell_type": "code",
   "execution_count": 8,
   "metadata": {
    "id": "jxrqJb9Uk3Hz"
   },
   "outputs": [
    {
     "name": "stdout",
     "output_type": "stream",
     "text": [
      "Test loss: 0.09283290058374405\n",
      "Test accuracy: 0.9732857346534729\n"
     ]
    }
   ],
   "source": [
    "def eval_model(model, X_test, Y_test):\n",
    "    test_loss, test_accuracy = model.evaluate(X_test, Y_test, verbose=0)\n",
    "    print('Test loss:', test_loss)\n",
    "    print('Test accuracy:', test_accuracy)\n",
    "\n",
    "\n",
    "    return test_loss, test_accuracy\n",
    "\n",
    "test_loss, test_accuracy = eval_model(model, X_test, Y_test)"
   ]
  },
  {
   "cell_type": "markdown",
   "metadata": {
    "id": "u21sXyjWpnPX"
   },
   "source": [
    "## Further exploration (Not evaluated)\n",
    "Looking for something else  to do?\n",
    "- Transform your code to do hyperparameter search. \n",
    "- You can vary the number of nodes in the layers, the drop out rate, the optimizer and the parameters in Adam, the batch size, etc.\n"
   ]
  }
 ],
 "metadata": {
  "colab": {
   "provenance": []
  },
  "kernelspec": {
   "display_name": "Python 3 (ipykernel)",
   "language": "python",
   "name": "python3"
  },
  "language_info": {
   "codemirror_mode": {
    "name": "ipython",
    "version": 3
   },
   "file_extension": ".py",
   "mimetype": "text/x-python",
   "name": "python",
   "nbconvert_exporter": "python",
   "pygments_lexer": "ipython3",
   "version": "3.9.13"
  }
 },
 "nbformat": 4,
 "nbformat_minor": 1
}
